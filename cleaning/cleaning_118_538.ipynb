{
 "cells": [
  {
   "cell_type": "markdown",
   "metadata": {},
   "source": [
    "# 118th Congress Data"
   ]
  },
  {
   "cell_type": "markdown",
   "metadata": {},
   "source": [
    "This notebook is meant to call, clean, and examine data from the 2022 redistricting process, to compare to previous years and examine fairness across maps.\n",
    "\n",
    "It feeds into a larger project about fairness in redistricting; for instance, if an R+15 district is unattainable for a Democrat to win, then the district can be wholly classified as \"safe,\" and should be bucketed with R+30 district. When data from previous years is projected onto this map, hopefully it will generate a picture of the relative fairness of these maps in context with their previous counterparts."
   ]
  },
  {
   "cell_type": "markdown",
   "metadata": {},
   "source": [
    "## Upload data from 538"
   ]
  },
  {
   "cell_type": "markdown",
   "metadata": {},
   "source": [
    "This project originally pulled all data from 538; however, after noticing inconsistencies with PVI (likely caused by too much rounding by 538 and then by me), this has become a secondary data source for gaps in the primary dataset collected through Dave's Redistricting\n",
    "\n",
    "Source Link: https://projects.fivethirtyeight.com/redistricting-2022-maps/"
   ]
  },
  {
   "cell_type": "markdown",
   "metadata": {},
   "source": [
    "The most recent version of this dataset was pulled in March 2022, prior to the release of MO and NH"
   ]
  },
  {
   "cell_type": "code",
   "execution_count": 1,
   "metadata": {},
   "outputs": [],
   "source": [
    "import requests\n",
    "import pandas as pd\n",
    "import numpy as np\n",
    "pd.set_option(\"display.max_rows\", None, \"display.max_columns\", None)"
   ]
  },
  {
   "cell_type": "code",
   "execution_count": 2,
   "metadata": {},
   "outputs": [],
   "source": [
    "read_538 = pd.read_csv(\"/Users/xavier/Desktop/DSPP/solo_projects/redistricting_project/raw_data/redistricting_data_2021_6.csv\")"
   ]
  },
  {
   "cell_type": "code",
   "execution_count": 3,
   "metadata": {},
   "outputs": [],
   "source": [
    "#correct florida\n",
    "read_538[\"map_approved\"] = np.where(read_538[\"map\"]==\"P000C0109\", True, read_538[\"map_approved\"])\n",
    "#maryland new map is \"SB1012\""
   ]
  },
  {
   "cell_type": "markdown",
   "metadata": {},
   "source": [
    "## Clean and Organize the District Data"
   ]
  },
  {
   "cell_type": "code",
   "execution_count": 4,
   "metadata": {},
   "outputs": [],
   "source": [
    "import plotnine as p9\n",
    "import warnings\n",
    "warnings.filterwarnings('ignore')"
   ]
  },
  {
   "cell_type": "code",
   "execution_count": 5,
   "metadata": {},
   "outputs": [
    {
     "name": "stdout",
     "output_type": "stream",
     "text": [
      "  state  map   district          metric      value  map_approved\n",
      "0    AK  117         AL             pvi -14.620280          True\n",
      "1    AK  117         AL     competitive   0.000000          True\n",
      "2    AK  117  statewide  efficiency_gap -39.476448          True\n",
      "3    AK  117  statewide          median   0.000000          True\n",
      "4    AL  117         01     competitive   0.000000         False\n",
      "5    AL  117         01             pvi -31.938510         False\n",
      "6    AL  117         02     competitive   0.000000         False\n",
      "7    AL  117         02             pvi -33.012810         False\n",
      "(26611, 6)\n"
     ]
    }
   ],
   "source": [
    "#check the data\n",
    "pvi_118 = read_538\n",
    "print(pvi_118.head(n=8))\n",
    "print(pvi_118.shape)"
   ]
  },
  {
   "cell_type": "code",
   "execution_count": 6,
   "metadata": {},
   "outputs": [
    {
     "data": {
      "text/plain": [
       "(425, 6)"
      ]
     },
     "execution_count": 6,
     "metadata": {},
     "output_type": "execute_result"
    }
   ],
   "source": [
    "#eliminate unapproved and dated maps\n",
    "pvi_118 = pvi_118[pvi_118[\"map_approved\"] == True]\n",
    "#import previously disposed of maps\n",
    "XOH = read_538[read_538[\"map\"] == \"senate_gop_proposal_2\"]\n",
    "XOH.state = \"XOH\"\n",
    "XNC = read_538[read_538[\"map\"] == \"cst_13\"]\n",
    "XNC.state = \"XNC\"\n",
    "XMD = read_538[(read_538[\"map\"] == \"final_plan\") & (read_538[\"state\"] == \"MD\")]\n",
    "XMD.state = \"XMD\"\n",
    "#pvi_118 = pd.concat([pvi_118,XNC,XOH,XMD])\n",
    "#limit to only the pvi rows (it includes several other types of data per proposed district)\n",
    "pvi_118 = pvi_118[pvi_118[\"metric\"] == \"pvi\"]\n",
    "pvi_118.shape"
   ]
  },
  {
   "cell_type": "code",
   "execution_count": 7,
   "metadata": {},
   "outputs": [
    {
     "data": {
      "text/plain": [
       "(48,)"
      ]
     },
     "execution_count": 7,
     "metadata": {},
     "output_type": "execute_result"
    }
   ],
   "source": [
    "pvi_118.state.unique().shape\n",
    "#Missing NH and MO, who have yet to update their maps"
   ]
  },
  {
   "cell_type": "code",
   "execution_count": 8,
   "metadata": {},
   "outputs": [],
   "source": [
    "#remove zeroes from the district number to match formats\n",
    "pvi_118[\"district\"] = pvi_118['district'].str.lstrip(\"0\")\n",
    "#create an ST column\n",
    "pvi_118 = pvi_118.rename(columns={\"state\": \"ST\"})\n",
    "#create the district code variable\n",
    "pvi_118[\"ST#\"] = pvi_118[\"ST\"] + pvi_118[\"district\"]"
   ]
  },
  {
   "cell_type": "code",
   "execution_count": 9,
   "metadata": {},
   "outputs": [
    {
     "data": {
      "text/plain": [
       "array(['R', 'D'], dtype=object)"
      ]
     },
     "execution_count": 9,
     "metadata": {},
     "output_type": "execute_result"
    }
   ],
   "source": [
    "#pull out district lean\n",
    "pvi_118[\"lean\"] = np.where(pvi_118[\"value\"] <= 0, \"R\", \"D\")\n",
    "pvi_118[\"lean\"].unique()\n",
    "#create a standard PVI column and a rounded PVI Value column\n",
    "#pvi_118[\"pvi_value\"] = round((abs(pvi_118[\"value\"])),0).map(str).str.rstrip(\".0\")\n",
    "#pvi_118[\"PVI\"] = pvi_118.lean + \"+\" + pvi_118.pvi_value\n",
    "#the metric is a decimal representation  of PVI from 0 to 1\n",
    "#pvi_118[\"metric\"] = ((-1*(round(pvi_118['value']/2))) + 50) / 100"
   ]
  },
  {
   "cell_type": "code",
   "execution_count": 10,
   "metadata": {},
   "outputs": [],
   "source": [
    "#add static datapoints\n",
    "pvi_118[\"year\"] = 2022\n",
    "pvi_118[\"congress\"] = 118"
   ]
  },
  {
   "cell_type": "code",
   "execution_count": 11,
   "metadata": {},
   "outputs": [],
   "source": [
    "#create a standard PVI column and a rounded PVI Value column\n",
    "pvi_118[\"pvi_value\"] = round((abs(pvi_118[\"value\"]/2)),0)\n",
    "pvi_118[\"PVI\"] = pvi_118.lean + \"+\" + pvi_118.pvi_value.map(str)\n",
    "pvi_118[\"PVI\"] = pvi_118[\"PVI\"].str.split(\".\").str[0]\n",
    "pvi_118[\"PVI\"] = np.where(pvi_118[\"PVI\"].str[-1] == \"+0\", 'EVEN', pvi_118[\"PVI\"])\n",
    "#the metric is a decimal representation  of PVI from 0 to 1\n",
    "pvi_118[\"pvi_value\"] = np.where(pvi_118[\"value\"] < 0, -1*pvi_118[\"pvi_value\"],pvi_118[\"pvi_value\"])\n",
    "pvi_118[\"metric\"] = ((-1*(round(pvi_118['pvi_value']))) + 50) / 100"
   ]
  },
  {
   "cell_type": "markdown",
   "metadata": {},
   "source": [
    "## Export clean versions of the data"
   ]
  },
  {
   "cell_type": "code",
   "execution_count": 12,
   "metadata": {},
   "outputs": [],
   "source": [
    "#create exclusion for OV maps\n",
    "ov_maps = [\"XOH\",\"XNC\",\"XMD\",\"XNY\",\"XKS\"]\n",
    "#export the 538 Whole dataset\n",
    "data_118 = pvi_118[-pvi_118[\"ST\"].isin(ov_maps)]\n",
    "data_118 = data_118[[\"year\",\"congress\",\"ST\",\"ST#\",\"PVI\",\"metric\"]]\n",
    "data_118.to_csv(\"/Users/xavier/Desktop/DSPP/solo_projects/redistricting_project/clean_data/supplimental/data_118_538.csv\",index=False)"
   ]
  },
  {
   "cell_type": "code",
   "execution_count": 13,
   "metadata": {},
   "outputs": [],
   "source": [
    "#export OV maps seperatley\n",
    "overturned_maps = pvi_118[pvi_118[\"ST\"].isin(ov_maps)]\n",
    "overturned_maps = overturned_maps[[\"year\",\"congress\",\"ST\",\"ST#\",\"PVI\",\"metric\"]]\n",
    "overturned_maps.to_csv(\"/Users/xavier/Desktop/DSPP/solo_projects/redistricting_project/clean_data/supplimental/ovs_118.csv\",index=False)"
   ]
  },
  {
   "cell_type": "markdown",
   "metadata": {},
   "source": [
    "# Create a Dataset for Incomplete States"
   ]
  },
  {
   "cell_type": "code",
   "execution_count": 14,
   "metadata": {},
   "outputs": [],
   "source": [
    "#create a dataset exclusively for unfinished state maps\n",
    "prev_states = [\"NH\",\"MO\"]\n",
    "unfinished = read_538[read_538[\"state\"].isin(prev_states)]\n",
    "NH = unfinished[unfinished[\"map\"] == \"governors_proposal\"] #alt \"house_gop_proposal\"\n",
    "MO = unfinished[unfinished[\"map\"] == \"senate_amendment_6\"]\n",
    "previews = pd.concat([NH,MO])\n",
    "previews = previews[previews['metric'] == 'pvi']\n",
    "#clean the data as we did for the whole set\n",
    "previews[\"district\"] = previews['district'].str.lstrip(\"0\")\n",
    "#create an ST column\n",
    "previews = previews.rename(columns={\"state\": \"ST\"})\n",
    "#create the district code variable\n",
    "previews[\"ST#\"] = previews[\"ST\"] + previews[\"district\"]\n",
    "previews[\"lean\"] = np.where(previews[\"value\"] <= 0, \"R\", \"D\")"
   ]
  },
  {
   "cell_type": "code",
   "execution_count": 15,
   "metadata": {},
   "outputs": [],
   "source": [
    "#create a standard PVI column and a rounded PVI Value column\n",
    "previews[\"pvi_value\"] = round((abs(previews[\"value\"]/2)),0)\n",
    "previews[\"PVI\"] = previews.lean + \"+\" + previews.pvi_value.map(str)\n",
    "previews[\"PVI\"] = previews[\"PVI\"].str.split(\".\").str[0]\n",
    "previews[\"PVI\"] = np.where(previews[\"PVI\"].str[-1] == \"+0\", 'EVEN', previews[\"PVI\"])\n",
    "#the metric is a decimal representation  of PVI from 0 to 1\n",
    "previews[\"pvi_value\"] = np.where(previews[\"value\"] < 0, -1*previews[\"pvi_value\"],previews[\"pvi_value\"])\n",
    "previews[\"metric\"] = ((-1*(round(previews['pvi_value']))) + 50) / 100"
   ]
  },
  {
   "cell_type": "code",
   "execution_count": 16,
   "metadata": {},
   "outputs": [],
   "source": [
    "#pull out district lean\n",
    "#previews[\"lean\"] = np.where(previews[\"value\"] <= 0, \"R\", \"D\")\n",
    "#previews[\"lean\"].unique()\n",
    "#create a standard PVI column and a rounded PVI Value column\n",
    "#previews[\"pvi_value\"] = round((abs(previews[\"value\"])),0).map(str).str.rstrip(\".0\")\n",
    "#previews[\"PVI\"] = previews.lean + \"+\" + previews.pvi_value\n",
    "#the metric is a decimal representation  of PVI from 0 to 1\n",
    "#previews[\"metric\"] = ((-1*(round(previews['value']/2))) + 50) / 100"
   ]
  },
  {
   "cell_type": "code",
   "execution_count": 17,
   "metadata": {},
   "outputs": [],
   "source": [
    "\n",
    "#rename the metric column to match the other datasets\n",
    "#the metric is a decimal representation  of PVI from 0 to 1\n",
    "previews[\"metric\"] = ((-1*(round(previews['pvi_value']))) + 50) / 100\n",
    "#add static points\n",
    "previews[\"year\"] = 2022\n",
    "previews[\"congress\"] = 118\n",
    "#simplify\n",
    "pre_maps = previews[[\"year\",\"congress\",\"ST\",\"ST#\",\"PVI\",\"metric\"]]\n",
    "#pre_maps.ST = pre_maps.ST + \" (Anticipated)\"\n",
    "#now that the dataset reflects the original, we can exportit very\n",
    "pre_maps.to_csv(\"/Users/xavier/Desktop/DSPP/solo_projects/redistricting_project/clean_data/supplimental/previews_118.csv\",index=False)"
   ]
  },
  {
   "cell_type": "code",
   "execution_count": 18,
   "metadata": {},
   "outputs": [
    {
     "data": {
      "text/plain": [
       "array(['NH', 'MO'], dtype=object)"
      ]
     },
     "execution_count": 18,
     "metadata": {},
     "output_type": "execute_result"
    }
   ],
   "source": [
    "previews.ST.unique()"
   ]
  }
 ],
 "metadata": {
  "kernelspec": {
   "display_name": "Python 3",
   "language": "python",
   "name": "python3"
  },
  "language_info": {
   "codemirror_mode": {
    "name": "ipython",
    "version": 3
   },
   "file_extension": ".py",
   "mimetype": "text/x-python",
   "name": "python",
   "nbconvert_exporter": "python",
   "pygments_lexer": "ipython3",
   "version": "3.8.5"
  }
 },
 "nbformat": 4,
 "nbformat_minor": 4
}
