{
 "cells": [
  {
   "cell_type": "markdown",
   "metadata": {},
   "source": [
    "# 110th Congress Data"
   ]
  },
  {
   "cell_type": "markdown",
   "metadata": {},
   "source": [
    "This notebook is meant to call, clean, and examine data from the 2006 election, to produce a viable metric correlating PVI and electoral success.\n",
    "\n",
    "It feeds into a larger project about fairness in redistricting; for instance, if an R+15 district is unattainable for a Democrat to win, then the district can be wholly classified as \"safe,\" and should be bucketed with R+30 district.\n",
    "\n",
    "The nuance enters in the margins. How safe is an R+6 district for instance? Can we quantify a district moving from R+3 to R+6 as a significant bias against Democrats? By cleaning this dataset, and others like it, we can determine the predictive power of PVI in each district, and use those probabilities later to assess redistricting fairness."
   ]
  },
  {
   "cell_type": "markdown",
   "metadata": {},
   "source": [
    "## Retrieve data from Wikipedia"
   ]
  },
  {
   "cell_type": "markdown",
   "metadata": {},
   "source": [
    "Wikipedia's current Cook PVI page contains a free and current (up to 2020 election results) version of the index, where free downloads from Cook's website are dated, containing 2018 results and 2016 PVI metrics"
   ]
  },
  {
   "cell_type": "code",
   "execution_count": 1,
   "metadata": {},
   "outputs": [],
   "source": [
    "import requests\n",
    "import pandas as pd\n",
    "pd.set_option(\"display.max_rows\", None, \"display.max_columns\", None)"
   ]
  },
  {
   "cell_type": "code",
   "execution_count": 2,
   "metadata": {},
   "outputs": [],
   "source": [
    "#import and format url\n",
    "url = \"https://web.archive.org/web/20080821045325/https://en.wikipedia.org/wiki/Cook_Partisan_Voting_Index\"\n",
    "page = pd.read_html(url)\n",
    "dat = pd.concat(page,ignore_index=True)"
   ]
  },
  {
   "cell_type": "code",
   "execution_count": 3,
   "metadata": {},
   "outputs": [
    {
     "name": "stdout",
     "output_type": "stream",
     "text": [
      "Index(['State  ', 'PVI  '], dtype='object')\n",
      "Index(['State  ', 'District', 'PVI  ', 'Party\\nin Congress  '], dtype='object')\n"
     ]
    }
   ],
   "source": [
    "#split data into state and district pvis\n",
    "    #wiki_district = dat[7:443]\n",
    "    #wiki_state = dat[448:]\n",
    "#Scraping is not functional, load in via csv\n",
    "wiki_district = pd.read_csv(\"/Users/xavier/Desktop/DSPP/solo_projects/redistricting_project/raw_data/pvi_110.csv\")\n",
    "wiki_state = pd.read_csv(\"/Users/xavier/Desktop/DSPP/solo_projects/redistricting_project/raw_data/state_110.csv\")\n",
    "print(wiki_state.columns)\n",
    "print(wiki_district.columns)"
   ]
  },
  {
   "cell_type": "code",
   "execution_count": 4,
   "metadata": {},
   "outputs": [
    {
     "name": "stdout",
     "output_type": "stream",
     "text": [
      "Index(['State', 'PVI'], dtype='object')\n",
      "Index(['State', 'District', 'PVI', 'Representative'], dtype='object')\n"
     ]
    }
   ],
   "source": [
    "#seeing issue with column names with spaces, rename columns\n",
    "wiki_state.columns = ['State', 'PVI']\n",
    "wiki_district.columns = ['State', 'District', 'PVI', 'Representative']\n",
    "print(wiki_state.columns)\n",
    "print(wiki_district.columns)"
   ]
  },
  {
   "cell_type": "code",
   "execution_count": 5,
   "metadata": {},
   "outputs": [],
   "source": [
    "#cut NA columns\n",
    "wiki_district = wiki_district.dropna(axis=1, how='any', thresh=None, subset=None, inplace=False)\n",
    "wiki_state = wiki_state.dropna(axis=1, how='any', thresh=None, subset=None, inplace=False)\n",
    "#remove DC from the state list\n",
    "wiki_state = wiki_state[wiki_state.State != \"District of Columbia\"].reset_index()"
   ]
  },
  {
   "cell_type": "code",
   "execution_count": 6,
   "metadata": {},
   "outputs": [
    {
     "name": "stdout",
     "output_type": "stream",
     "text": [
      "       State  District   PVI Representative\n",
      "434  Wyoming  At-large  R+19     Republican\n",
      "     State District   PVI Representative\n",
      "0  Alabama      1st  R+12     Republican\n",
      "    index    State   PVI\n",
      "49     50  Wyoming  R+19\n",
      "   index    State  PVI\n",
      "0      0  Alabama  R+8\n"
     ]
    }
   ],
   "source": [
    "#check the various datasets\n",
    "print(wiki_district.tail(1))\n",
    "print(wiki_district.head(1))\n",
    "print(wiki_state.tail(1))\n",
    "print(wiki_state.head(1))"
   ]
  },
  {
   "cell_type": "markdown",
   "metadata": {},
   "source": [
    "## Clean and Organize State Data"
   ]
  },
  {
   "cell_type": "code",
   "execution_count": 7,
   "metadata": {},
   "outputs": [],
   "source": [
    "#call in a dictionary of state abbreviations\n",
    "us_state_to_abbrev = {\n",
    "    \"Alabama\": \"AL\",\n",
    "    \"Alaska\": \"AK\",\n",
    "    \"Arizona\": \"AZ\",\n",
    "    \"Arkansas\": \"AR\",\n",
    "    \"California\": \"CA\",\n",
    "    \"Colorado\": \"CO\",\n",
    "    \"Connecticut\": \"CT\",\n",
    "    \"Delaware\": \"DE\",\n",
    "    \"Florida\": \"FL\",\n",
    "    \"Georgia\": \"GA\",\n",
    "    \"Hawaii\": \"HI\",\n",
    "    \"Idaho\": \"ID\",\n",
    "    \"Illinois\": \"IL\",\n",
    "    \"Indiana\": \"IN\",\n",
    "    \"Iowa\": \"IA\",\n",
    "    \"Kansas\": \"KS\",\n",
    "    \"Kentucky\": \"KY\",\n",
    "    \"Louisiana\": \"LA\",\n",
    "    \"Maine\": \"ME\",\n",
    "    \"Maryland\": \"MD\",\n",
    "    \"Massachusetts\": \"MA\",\n",
    "    \"Michigan\": \"MI\",\n",
    "    \"Minnesota\": \"MN\",\n",
    "    \"Mississippi\": \"MS\",\n",
    "    \"Missouri\": \"MO\",\n",
    "    \"Montana\": \"MT\",\n",
    "    \"Nebraska\": \"NE\",\n",
    "    \"Nevada\": \"NV\",\n",
    "    \"New Hampshire\": \"NH\",\n",
    "    \"New Jersey\": \"NJ\",\n",
    "    \"New Mexico\": \"NM\",\n",
    "    \"New York\": \"NY\",\n",
    "    \"North Carolina\": \"NC\",\n",
    "    \"North Dakota\": \"ND\",\n",
    "    \"Ohio\": \"OH\",\n",
    "    \"Oklahoma\": \"OK\",\n",
    "    \"Oregon\": \"OR\",\n",
    "    \"Pennsylvania\": \"PA\",\n",
    "    \"Rhode Island\": \"RI\",\n",
    "    \"South Carolina\": \"SC\",\n",
    "    \"South Dakota\": \"SD\",\n",
    "    \"Tennessee\": \"TN\",\n",
    "    \"Texas\": \"TX\",\n",
    "    \"Utah\": \"UT\",\n",
    "    \"Vermont\": \"VT\",\n",
    "    \"Virginia\": \"VA\",\n",
    "    \"Washington\": \"WA\",\n",
    "    \"West Virginia\": \"WV\",\n",
    "    \"Wisconsin\": \"WI\",\n",
    "    \"Wyoming\": \"WY\",\n",
    "    \"District of Columbia\": \"DC\",\n",
    "    \"American Samoa\": \"AS\",\n",
    "    \"Guam\": \"GU\",\n",
    "    \"Northern Mariana Islands\": \"MP\",\n",
    "    \"Puerto Rico\": \"PR\",\n",
    "    \"United States Minor Outlying Islands\": \"UM\",\n",
    "    \"U.S. Virgin Islands\": \"VI\",\n",
    "}"
   ]
  },
  {
   "cell_type": "code",
   "execution_count": 8,
   "metadata": {},
   "outputs": [
    {
     "name": "stdout",
     "output_type": "stream",
     "text": [
      "['AL' 'AK' 'AZ' 'AR' 'CA' 'CO' 'CT' 'DE' 'FL' 'GA' 'HI' 'ID' 'IL' 'IN'\n",
      " 'IA' 'KS' 'KY' 'LA' 'ME' 'MD' 'MA' 'MI' 'MN' 'MS' 'MO' 'MT' 'NE' 'NV'\n",
      " 'NH' 'NJ' 'NM' 'NY' 'NC' 'ND' 'OH' 'OK' 'OR' 'PA' 'RI' 'SC' 'SD' 'TN'\n",
      " 'TX' 'UT' 'VT' 'VA' 'WA' 'WV' 'WI' 'WY']\n"
     ]
    }
   ],
   "source": [
    "state_110 = wiki_state\n",
    "state_110[\"ST\"] =  state_110[\"State\"]\n",
    "#abbreviate the ST coulmn\n",
    "state_110 = state_110.replace({\"ST\": us_state_to_abbrev})\n",
    "#check that both ST and num function apropriatley\n",
    "print(state_110[\"ST\"].unique())"
   ]
  },
  {
   "cell_type": "code",
   "execution_count": 9,
   "metadata": {},
   "outputs": [
    {
     "name": "stdout",
     "output_type": "stream",
     "text": [
      "   index    State  PVI  ST pvi_party partisan_weight\n",
      "0      0  Alabama  R+8  AL         R               8\n",
      "['R' 'D']\n"
     ]
    }
   ],
   "source": [
    "#split out pvi by party and weight\n",
    "#first eliminate even values\n",
    "state_110[\"PVI\"] = state_110[\"PVI\"].str.replace(\"EVEN\",\"R+0\")\n",
    "state_110[\"PVI\"] = state_110[\"PVI\"].str.replace(\"D+0\",\"R+0\")\n",
    "state_110[\"pvi_party\"] = state_110.PVI.str[0]\n",
    "state_110['partisan_weight'] = state_110['PVI'].str.split('+').str[1]\n",
    "#check results\n",
    "print(state_110.head(n=1))\n",
    "print(state_110[\"pvi_party\"].unique())"
   ]
  },
  {
   "cell_type": "code",
   "execution_count": 10,
   "metadata": {},
   "outputs": [],
   "source": [
    "#add constants for later aggregation\n",
    "state_110[\"year\"] = 2006\n",
    "state_110[\"congress\"] = 110"
   ]
  },
  {
   "cell_type": "code",
   "execution_count": 11,
   "metadata": {},
   "outputs": [],
   "source": [
    "#create a variable that is negative when the party is democratic\n",
    "state_110[\"neg\"] = state_110['pvi_party'].str.replace('D','-')\n",
    "state_110[\"neg\"] = state_110[\"neg\"].str.replace('R','')\n",
    "#ensure partisan weight has a negative value for democratic leaning and a positive value for Republican leaning\n",
    "state_110['partisan_weight'] = state_110[\"neg\"] + state_110['partisan_weight']\n",
    "#ensure values are integers\n",
    "state_110['partisan_weight'] = state_110['partisan_weight'].astype(int)"
   ]
  },
  {
   "cell_type": "code",
   "execution_count": 12,
   "metadata": {},
   "outputs": [
    {
     "data": {
      "text/html": [
       "<div>\n",
       "<style scoped>\n",
       "    .dataframe tbody tr th:only-of-type {\n",
       "        vertical-align: middle;\n",
       "    }\n",
       "\n",
       "    .dataframe tbody tr th {\n",
       "        vertical-align: top;\n",
       "    }\n",
       "\n",
       "    .dataframe thead th {\n",
       "        text-align: right;\n",
       "    }\n",
       "</style>\n",
       "<table border=\"1\" class=\"dataframe\">\n",
       "  <thead>\n",
       "    <tr style=\"text-align: right;\">\n",
       "      <th></th>\n",
       "      <th>index</th>\n",
       "      <th>State</th>\n",
       "      <th>PVI</th>\n",
       "      <th>ST</th>\n",
       "      <th>pvi_party</th>\n",
       "      <th>partisan_weight</th>\n",
       "      <th>year</th>\n",
       "      <th>congress</th>\n",
       "      <th>neg</th>\n",
       "      <th>metric</th>\n",
       "    </tr>\n",
       "  </thead>\n",
       "  <tbody>\n",
       "    <tr>\n",
       "      <th>0</th>\n",
       "      <td>0</td>\n",
       "      <td>Alabama</td>\n",
       "      <td>R+8</td>\n",
       "      <td>AL</td>\n",
       "      <td>R</td>\n",
       "      <td>8</td>\n",
       "      <td>2006</td>\n",
       "      <td>110</td>\n",
       "      <td></td>\n",
       "      <td>0.540</td>\n",
       "    </tr>\n",
       "    <tr>\n",
       "      <th>1</th>\n",
       "      <td>1</td>\n",
       "      <td>Alaska</td>\n",
       "      <td>R+14</td>\n",
       "      <td>AK</td>\n",
       "      <td>R</td>\n",
       "      <td>14</td>\n",
       "      <td>2006</td>\n",
       "      <td>110</td>\n",
       "      <td></td>\n",
       "      <td>0.570</td>\n",
       "    </tr>\n",
       "    <tr>\n",
       "      <th>2</th>\n",
       "      <td>2</td>\n",
       "      <td>Arizona</td>\n",
       "      <td>R+1</td>\n",
       "      <td>AZ</td>\n",
       "      <td>R</td>\n",
       "      <td>1</td>\n",
       "      <td>2006</td>\n",
       "      <td>110</td>\n",
       "      <td></td>\n",
       "      <td>0.505</td>\n",
       "    </tr>\n",
       "    <tr>\n",
       "      <th>3</th>\n",
       "      <td>3</td>\n",
       "      <td>Arkansas</td>\n",
       "      <td>R+3</td>\n",
       "      <td>AR</td>\n",
       "      <td>R</td>\n",
       "      <td>3</td>\n",
       "      <td>2006</td>\n",
       "      <td>110</td>\n",
       "      <td></td>\n",
       "      <td>0.515</td>\n",
       "    </tr>\n",
       "    <tr>\n",
       "      <th>4</th>\n",
       "      <td>4</td>\n",
       "      <td>California</td>\n",
       "      <td>D+6</td>\n",
       "      <td>CA</td>\n",
       "      <td>D</td>\n",
       "      <td>-6</td>\n",
       "      <td>2006</td>\n",
       "      <td>110</td>\n",
       "      <td>-</td>\n",
       "      <td>0.470</td>\n",
       "    </tr>\n",
       "    <tr>\n",
       "      <th>5</th>\n",
       "      <td>5</td>\n",
       "      <td>Colorado</td>\n",
       "      <td>R+1</td>\n",
       "      <td>CO</td>\n",
       "      <td>R</td>\n",
       "      <td>1</td>\n",
       "      <td>2006</td>\n",
       "      <td>110</td>\n",
       "      <td></td>\n",
       "      <td>0.505</td>\n",
       "    </tr>\n",
       "    <tr>\n",
       "      <th>6</th>\n",
       "      <td>6</td>\n",
       "      <td>Connecticut</td>\n",
       "      <td>D+9</td>\n",
       "      <td>CT</td>\n",
       "      <td>D</td>\n",
       "      <td>-9</td>\n",
       "      <td>2006</td>\n",
       "      <td>110</td>\n",
       "      <td>-</td>\n",
       "      <td>0.455</td>\n",
       "    </tr>\n",
       "  </tbody>\n",
       "</table>\n",
       "</div>"
      ],
      "text/plain": [
       "   index        State   PVI  ST pvi_party  partisan_weight  year  congress  \\\n",
       "0      0      Alabama   R+8  AL         R                8  2006       110   \n",
       "1      1       Alaska  R+14  AK         R               14  2006       110   \n",
       "2      2      Arizona   R+1  AZ         R                1  2006       110   \n",
       "3      3     Arkansas   R+3  AR         R                3  2006       110   \n",
       "4      4   California   D+6  CA         D               -6  2006       110   \n",
       "5      5     Colorado   R+1  CO         R                1  2006       110   \n",
       "6      6  Connecticut   D+9  CT         D               -9  2006       110   \n",
       "\n",
       "  neg  metric  \n",
       "0       0.540  \n",
       "1       0.570  \n",
       "2       0.505  \n",
       "3       0.515  \n",
       "4   -   0.470  \n",
       "5       0.505  \n",
       "6   -   0.455  "
      ]
     },
     "execution_count": 12,
     "metadata": {},
     "output_type": "execute_result"
    }
   ],
   "source": [
    "state_110[\"metric\"] = ((state_110['partisan_weight'] / 2) + 50) / 100\n",
    "state_110.head(n=7)"
   ]
  },
  {
   "cell_type": "code",
   "execution_count": 13,
   "metadata": {},
   "outputs": [],
   "source": [
    "state_110 = state_110[[\"year\",\"ST\",\"PVI\",\"metric\"]]\n",
    "state_109 = state_110\n",
    "state_110.to_csv(\"/Users/xavier/Desktop/DSPP/solo_projects/redistricting_project/clean_data/state_pvi/state_110.csv\",index=False)\n",
    "state_109.to_csv(\"/Users/xavier/Desktop/DSPP/solo_projects/redistricting_project/clean_data/state_pvi/state_109.csv\",index=False)"
   ]
  },
  {
   "cell_type": "code",
   "execution_count": 14,
   "metadata": {},
   "outputs": [
    {
     "data": {
      "text/html": [
       "<div>\n",
       "<style scoped>\n",
       "    .dataframe tbody tr th:only-of-type {\n",
       "        vertical-align: middle;\n",
       "    }\n",
       "\n",
       "    .dataframe tbody tr th {\n",
       "        vertical-align: top;\n",
       "    }\n",
       "\n",
       "    .dataframe thead th {\n",
       "        text-align: right;\n",
       "    }\n",
       "</style>\n",
       "<table border=\"1\" class=\"dataframe\">\n",
       "  <thead>\n",
       "    <tr style=\"text-align: right;\">\n",
       "      <th></th>\n",
       "      <th>year</th>\n",
       "      <th>ST</th>\n",
       "      <th>PVI</th>\n",
       "      <th>metric</th>\n",
       "    </tr>\n",
       "  </thead>\n",
       "  <tbody>\n",
       "    <tr>\n",
       "      <th>0</th>\n",
       "      <td>2006</td>\n",
       "      <td>AL</td>\n",
       "      <td>R+8</td>\n",
       "      <td>0.540</td>\n",
       "    </tr>\n",
       "    <tr>\n",
       "      <th>1</th>\n",
       "      <td>2006</td>\n",
       "      <td>AK</td>\n",
       "      <td>R+14</td>\n",
       "      <td>0.570</td>\n",
       "    </tr>\n",
       "    <tr>\n",
       "      <th>2</th>\n",
       "      <td>2006</td>\n",
       "      <td>AZ</td>\n",
       "      <td>R+1</td>\n",
       "      <td>0.505</td>\n",
       "    </tr>\n",
       "    <tr>\n",
       "      <th>3</th>\n",
       "      <td>2006</td>\n",
       "      <td>AR</td>\n",
       "      <td>R+3</td>\n",
       "      <td>0.515</td>\n",
       "    </tr>\n",
       "    <tr>\n",
       "      <th>4</th>\n",
       "      <td>2006</td>\n",
       "      <td>CA</td>\n",
       "      <td>D+6</td>\n",
       "      <td>0.470</td>\n",
       "    </tr>\n",
       "    <tr>\n",
       "      <th>5</th>\n",
       "      <td>2006</td>\n",
       "      <td>CO</td>\n",
       "      <td>R+1</td>\n",
       "      <td>0.505</td>\n",
       "    </tr>\n",
       "    <tr>\n",
       "      <th>6</th>\n",
       "      <td>2006</td>\n",
       "      <td>CT</td>\n",
       "      <td>D+9</td>\n",
       "      <td>0.455</td>\n",
       "    </tr>\n",
       "    <tr>\n",
       "      <th>7</th>\n",
       "      <td>2006</td>\n",
       "      <td>DE</td>\n",
       "      <td>D+7</td>\n",
       "      <td>0.465</td>\n",
       "    </tr>\n",
       "  </tbody>\n",
       "</table>\n",
       "</div>"
      ],
      "text/plain": [
       "   year  ST   PVI  metric\n",
       "0  2006  AL   R+8   0.540\n",
       "1  2006  AK  R+14   0.570\n",
       "2  2006  AZ   R+1   0.505\n",
       "3  2006  AR   R+3   0.515\n",
       "4  2006  CA   D+6   0.470\n",
       "5  2006  CO   R+1   0.505\n",
       "6  2006  CT   D+9   0.455\n",
       "7  2006  DE   D+7   0.465"
      ]
     },
     "execution_count": 14,
     "metadata": {},
     "output_type": "execute_result"
    }
   ],
   "source": [
    "state_110.head(8)"
   ]
  },
  {
   "cell_type": "markdown",
   "metadata": {},
   "source": [
    "## Clean and Organize the District Data"
   ]
  },
  {
   "cell_type": "code",
   "execution_count": 15,
   "metadata": {},
   "outputs": [],
   "source": [
    "import numpy as np\n",
    "import plotnine as p9\n",
    "from plotnine import ggplot, aes, facet_grid, labs, geom_point, geom_smooth\n",
    "from sklearn.linear_model import LinearRegression as lm\n",
    "import warnings\n",
    "warnings.filterwarnings('ignore')"
   ]
  },
  {
   "cell_type": "code",
   "execution_count": 16,
   "metadata": {},
   "outputs": [
    {
     "name": "stdout",
     "output_type": "stream",
     "text": [
      "     State District   PVI Representative\n",
      "0  Alabama      1st  R+12     Republican\n",
      "(435, 4)\n"
     ]
    }
   ],
   "source": [
    "#load in and check the data\n",
    "pvi_110 = wiki_district\n",
    "print(pvi_110.head(n=1))\n",
    "print(pvi_110.shape)"
   ]
  },
  {
   "cell_type": "code",
   "execution_count": 17,
   "metadata": {},
   "outputs": [],
   "source": [
    "#correct the column name for later use\n",
    "pvi_110 = pvi_110.rename(columns={\"Party of\\nRepresentative\": \"Representative\"})"
   ]
  },
  {
   "cell_type": "code",
   "execution_count": 18,
   "metadata": {},
   "outputs": [
    {
     "data": {
      "text/html": [
       "<div>\n",
       "<style scoped>\n",
       "    .dataframe tbody tr th:only-of-type {\n",
       "        vertical-align: middle;\n",
       "    }\n",
       "\n",
       "    .dataframe tbody tr th {\n",
       "        vertical-align: top;\n",
       "    }\n",
       "\n",
       "    .dataframe thead th {\n",
       "        text-align: right;\n",
       "    }\n",
       "</style>\n",
       "<table border=\"1\" class=\"dataframe\">\n",
       "  <thead>\n",
       "    <tr style=\"text-align: right;\">\n",
       "      <th></th>\n",
       "      <th>State</th>\n",
       "      <th>District</th>\n",
       "      <th>PVI</th>\n",
       "      <th>Representative</th>\n",
       "    </tr>\n",
       "  </thead>\n",
       "  <tbody>\n",
       "    <tr>\n",
       "      <th>0</th>\n",
       "      <td>Alabama</td>\n",
       "      <td>1st</td>\n",
       "      <td>R+12</td>\n",
       "      <td>Republican</td>\n",
       "    </tr>\n",
       "    <tr>\n",
       "      <th>1</th>\n",
       "      <td>Alabama</td>\n",
       "      <td>2nd</td>\n",
       "      <td>R+13</td>\n",
       "      <td>Republican</td>\n",
       "    </tr>\n",
       "    <tr>\n",
       "      <th>2</th>\n",
       "      <td>Alabama</td>\n",
       "      <td>3rd</td>\n",
       "      <td>R+4</td>\n",
       "      <td>Republican</td>\n",
       "    </tr>\n",
       "    <tr>\n",
       "      <th>3</th>\n",
       "      <td>Alabama</td>\n",
       "      <td>4th</td>\n",
       "      <td>R+16</td>\n",
       "      <td>Republican</td>\n",
       "    </tr>\n",
       "    <tr>\n",
       "      <th>4</th>\n",
       "      <td>Alabama</td>\n",
       "      <td>5th</td>\n",
       "      <td>R+6</td>\n",
       "      <td>Democratic</td>\n",
       "    </tr>\n",
       "    <tr>\n",
       "      <th>5</th>\n",
       "      <td>Alabama</td>\n",
       "      <td>6th</td>\n",
       "      <td>R+25</td>\n",
       "      <td>Republican</td>\n",
       "    </tr>\n",
       "    <tr>\n",
       "      <th>6</th>\n",
       "      <td>Alabama</td>\n",
       "      <td>7th</td>\n",
       "      <td>D+17</td>\n",
       "      <td>Democratic</td>\n",
       "    </tr>\n",
       "    <tr>\n",
       "      <th>7</th>\n",
       "      <td>Alaska</td>\n",
       "      <td>At-large</td>\n",
       "      <td>R+14</td>\n",
       "      <td>Republican</td>\n",
       "    </tr>\n",
       "  </tbody>\n",
       "</table>\n",
       "</div>"
      ],
      "text/plain": [
       "     State  District   PVI Representative\n",
       "0  Alabama       1st  R+12     Republican\n",
       "1  Alabama       2nd  R+13     Republican\n",
       "2  Alabama       3rd   R+4     Republican\n",
       "3  Alabama       4th  R+16     Republican\n",
       "4  Alabama       5th   R+6     Democratic\n",
       "5  Alabama       6th  R+25     Republican\n",
       "6  Alabama       7th  D+17     Democratic\n",
       "7   Alaska  At-large  R+14     Republican"
      ]
     },
     "execution_count": 18,
     "metadata": {},
     "output_type": "execute_result"
    }
   ],
   "source": [
    "#fix at large designation\n",
    "pvi_110['District'] = pvi_110['District'].str.replace('at-large','AL')\n",
    "pvi_110.head(n=8)"
   ]
  },
  {
   "cell_type": "code",
   "execution_count": 19,
   "metadata": {},
   "outputs": [
    {
     "data": {
      "text/html": [
       "<div>\n",
       "<style scoped>\n",
       "    .dataframe tbody tr th:only-of-type {\n",
       "        vertical-align: middle;\n",
       "    }\n",
       "\n",
       "    .dataframe tbody tr th {\n",
       "        vertical-align: top;\n",
       "    }\n",
       "\n",
       "    .dataframe thead th {\n",
       "        text-align: right;\n",
       "    }\n",
       "</style>\n",
       "<table border=\"1\" class=\"dataframe\">\n",
       "  <thead>\n",
       "    <tr style=\"text-align: right;\">\n",
       "      <th></th>\n",
       "      <th>State</th>\n",
       "      <th>District</th>\n",
       "      <th>PVI</th>\n",
       "      <th>Representative</th>\n",
       "    </tr>\n",
       "  </thead>\n",
       "  <tbody>\n",
       "    <tr>\n",
       "      <th>0</th>\n",
       "      <td>Alabama</td>\n",
       "      <td>1</td>\n",
       "      <td>R+12</td>\n",
       "      <td>Republican</td>\n",
       "    </tr>\n",
       "    <tr>\n",
       "      <th>1</th>\n",
       "      <td>Alabama</td>\n",
       "      <td>2</td>\n",
       "      <td>R+13</td>\n",
       "      <td>Republican</td>\n",
       "    </tr>\n",
       "    <tr>\n",
       "      <th>2</th>\n",
       "      <td>Alabama</td>\n",
       "      <td>3</td>\n",
       "      <td>R+4</td>\n",
       "      <td>Republican</td>\n",
       "    </tr>\n",
       "    <tr>\n",
       "      <th>3</th>\n",
       "      <td>Alabama</td>\n",
       "      <td>4</td>\n",
       "      <td>R+16</td>\n",
       "      <td>Republican</td>\n",
       "    </tr>\n",
       "    <tr>\n",
       "      <th>4</th>\n",
       "      <td>Alabama</td>\n",
       "      <td>5</td>\n",
       "      <td>R+6</td>\n",
       "      <td>Democratic</td>\n",
       "    </tr>\n",
       "    <tr>\n",
       "      <th>5</th>\n",
       "      <td>Alabama</td>\n",
       "      <td>6</td>\n",
       "      <td>R+25</td>\n",
       "      <td>Republican</td>\n",
       "    </tr>\n",
       "    <tr>\n",
       "      <th>6</th>\n",
       "      <td>Alabama</td>\n",
       "      <td>7</td>\n",
       "      <td>D+17</td>\n",
       "      <td>Democratic</td>\n",
       "    </tr>\n",
       "    <tr>\n",
       "      <th>7</th>\n",
       "      <td>Alaska</td>\n",
       "      <td>AL</td>\n",
       "      <td>R+14</td>\n",
       "      <td>Republican</td>\n",
       "    </tr>\n",
       "  </tbody>\n",
       "</table>\n",
       "</div>"
      ],
      "text/plain": [
       "     State District   PVI Representative\n",
       "0  Alabama        1  R+12     Republican\n",
       "1  Alabama        2  R+13     Republican\n",
       "2  Alabama        3   R+4     Republican\n",
       "3  Alabama        4  R+16     Republican\n",
       "4  Alabama        5   R+6     Democratic\n",
       "5  Alabama        6  R+25     Republican\n",
       "6  Alabama        7  D+17     Democratic\n",
       "7   Alaska       AL  R+14     Republican"
      ]
     },
     "execution_count": 19,
     "metadata": {},
     "output_type": "execute_result"
    }
   ],
   "source": [
    "#fix at large designation\n",
    "pvi_110['District'] = pvi_110['District'].str.replace('At-large','AL')\n",
    "pvi_110['District'] = pvi_110['District'].str.rstrip(\"st\")\n",
    "pvi_110['District'] = pvi_110['District'].str.rstrip(\"nd\")\n",
    "pvi_110['District'] = pvi_110['District'].str.rstrip(\"rd\")\n",
    "pvi_110['District'] = pvi_110['District'].str.rstrip(\"th\")\n",
    "pvi_110.head(n=8)"
   ]
  },
  {
   "cell_type": "code",
   "execution_count": 20,
   "metadata": {},
   "outputs": [
    {
     "data": {
      "text/html": [
       "<div>\n",
       "<style scoped>\n",
       "    .dataframe tbody tr th:only-of-type {\n",
       "        vertical-align: middle;\n",
       "    }\n",
       "\n",
       "    .dataframe tbody tr th {\n",
       "        vertical-align: top;\n",
       "    }\n",
       "\n",
       "    .dataframe thead th {\n",
       "        text-align: right;\n",
       "    }\n",
       "</style>\n",
       "<table border=\"1\" class=\"dataframe\">\n",
       "  <thead>\n",
       "    <tr style=\"text-align: right;\">\n",
       "      <th></th>\n",
       "      <th>State</th>\n",
       "      <th>District</th>\n",
       "      <th>PVI</th>\n",
       "      <th>Representative</th>\n",
       "      <th>num</th>\n",
       "      <th>ST</th>\n",
       "    </tr>\n",
       "  </thead>\n",
       "  <tbody>\n",
       "    <tr>\n",
       "      <th>0</th>\n",
       "      <td>Alabama</td>\n",
       "      <td>1</td>\n",
       "      <td>R+12</td>\n",
       "      <td>Republican</td>\n",
       "      <td>1</td>\n",
       "      <td>Alabama</td>\n",
       "    </tr>\n",
       "  </tbody>\n",
       "</table>\n",
       "</div>"
      ],
      "text/plain": [
       "     State District   PVI Representative num       ST\n",
       "0  Alabama        1  R+12     Republican   1  Alabama"
      ]
     },
     "execution_count": 20,
     "metadata": {},
     "output_type": "execute_result"
    }
   ],
   "source": [
    "#seperate state and district\n",
    "pvi_110[\"num\"] = pvi_110.District\n",
    "pvi_110[\"ST\"] =  pvi_110[\"State\"]\n",
    "pvi_110.head(n=1)"
   ]
  },
  {
   "cell_type": "code",
   "execution_count": 21,
   "metadata": {},
   "outputs": [
    {
     "name": "stdout",
     "output_type": "stream",
     "text": [
      "['AL' 'AK' 'AZ' 'AR' 'CA' 'CO' 'CT' 'DE' 'FL' 'GA' 'HI' 'ID' 'IL' 'IN'\n",
      " 'IA' 'KS' 'KY' 'LA' 'ME' 'MD' 'MA' 'MI' 'MN' 'MS' 'MO' 'MT' 'NE' 'NV'\n",
      " 'NH' 'NJ' 'NM' 'NY' 'NC' 'ND' 'OH' 'OK' 'OR' 'PA' 'RI' 'SC' 'SD' 'TN'\n",
      " 'TX' 'UT' 'VT' 'VA' 'WA' 'WV' 'WI' 'WY']\n",
      "['1' '2' '3' '4' '5' '6' '7' 'AL' '8' '9' '10' '11' '12' '13' '14' '15'\n",
      " '16' '17' '18' '19' '20' '21' '22' '23' '24' '25' '26' '27' '28' '29'\n",
      " '30' '31' '32' '33' '34' '35' '36' '37' '38' '39' '40' '41' '42' '43'\n",
      " '44' '45' '46' '47' '48' '49' '50' '51' '52' '53']\n"
     ]
    }
   ],
   "source": [
    "#abbreviate the ST coulmn\n",
    "pvi_110 = pvi_110.replace({\"ST\": us_state_to_abbrev})\n",
    "#check that both ST and num function apropriatley\n",
    "print(pvi_110[\"ST\"].unique())\n",
    "print(pvi_110[\"num\"].unique())"
   ]
  },
  {
   "cell_type": "code",
   "execution_count": 22,
   "metadata": {},
   "outputs": [
    {
     "name": "stdout",
     "output_type": "stream",
     "text": [
      "[1 0]\n"
     ]
    }
   ],
   "source": [
    "#create the district code variable\n",
    "pvi_110[\"ST#\"] = pvi_110[\"ST\"] + pvi_110[\"num\"]\n",
    "#create the \"party of represenative\" variable\n",
    "pvi_110[\"seat\"] = pvi_110.Representative.str[0]\n",
    "#make a dummy\n",
    "pvi_110[\"is_GOP\"] = pvi_110[\"seat\"].replace(\"R\",1)\n",
    "pvi_110[\"is_GOP\"] = pvi_110[\"is_GOP\"].replace(\"D\",0)\n",
    "#The seats of Charlie Dent and Pat Meehan in Pennsylvania went R -> D during this time frame\n",
    "#covert to integer for later numeric analysis\n",
    "pvi_110[\"is_GOP\"] = pvi_110[\"is_GOP\"].astype(int)\n",
    "pvi_110.head(n=7)\n",
    "print(pvi_110[\"is_GOP\"].unique())"
   ]
  },
  {
   "cell_type": "code",
   "execution_count": 23,
   "metadata": {},
   "outputs": [
    {
     "data": {
      "text/plain": [
       "array(['R', 'D'], dtype=object)"
      ]
     },
     "execution_count": 23,
     "metadata": {},
     "output_type": "execute_result"
    }
   ],
   "source": [
    "#possibly unneccessary\n",
    "#pull out district lean\n",
    "pvi_110[\"lean\"] = pvi_110.PVI.str[0]\n",
    "pvi_110[\"lean\"].unique()"
   ]
  },
  {
   "cell_type": "code",
   "execution_count": 24,
   "metadata": {},
   "outputs": [
    {
     "name": "stdout",
     "output_type": "stream",
     "text": [
      "     State District   PVI Representative num  ST  ST# seat  is_GOP lean  \\\n",
      "0  Alabama        1  R+12     Republican   1  AL  AL1    R       1    R   \n",
      "\n",
      "  pvi_party partisan_weight  \n",
      "0         R              12  \n",
      "['R' 'D']\n"
     ]
    }
   ],
   "source": [
    "#split out pvi by party and weight\n",
    "#first eliminate even values\n",
    "pvi_110[\"PVI\"] = pvi_110[\"PVI\"].str.replace(\"EVEN\",\"R+0\")\n",
    "pvi_110[\"pvi_party\"] = pvi_110.PVI.str[0]\n",
    "pvi_110['partisan_weight'] = pvi_110['PVI'].str.split('+').str[1]\n",
    "#check results\n",
    "print(pvi_110.head(n=1))\n",
    "print(pvi_110[\"pvi_party\"].unique())"
   ]
  },
  {
   "cell_type": "code",
   "execution_count": 25,
   "metadata": {},
   "outputs": [],
   "source": [
    "#create a variable that is negative when the party is democratic\n",
    "pvi_110[\"neg\"] = pvi_110['pvi_party'].str.replace('D','-')\n",
    "pvi_110[\"neg\"] = pvi_110[\"neg\"].str.replace('R','')\n",
    "#ensure partisan weight has a negative value for democratic leaning and a positive value for Republican leaning\n",
    "pvi_110['partisan_weight'] = pvi_110[\"neg\"] + pvi_110['partisan_weight']\n",
    "#ensure values are integers\n",
    "pvi_110['partisan_weight'] = pvi_110['partisan_weight'].astype(int)"
   ]
  },
  {
   "cell_type": "code",
   "execution_count": 26,
   "metadata": {},
   "outputs": [
    {
     "data": {
      "text/html": [
       "<div>\n",
       "<style scoped>\n",
       "    .dataframe tbody tr th:only-of-type {\n",
       "        vertical-align: middle;\n",
       "    }\n",
       "\n",
       "    .dataframe tbody tr th {\n",
       "        vertical-align: top;\n",
       "    }\n",
       "\n",
       "    .dataframe thead th {\n",
       "        text-align: right;\n",
       "    }\n",
       "</style>\n",
       "<table border=\"1\" class=\"dataframe\">\n",
       "  <thead>\n",
       "    <tr style=\"text-align: right;\">\n",
       "      <th></th>\n",
       "      <th>State</th>\n",
       "      <th>District</th>\n",
       "      <th>PVI</th>\n",
       "      <th>Representative</th>\n",
       "      <th>num</th>\n",
       "      <th>ST</th>\n",
       "      <th>ST#</th>\n",
       "      <th>seat</th>\n",
       "      <th>is_GOP</th>\n",
       "      <th>lean</th>\n",
       "      <th>pvi_party</th>\n",
       "      <th>partisan_weight</th>\n",
       "      <th>neg</th>\n",
       "      <th>metric</th>\n",
       "    </tr>\n",
       "  </thead>\n",
       "  <tbody>\n",
       "    <tr>\n",
       "      <th>0</th>\n",
       "      <td>Alabama</td>\n",
       "      <td>1</td>\n",
       "      <td>R+12</td>\n",
       "      <td>Republican</td>\n",
       "      <td>1</td>\n",
       "      <td>AL</td>\n",
       "      <td>AL1</td>\n",
       "      <td>R</td>\n",
       "      <td>1</td>\n",
       "      <td>R</td>\n",
       "      <td>R</td>\n",
       "      <td>12</td>\n",
       "      <td></td>\n",
       "      <td>0.560</td>\n",
       "    </tr>\n",
       "    <tr>\n",
       "      <th>1</th>\n",
       "      <td>Alabama</td>\n",
       "      <td>2</td>\n",
       "      <td>R+13</td>\n",
       "      <td>Republican</td>\n",
       "      <td>2</td>\n",
       "      <td>AL</td>\n",
       "      <td>AL2</td>\n",
       "      <td>R</td>\n",
       "      <td>1</td>\n",
       "      <td>R</td>\n",
       "      <td>R</td>\n",
       "      <td>13</td>\n",
       "      <td></td>\n",
       "      <td>0.565</td>\n",
       "    </tr>\n",
       "    <tr>\n",
       "      <th>2</th>\n",
       "      <td>Alabama</td>\n",
       "      <td>3</td>\n",
       "      <td>R+4</td>\n",
       "      <td>Republican</td>\n",
       "      <td>3</td>\n",
       "      <td>AL</td>\n",
       "      <td>AL3</td>\n",
       "      <td>R</td>\n",
       "      <td>1</td>\n",
       "      <td>R</td>\n",
       "      <td>R</td>\n",
       "      <td>4</td>\n",
       "      <td></td>\n",
       "      <td>0.520</td>\n",
       "    </tr>\n",
       "    <tr>\n",
       "      <th>3</th>\n",
       "      <td>Alabama</td>\n",
       "      <td>4</td>\n",
       "      <td>R+16</td>\n",
       "      <td>Republican</td>\n",
       "      <td>4</td>\n",
       "      <td>AL</td>\n",
       "      <td>AL4</td>\n",
       "      <td>R</td>\n",
       "      <td>1</td>\n",
       "      <td>R</td>\n",
       "      <td>R</td>\n",
       "      <td>16</td>\n",
       "      <td></td>\n",
       "      <td>0.580</td>\n",
       "    </tr>\n",
       "    <tr>\n",
       "      <th>4</th>\n",
       "      <td>Alabama</td>\n",
       "      <td>5</td>\n",
       "      <td>R+6</td>\n",
       "      <td>Democratic</td>\n",
       "      <td>5</td>\n",
       "      <td>AL</td>\n",
       "      <td>AL5</td>\n",
       "      <td>D</td>\n",
       "      <td>0</td>\n",
       "      <td>R</td>\n",
       "      <td>R</td>\n",
       "      <td>6</td>\n",
       "      <td></td>\n",
       "      <td>0.530</td>\n",
       "    </tr>\n",
       "    <tr>\n",
       "      <th>5</th>\n",
       "      <td>Alabama</td>\n",
       "      <td>6</td>\n",
       "      <td>R+25</td>\n",
       "      <td>Republican</td>\n",
       "      <td>6</td>\n",
       "      <td>AL</td>\n",
       "      <td>AL6</td>\n",
       "      <td>R</td>\n",
       "      <td>1</td>\n",
       "      <td>R</td>\n",
       "      <td>R</td>\n",
       "      <td>25</td>\n",
       "      <td></td>\n",
       "      <td>0.625</td>\n",
       "    </tr>\n",
       "    <tr>\n",
       "      <th>6</th>\n",
       "      <td>Alabama</td>\n",
       "      <td>7</td>\n",
       "      <td>D+17</td>\n",
       "      <td>Democratic</td>\n",
       "      <td>7</td>\n",
       "      <td>AL</td>\n",
       "      <td>AL7</td>\n",
       "      <td>D</td>\n",
       "      <td>0</td>\n",
       "      <td>D</td>\n",
       "      <td>D</td>\n",
       "      <td>-17</td>\n",
       "      <td>-</td>\n",
       "      <td>0.415</td>\n",
       "    </tr>\n",
       "  </tbody>\n",
       "</table>\n",
       "</div>"
      ],
      "text/plain": [
       "     State District   PVI Representative num  ST  ST# seat  is_GOP lean  \\\n",
       "0  Alabama        1  R+12     Republican   1  AL  AL1    R       1    R   \n",
       "1  Alabama        2  R+13     Republican   2  AL  AL2    R       1    R   \n",
       "2  Alabama        3   R+4     Republican   3  AL  AL3    R       1    R   \n",
       "3  Alabama        4  R+16     Republican   4  AL  AL4    R       1    R   \n",
       "4  Alabama        5   R+6     Democratic   5  AL  AL5    D       0    R   \n",
       "5  Alabama        6  R+25     Republican   6  AL  AL6    R       1    R   \n",
       "6  Alabama        7  D+17     Democratic   7  AL  AL7    D       0    D   \n",
       "\n",
       "  pvi_party  partisan_weight neg  metric  \n",
       "0         R               12       0.560  \n",
       "1         R               13       0.565  \n",
       "2         R                4       0.520  \n",
       "3         R               16       0.580  \n",
       "4         R                6       0.530  \n",
       "5         R               25       0.625  \n",
       "6         D              -17   -   0.415  "
      ]
     },
     "execution_count": 26,
     "metadata": {},
     "output_type": "execute_result"
    }
   ],
   "source": [
    "pvi_110[\"metric\"] = ((pvi_110['partisan_weight'] / 2) + 50) / 100\n",
    "pvi_110.head(n=7)"
   ]
  },
  {
   "cell_type": "code",
   "execution_count": 27,
   "metadata": {},
   "outputs": [],
   "source": [
    "#add constants for later aggregation\n",
    "pvi_110[\"year\"] = 2006\n",
    "pvi_110[\"congress\"] = 110"
   ]
  },
  {
   "cell_type": "code",
   "execution_count": 28,
   "metadata": {},
   "outputs": [],
   "source": [
    "#create a new datasets for the district PVIs from the previoys congress\n",
    "pvi_only_109 = pvi_110[[\"ST#\",\"PVI\",\"metric\"]]\n",
    "pvi_only_109[\"year\"] = 2004\n",
    "pvi_only_109[\"congress\"] = 109\n",
    "pvi_only_109.to_csv(\"/Users/xavier/Desktop/DSPP/solo_projects/redistricting_project/raw_data/pvi_only_109.csv\",index=False)"
   ]
  },
  {
   "cell_type": "markdown",
   "metadata": {},
   "source": [
    "## Export clean versions of the data"
   ]
  },
  {
   "cell_type": "code",
   "execution_count": 29,
   "metadata": {},
   "outputs": [
    {
     "ename": "SyntaxError",
     "evalue": "invalid syntax (<ipython-input-29-11b2a36a1bd6>, line 2)",
     "output_type": "error",
     "traceback": [
      "\u001b[0;36m  File \u001b[0;32m\"<ipython-input-29-11b2a36a1bd6>\"\u001b[0;36m, line \u001b[0;32m2\u001b[0m\n\u001b[0;31m    pure_110 =\u001b[0m\n\u001b[0m               ^\u001b[0m\n\u001b[0;31mSyntaxError\u001b[0m\u001b[0;31m:\u001b[0m invalid syntax\n"
     ]
    }
   ],
   "source": [
    "#create a dataset solely to correlate pvi with the holder of the seat\n",
    "pure_110 = \n",
    "pure_110.to_csv(\"/Users/xavier/Desktop/DSPP/solo_projects/redistricting_project/clean_data/pure_datasets/pure_110.csv\",index=False)\n",
    "#create a more detailed dataset for greater uses\n",
    "data_110 = pvi_110[[\"year\",\"congress\",\"ST\",\"ST#\",\"seat\",\"is_GOP\",\"PVI\",\"metric\"]]\n",
    "data_110.to_csv(\"/Users/xavier/Desktop/DSPP/solo_projects/redistricting_project/clean_data/full_districts/data_110.csv\",index=False)"
   ]
  },
  {
   "cell_type": "code",
   "execution_count": null,
   "metadata": {},
   "outputs": [],
   "source": [
    "data_110.head(8)"
   ]
  },
  {
   "cell_type": "markdown",
   "metadata": {},
   "source": [
    "## Conduct preliminary examinations of the data"
   ]
  },
  {
   "cell_type": "code",
   "execution_count": null,
   "metadata": {},
   "outputs": [],
   "source": [
    "# Create a super simple scatterplot to examine the relationship between PVI and congressional district\n",
    "(p9.ggplot(data=pure_110, mapping=p9.aes(x='metric', y='is_GOP'))\n",
    " + p9.geom_point() \n",
    " + labs(x='GOP Leaning of District', y='GOP Representation',color=\"\",title=\"PVI Correlation\"))"
   ]
  },
  {
   "cell_type": "code",
   "execution_count": null,
   "metadata": {},
   "outputs": [],
   "source": [
    "#group by metric and average GOP seats\n",
    "bm_110 = pure_110.groupby('metric').mean()\n",
    "#this will not be produced into a dataset without aggregating all years, as \n",
    "bm_110 = bm_110.reset_index()"
   ]
  },
  {
   "cell_type": "code",
   "execution_count": null,
   "metadata": {},
   "outputs": [],
   "source": [
    "#Plot averages\n",
    "(p9.ggplot(data=bm_110, mapping=p9.aes(x='metric', y='is_GOP'))\n",
    " + p9.geom_point() \n",
    " + labs(x='GOP Leaning of District', y=\"Share of GOP Representatives\",color=\"\",title=\"PVI Correlation\"))"
   ]
  },
  {
   "cell_type": "code",
   "execution_count": null,
   "metadata": {},
   "outputs": [],
   "source": [
    "#now lets limit the data to only the R+10 to D+10 range, calling it Limited Domain\n",
    "ld_110 = bm_110[bm_110[\"metric\"] <= .55]\n",
    "ld_110 = ld_110[ld_110[\"metric\"] >= .45]"
   ]
  },
  {
   "cell_type": "code",
   "execution_count": null,
   "metadata": {},
   "outputs": [],
   "source": [
    "#Plot averages\n",
    "(p9.ggplot(data=ld_110, mapping=p9.aes(x='metric', y='is_GOP'))\n",
    " + p9.geom_point() \n",
    " + geom_smooth(method = \"lm\", color = \"red\", se = False)\n",
    " + labs(x='GOP Leaning of District', y=\"Share of GOP Representatives\",color=\"\",title=\"PVI Correlation\"))"
   ]
  }
 ],
 "metadata": {
  "kernelspec": {
   "display_name": "Python 3",
   "language": "python",
   "name": "python3"
  },
  "language_info": {
   "codemirror_mode": {
    "name": "ipython",
    "version": 3
   },
   "file_extension": ".py",
   "mimetype": "text/x-python",
   "name": "python",
   "nbconvert_exporter": "python",
   "pygments_lexer": "ipython3",
   "version": "3.8.5"
  }
 },
 "nbformat": 4,
 "nbformat_minor": 4
}
