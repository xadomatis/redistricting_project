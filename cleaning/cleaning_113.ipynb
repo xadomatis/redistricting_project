{
 "cells": [
  {
   "cell_type": "markdown",
   "metadata": {},
   "source": [
    "# 113th Congress Data"
   ]
  },
  {
   "cell_type": "markdown",
   "metadata": {},
   "source": [
    "This notebook is meant to call, clean, and examine data from the 2012 election, to produce a viable metric correlating PVI and electoral success.\n",
    "\n",
    "It feeds into a larger project about fairness in redistricting; for instance, if an R+15 district is unattainable for a Democrat to win, then the district can be wholly classified as \"safe,\" and should be bucketed with R+30 district.\n",
    "\n",
    "The nuance enters in the margins. How safe is an R+6 district for instance? Can we quantify a district moving from R+3 to R+6 as a significant bias against Democrats? By cleaning this dataset, and others like it, we can determine the predictive power of PVI in each district, and use those probabilities later to assess redistricting fairness."
   ]
  },
  {
   "cell_type": "markdown",
   "metadata": {},
   "source": [
    "## Retrieve data from Wikipedia"
   ]
  },
  {
   "cell_type": "markdown",
   "metadata": {},
   "source": [
    "Wikipedia's current Cook PVI page contains a free and current (up to 2020 election results) version of the index, where free downloads from Cook's website are dated, containing 2018 results and 2016 PVI metrics"
   ]
  },
  {
   "cell_type": "code",
   "execution_count": 1,
   "metadata": {},
   "outputs": [],
   "source": [
    "import requests\n",
    "import pandas as pd\n",
    "pd.set_option(\"display.max_rows\", None, \"display.max_columns\", None)"
   ]
  },
  {
   "cell_type": "code",
   "execution_count": 2,
   "metadata": {},
   "outputs": [],
   "source": [
    "#import and format url\n",
    "url = \"https://web.archive.org/web/20140814203944/https://en.wikipedia.org/wiki/Cook_Partisan_Voting_Index\"\n",
    "page = pd.read_html(url)\n",
    "dat = pd.concat(page,ignore_index=True)"
   ]
  },
  {
   "cell_type": "code",
   "execution_count": 3,
   "metadata": {},
   "outputs": [],
   "source": [
    "#split data into state and district pvis\n",
    "wiki_district = dat[6:442]\n",
    "wiki_state = dat[447:]\n",
    "#note that DC is accounted for in the district roster\n",
    "wiki_district = wiki_district[wiki_district.State != \"District of Columbia\"].reset_index()"
   ]
  },
  {
   "cell_type": "code",
   "execution_count": 4,
   "metadata": {},
   "outputs": [],
   "source": [
    "#cut NA columns\n",
    "wiki_district = wiki_district.dropna(axis=1, how='any', thresh=None, subset=None, inplace=False)\n",
    "wiki_state = wiki_state.dropna(axis=1, how='any', thresh=None, subset=None, inplace=False)"
   ]
  },
  {
   "cell_type": "code",
   "execution_count": 5,
   "metadata": {},
   "outputs": [
    {
     "name": "stdout",
     "output_type": "stream",
     "text": [
      "     index  District   PVI Party of Representative    State\n",
      "434    441  At-large  R+22              Republican  Wyoming\n",
      "   index District   PVI Party of Representative    State\n",
      "0      6      1st  R+15              Republican  Alabama\n",
      "    House balance   PVI Party in Senate Party of Governor    State\n",
      "496            1R  R+22      Republican        Republican  Wyoming\n",
      "    House balance   PVI Party in Senate Party of Governor    State\n",
      "447        6R, 1D  R+14      Republican        Republican  Alabama\n"
     ]
    }
   ],
   "source": [
    "#check the various datasets\n",
    "print(wiki_district.tail(1))\n",
    "print(wiki_district.head(1))\n",
    "print(wiki_state.tail(1))\n",
    "print(wiki_state.head(1))"
   ]
  },
  {
   "cell_type": "markdown",
   "metadata": {},
   "source": [
    "## Clean and Organize State Data"
   ]
  },
  {
   "cell_type": "code",
   "execution_count": 6,
   "metadata": {},
   "outputs": [],
   "source": [
    "#call in a dictionary of state abbreviations\n",
    "us_state_to_abbrev = {\n",
    "    \"Alabama\": \"AL\",\n",
    "    \"Alaska\": \"AK\",\n",
    "    \"Arizona\": \"AZ\",\n",
    "    \"Arkansas\": \"AR\",\n",
    "    \"California\": \"CA\",\n",
    "    \"Colorado\": \"CO\",\n",
    "    \"Connecticut\": \"CT\",\n",
    "    \"Delaware\": \"DE\",\n",
    "    \"Florida\": \"FL\",\n",
    "    \"Georgia\": \"GA\",\n",
    "    \"Hawaii\": \"HI\",\n",
    "    \"Idaho\": \"ID\",\n",
    "    \"Illinois\": \"IL\",\n",
    "    \"Indiana\": \"IN\",\n",
    "    \"Iowa\": \"IA\",\n",
    "    \"Kansas\": \"KS\",\n",
    "    \"Kentucky\": \"KY\",\n",
    "    \"Louisiana\": \"LA\",\n",
    "    \"Maine\": \"ME\",\n",
    "    \"Maryland\": \"MD\",\n",
    "    \"Massachusetts\": \"MA\",\n",
    "    \"Michigan\": \"MI\",\n",
    "    \"Minnesota\": \"MN\",\n",
    "    \"Mississippi\": \"MS\",\n",
    "    \"Missouri\": \"MO\",\n",
    "    \"Montana\": \"MT\",\n",
    "    \"Nebraska\": \"NE\",\n",
    "    \"Nevada\": \"NV\",\n",
    "    \"New Hampshire\": \"NH\",\n",
    "    \"New Jersey\": \"NJ\",\n",
    "    \"New Mexico\": \"NM\",\n",
    "    \"New York\": \"NY\",\n",
    "    \"North Carolina\": \"NC\",\n",
    "    \"North Dakota\": \"ND\",\n",
    "    \"Ohio\": \"OH\",\n",
    "    \"Oklahoma\": \"OK\",\n",
    "    \"Oregon\": \"OR\",\n",
    "    \"Pennsylvania\": \"PA\",\n",
    "    \"Rhode Island\": \"RI\",\n",
    "    \"South Carolina\": \"SC\",\n",
    "    \"South Dakota\": \"SD\",\n",
    "    \"Tennessee\": \"TN\",\n",
    "    \"Texas\": \"TX\",\n",
    "    \"Utah\": \"UT\",\n",
    "    \"Vermont\": \"VT\",\n",
    "    \"Virginia\": \"VA\",\n",
    "    \"Washington\": \"WA\",\n",
    "    \"West Virginia\": \"WV\",\n",
    "    \"Wisconsin\": \"WI\",\n",
    "    \"Wyoming\": \"WY\",\n",
    "    \"District of Columbia\": \"DC\",\n",
    "    \"American Samoa\": \"AS\",\n",
    "    \"Guam\": \"GU\",\n",
    "    \"Northern Mariana Islands\": \"MP\",\n",
    "    \"Puerto Rico\": \"PR\",\n",
    "    \"United States Minor Outlying Islands\": \"UM\",\n",
    "    \"U.S. Virgin Islands\": \"VI\",\n",
    "}"
   ]
  },
  {
   "cell_type": "code",
   "execution_count": 7,
   "metadata": {},
   "outputs": [
    {
     "name": "stdout",
     "output_type": "stream",
     "text": [
      "['AL' 'AK' 'AZ' 'AR' 'CA' 'CO' 'CT' 'DE' 'FL' 'GA' 'HI' 'ID' 'IL' 'IN'\n",
      " 'IA' 'KS' 'KY' 'LA' 'ME' 'MD' 'MA' 'MI' 'MN' 'MS' 'MO' 'MT' 'NE' 'NV'\n",
      " 'NH' 'NJ' 'NM' 'NY' 'NC' 'ND' 'OH' 'OK' 'OR' 'PA' 'RI' 'SC' 'SD' 'TN'\n",
      " 'TX' 'UT' 'VT' 'VA' 'WA' 'WV' 'WI' 'WY']\n"
     ]
    }
   ],
   "source": [
    "state_113 = wiki_state\n",
    "state_113[\"ST\"] =  state_113[\"State\"]\n",
    "#abbreviate the ST coulmn\n",
    "state_113 = state_113.replace({\"ST\": us_state_to_abbrev})\n",
    "#check that both ST and num function apropriatley\n",
    "print(state_113[\"ST\"].unique())"
   ]
  },
  {
   "cell_type": "code",
   "execution_count": 8,
   "metadata": {},
   "outputs": [
    {
     "name": "stdout",
     "output_type": "stream",
     "text": [
      "    House balance   PVI Party in Senate Party of Governor    State  ST  \\\n",
      "447        6R, 1D  R+14      Republican        Republican  Alabama  AL   \n",
      "\n",
      "    pvi_party partisan_weight  \n",
      "447         R              14  \n",
      "['R' 'D']\n"
     ]
    }
   ],
   "source": [
    "#split out pvi by party and weight\n",
    "#first eliminate even values\n",
    "state_113[\"PVI\"] = state_113[\"PVI\"].str.replace(\"EVEN\",\"R+0\")\n",
    "state_113[\"pvi_party\"] = state_113.PVI.str[0]\n",
    "state_113['partisan_weight'] = state_113['PVI'].str.split('+').str[1]\n",
    "#check results\n",
    "print(state_113.head(n=1))\n",
    "print(state_113[\"pvi_party\"].unique())"
   ]
  },
  {
   "cell_type": "code",
   "execution_count": 9,
   "metadata": {},
   "outputs": [],
   "source": [
    "#add constants for later aggregation\n",
    "state_113[\"year\"] = 2012\n",
    "state_113[\"congress\"] = 113"
   ]
  },
  {
   "cell_type": "code",
   "execution_count": 10,
   "metadata": {},
   "outputs": [],
   "source": [
    "#create a variable that is negative when the party is democratic\n",
    "state_113[\"neg\"] = state_113['pvi_party'].str.replace('D','-')\n",
    "state_113[\"neg\"] = state_113[\"neg\"].str.replace('R','')\n",
    "#ensure partisan weight has a negative value for democratic leaning and a positive value for Republican leaning\n",
    "state_113['partisan_weight'] = state_113[\"neg\"] + state_113['partisan_weight']\n",
    "#ensure values are integers\n",
    "state_113['partisan_weight'] = state_113['partisan_weight'].astype(int)"
   ]
  },
  {
   "cell_type": "code",
   "execution_count": 11,
   "metadata": {},
   "outputs": [
    {
     "data": {
      "text/html": [
       "<div>\n",
       "<style scoped>\n",
       "    .dataframe tbody tr th:only-of-type {\n",
       "        vertical-align: middle;\n",
       "    }\n",
       "\n",
       "    .dataframe tbody tr th {\n",
       "        vertical-align: top;\n",
       "    }\n",
       "\n",
       "    .dataframe thead th {\n",
       "        text-align: right;\n",
       "    }\n",
       "</style>\n",
       "<table border=\"1\" class=\"dataframe\">\n",
       "  <thead>\n",
       "    <tr style=\"text-align: right;\">\n",
       "      <th></th>\n",
       "      <th>House balance</th>\n",
       "      <th>PVI</th>\n",
       "      <th>Party in Senate</th>\n",
       "      <th>Party of Governor</th>\n",
       "      <th>State</th>\n",
       "      <th>ST</th>\n",
       "      <th>pvi_party</th>\n",
       "      <th>partisan_weight</th>\n",
       "      <th>year</th>\n",
       "      <th>congress</th>\n",
       "      <th>neg</th>\n",
       "      <th>metric</th>\n",
       "    </tr>\n",
       "  </thead>\n",
       "  <tbody>\n",
       "    <tr>\n",
       "      <th>447</th>\n",
       "      <td>6R, 1D</td>\n",
       "      <td>R+14</td>\n",
       "      <td>Republican</td>\n",
       "      <td>Republican</td>\n",
       "      <td>Alabama</td>\n",
       "      <td>AL</td>\n",
       "      <td>R</td>\n",
       "      <td>14</td>\n",
       "      <td>2012</td>\n",
       "      <td>113</td>\n",
       "      <td></td>\n",
       "      <td>0.570</td>\n",
       "    </tr>\n",
       "    <tr>\n",
       "      <th>448</th>\n",
       "      <td>1R</td>\n",
       "      <td>R+12</td>\n",
       "      <td>Both</td>\n",
       "      <td>Republican</td>\n",
       "      <td>Alaska</td>\n",
       "      <td>AK</td>\n",
       "      <td>R</td>\n",
       "      <td>12</td>\n",
       "      <td>2012</td>\n",
       "      <td>113</td>\n",
       "      <td></td>\n",
       "      <td>0.560</td>\n",
       "    </tr>\n",
       "    <tr>\n",
       "      <th>449</th>\n",
       "      <td>5D, 4R</td>\n",
       "      <td>R+7</td>\n",
       "      <td>Republican</td>\n",
       "      <td>Republican</td>\n",
       "      <td>Arizona</td>\n",
       "      <td>AZ</td>\n",
       "      <td>R</td>\n",
       "      <td>7</td>\n",
       "      <td>2012</td>\n",
       "      <td>113</td>\n",
       "      <td></td>\n",
       "      <td>0.535</td>\n",
       "    </tr>\n",
       "    <tr>\n",
       "      <th>450</th>\n",
       "      <td>4R</td>\n",
       "      <td>R+14</td>\n",
       "      <td>Both</td>\n",
       "      <td>Democratic</td>\n",
       "      <td>Arkansas</td>\n",
       "      <td>AR</td>\n",
       "      <td>R</td>\n",
       "      <td>14</td>\n",
       "      <td>2012</td>\n",
       "      <td>113</td>\n",
       "      <td></td>\n",
       "      <td>0.570</td>\n",
       "    </tr>\n",
       "    <tr>\n",
       "      <th>451</th>\n",
       "      <td>38D, 15R</td>\n",
       "      <td>D+9</td>\n",
       "      <td>Democratic</td>\n",
       "      <td>Democratic</td>\n",
       "      <td>California</td>\n",
       "      <td>CA</td>\n",
       "      <td>D</td>\n",
       "      <td>-9</td>\n",
       "      <td>2012</td>\n",
       "      <td>113</td>\n",
       "      <td>-</td>\n",
       "      <td>0.455</td>\n",
       "    </tr>\n",
       "    <tr>\n",
       "      <th>452</th>\n",
       "      <td>4R, 3D</td>\n",
       "      <td>D+1</td>\n",
       "      <td>Democratic</td>\n",
       "      <td>Democratic</td>\n",
       "      <td>Colorado</td>\n",
       "      <td>CO</td>\n",
       "      <td>D</td>\n",
       "      <td>-1</td>\n",
       "      <td>2012</td>\n",
       "      <td>113</td>\n",
       "      <td>-</td>\n",
       "      <td>0.495</td>\n",
       "    </tr>\n",
       "    <tr>\n",
       "      <th>453</th>\n",
       "      <td>5D</td>\n",
       "      <td>D+7</td>\n",
       "      <td>Democratic</td>\n",
       "      <td>Democratic</td>\n",
       "      <td>Connecticut</td>\n",
       "      <td>CT</td>\n",
       "      <td>D</td>\n",
       "      <td>-7</td>\n",
       "      <td>2012</td>\n",
       "      <td>113</td>\n",
       "      <td>-</td>\n",
       "      <td>0.465</td>\n",
       "    </tr>\n",
       "  </tbody>\n",
       "</table>\n",
       "</div>"
      ],
      "text/plain": [
       "    House balance   PVI Party in Senate Party of Governor        State  ST  \\\n",
       "447        6R, 1D  R+14      Republican        Republican      Alabama  AL   \n",
       "448            1R  R+12            Both        Republican       Alaska  AK   \n",
       "449        5D, 4R   R+7      Republican        Republican      Arizona  AZ   \n",
       "450            4R  R+14            Both        Democratic     Arkansas  AR   \n",
       "451      38D, 15R   D+9      Democratic        Democratic   California  CA   \n",
       "452        4R, 3D   D+1      Democratic        Democratic     Colorado  CO   \n",
       "453            5D   D+7      Democratic        Democratic  Connecticut  CT   \n",
       "\n",
       "    pvi_party  partisan_weight  year  congress neg  metric  \n",
       "447         R               14  2012       113       0.570  \n",
       "448         R               12  2012       113       0.560  \n",
       "449         R                7  2012       113       0.535  \n",
       "450         R               14  2012       113       0.570  \n",
       "451         D               -9  2012       113   -   0.455  \n",
       "452         D               -1  2012       113   -   0.495  \n",
       "453         D               -7  2012       113   -   0.465  "
      ]
     },
     "execution_count": 11,
     "metadata": {},
     "output_type": "execute_result"
    }
   ],
   "source": [
    "state_113[\"metric\"] = ((state_113['partisan_weight'] / 2) + 50) / 100\n",
    "state_113.head(n=7)"
   ]
  },
  {
   "cell_type": "code",
   "execution_count": 12,
   "metadata": {},
   "outputs": [],
   "source": [
    "state_113 = state_113[[\"year\",\"ST\",\"PVI\",\"metric\"]]\n",
    "state_113.to_csv(\"/Users/xavier/Desktop/DSPP/solo_projects/redistricting_project/clean_data/state_pvi/state_113.csv\",index=False)"
   ]
  },
  {
   "cell_type": "code",
   "execution_count": 13,
   "metadata": {},
   "outputs": [
    {
     "data": {
      "text/html": [
       "<div>\n",
       "<style scoped>\n",
       "    .dataframe tbody tr th:only-of-type {\n",
       "        vertical-align: middle;\n",
       "    }\n",
       "\n",
       "    .dataframe tbody tr th {\n",
       "        vertical-align: top;\n",
       "    }\n",
       "\n",
       "    .dataframe thead th {\n",
       "        text-align: right;\n",
       "    }\n",
       "</style>\n",
       "<table border=\"1\" class=\"dataframe\">\n",
       "  <thead>\n",
       "    <tr style=\"text-align: right;\">\n",
       "      <th></th>\n",
       "      <th>year</th>\n",
       "      <th>ST</th>\n",
       "      <th>PVI</th>\n",
       "      <th>metric</th>\n",
       "    </tr>\n",
       "  </thead>\n",
       "  <tbody>\n",
       "    <tr>\n",
       "      <th>447</th>\n",
       "      <td>2012</td>\n",
       "      <td>AL</td>\n",
       "      <td>R+14</td>\n",
       "      <td>0.570</td>\n",
       "    </tr>\n",
       "    <tr>\n",
       "      <th>448</th>\n",
       "      <td>2012</td>\n",
       "      <td>AK</td>\n",
       "      <td>R+12</td>\n",
       "      <td>0.560</td>\n",
       "    </tr>\n",
       "    <tr>\n",
       "      <th>449</th>\n",
       "      <td>2012</td>\n",
       "      <td>AZ</td>\n",
       "      <td>R+7</td>\n",
       "      <td>0.535</td>\n",
       "    </tr>\n",
       "    <tr>\n",
       "      <th>450</th>\n",
       "      <td>2012</td>\n",
       "      <td>AR</td>\n",
       "      <td>R+14</td>\n",
       "      <td>0.570</td>\n",
       "    </tr>\n",
       "    <tr>\n",
       "      <th>451</th>\n",
       "      <td>2012</td>\n",
       "      <td>CA</td>\n",
       "      <td>D+9</td>\n",
       "      <td>0.455</td>\n",
       "    </tr>\n",
       "    <tr>\n",
       "      <th>452</th>\n",
       "      <td>2012</td>\n",
       "      <td>CO</td>\n",
       "      <td>D+1</td>\n",
       "      <td>0.495</td>\n",
       "    </tr>\n",
       "    <tr>\n",
       "      <th>453</th>\n",
       "      <td>2012</td>\n",
       "      <td>CT</td>\n",
       "      <td>D+7</td>\n",
       "      <td>0.465</td>\n",
       "    </tr>\n",
       "    <tr>\n",
       "      <th>454</th>\n",
       "      <td>2012</td>\n",
       "      <td>DE</td>\n",
       "      <td>D+8</td>\n",
       "      <td>0.460</td>\n",
       "    </tr>\n",
       "  </tbody>\n",
       "</table>\n",
       "</div>"
      ],
      "text/plain": [
       "     year  ST   PVI  metric\n",
       "447  2012  AL  R+14   0.570\n",
       "448  2012  AK  R+12   0.560\n",
       "449  2012  AZ   R+7   0.535\n",
       "450  2012  AR  R+14   0.570\n",
       "451  2012  CA   D+9   0.455\n",
       "452  2012  CO   D+1   0.495\n",
       "453  2012  CT   D+7   0.465\n",
       "454  2012  DE   D+8   0.460"
      ]
     },
     "execution_count": 13,
     "metadata": {},
     "output_type": "execute_result"
    }
   ],
   "source": [
    "state_113.head(8)"
   ]
  },
  {
   "cell_type": "markdown",
   "metadata": {},
   "source": [
    "## Clean and Organize the District Data"
   ]
  },
  {
   "cell_type": "code",
   "execution_count": 14,
   "metadata": {},
   "outputs": [],
   "source": [
    "import numpy as np\n",
    "import plotnine as p9\n",
    "from plotnine import ggplot, aes, facet_grid, labs, geom_point, geom_smooth\n",
    "from sklearn.linear_model import LinearRegression as lm\n",
    "import warnings\n",
    "warnings.filterwarnings('ignore')"
   ]
  },
  {
   "cell_type": "code",
   "execution_count": 15,
   "metadata": {},
   "outputs": [
    {
     "name": "stdout",
     "output_type": "stream",
     "text": [
      "   index District   PVI Party of Representative    State\n",
      "0      6      1st  R+15              Republican  Alabama\n",
      "(435, 5)\n"
     ]
    }
   ],
   "source": [
    "#load in and check the data\n",
    "pvi_113 = wiki_district\n",
    "print(pvi_113.head(n=1))\n",
    "print(pvi_113.shape)"
   ]
  },
  {
   "cell_type": "code",
   "execution_count": 16,
   "metadata": {},
   "outputs": [],
   "source": [
    "#correct the column name for later use\n",
    "pvi_113 = pvi_113.rename(columns={\"Party of Representative\": \"Representative\"})"
   ]
  },
  {
   "cell_type": "code",
   "execution_count": 17,
   "metadata": {},
   "outputs": [
    {
     "data": {
      "text/html": [
       "<div>\n",
       "<style scoped>\n",
       "    .dataframe tbody tr th:only-of-type {\n",
       "        vertical-align: middle;\n",
       "    }\n",
       "\n",
       "    .dataframe tbody tr th {\n",
       "        vertical-align: top;\n",
       "    }\n",
       "\n",
       "    .dataframe thead th {\n",
       "        text-align: right;\n",
       "    }\n",
       "</style>\n",
       "<table border=\"1\" class=\"dataframe\">\n",
       "  <thead>\n",
       "    <tr style=\"text-align: right;\">\n",
       "      <th></th>\n",
       "      <th>index</th>\n",
       "      <th>District</th>\n",
       "      <th>PVI</th>\n",
       "      <th>Representative</th>\n",
       "      <th>State</th>\n",
       "    </tr>\n",
       "  </thead>\n",
       "  <tbody>\n",
       "    <tr>\n",
       "      <th>0</th>\n",
       "      <td>6</td>\n",
       "      <td>1st</td>\n",
       "      <td>R+15</td>\n",
       "      <td>Republican</td>\n",
       "      <td>Alabama</td>\n",
       "    </tr>\n",
       "    <tr>\n",
       "      <th>1</th>\n",
       "      <td>7</td>\n",
       "      <td>2nd</td>\n",
       "      <td>R+17</td>\n",
       "      <td>Republican</td>\n",
       "      <td>Alabama</td>\n",
       "    </tr>\n",
       "    <tr>\n",
       "      <th>2</th>\n",
       "      <td>8</td>\n",
       "      <td>3rd</td>\n",
       "      <td>R+16</td>\n",
       "      <td>Republican</td>\n",
       "      <td>Alabama</td>\n",
       "    </tr>\n",
       "    <tr>\n",
       "      <th>3</th>\n",
       "      <td>9</td>\n",
       "      <td>4th</td>\n",
       "      <td>R+28</td>\n",
       "      <td>Republican</td>\n",
       "      <td>Alabama</td>\n",
       "    </tr>\n",
       "    <tr>\n",
       "      <th>4</th>\n",
       "      <td>10</td>\n",
       "      <td>5th</td>\n",
       "      <td>R+17</td>\n",
       "      <td>Republican</td>\n",
       "      <td>Alabama</td>\n",
       "    </tr>\n",
       "    <tr>\n",
       "      <th>5</th>\n",
       "      <td>11</td>\n",
       "      <td>6th</td>\n",
       "      <td>R+28</td>\n",
       "      <td>Republican</td>\n",
       "      <td>Alabama</td>\n",
       "    </tr>\n",
       "    <tr>\n",
       "      <th>6</th>\n",
       "      <td>12</td>\n",
       "      <td>7th</td>\n",
       "      <td>D+20</td>\n",
       "      <td>Democratic</td>\n",
       "      <td>Alabama</td>\n",
       "    </tr>\n",
       "    <tr>\n",
       "      <th>7</th>\n",
       "      <td>13</td>\n",
       "      <td>At-large</td>\n",
       "      <td>R+12</td>\n",
       "      <td>Republican</td>\n",
       "      <td>Alaska</td>\n",
       "    </tr>\n",
       "  </tbody>\n",
       "</table>\n",
       "</div>"
      ],
      "text/plain": [
       "   index  District   PVI Representative    State\n",
       "0      6       1st  R+15     Republican  Alabama\n",
       "1      7       2nd  R+17     Republican  Alabama\n",
       "2      8       3rd  R+16     Republican  Alabama\n",
       "3      9       4th  R+28     Republican  Alabama\n",
       "4     10       5th  R+17     Republican  Alabama\n",
       "5     11       6th  R+28     Republican  Alabama\n",
       "6     12       7th  D+20     Democratic  Alabama\n",
       "7     13  At-large  R+12     Republican   Alaska"
      ]
     },
     "execution_count": 17,
     "metadata": {},
     "output_type": "execute_result"
    }
   ],
   "source": [
    "#fix at large designation\n",
    "pvi_113['District'] = pvi_113['District'].str.replace('at-large','AL')\n",
    "pvi_113.head(n=8)"
   ]
  },
  {
   "cell_type": "code",
   "execution_count": 18,
   "metadata": {},
   "outputs": [
    {
     "data": {
      "text/html": [
       "<div>\n",
       "<style scoped>\n",
       "    .dataframe tbody tr th:only-of-type {\n",
       "        vertical-align: middle;\n",
       "    }\n",
       "\n",
       "    .dataframe tbody tr th {\n",
       "        vertical-align: top;\n",
       "    }\n",
       "\n",
       "    .dataframe thead th {\n",
       "        text-align: right;\n",
       "    }\n",
       "</style>\n",
       "<table border=\"1\" class=\"dataframe\">\n",
       "  <thead>\n",
       "    <tr style=\"text-align: right;\">\n",
       "      <th></th>\n",
       "      <th>index</th>\n",
       "      <th>District</th>\n",
       "      <th>PVI</th>\n",
       "      <th>Representative</th>\n",
       "      <th>State</th>\n",
       "    </tr>\n",
       "  </thead>\n",
       "  <tbody>\n",
       "    <tr>\n",
       "      <th>0</th>\n",
       "      <td>6</td>\n",
       "      <td>1</td>\n",
       "      <td>R+15</td>\n",
       "      <td>Republican</td>\n",
       "      <td>Alabama</td>\n",
       "    </tr>\n",
       "    <tr>\n",
       "      <th>1</th>\n",
       "      <td>7</td>\n",
       "      <td>2</td>\n",
       "      <td>R+17</td>\n",
       "      <td>Republican</td>\n",
       "      <td>Alabama</td>\n",
       "    </tr>\n",
       "    <tr>\n",
       "      <th>2</th>\n",
       "      <td>8</td>\n",
       "      <td>3</td>\n",
       "      <td>R+16</td>\n",
       "      <td>Republican</td>\n",
       "      <td>Alabama</td>\n",
       "    </tr>\n",
       "    <tr>\n",
       "      <th>3</th>\n",
       "      <td>9</td>\n",
       "      <td>4</td>\n",
       "      <td>R+28</td>\n",
       "      <td>Republican</td>\n",
       "      <td>Alabama</td>\n",
       "    </tr>\n",
       "    <tr>\n",
       "      <th>4</th>\n",
       "      <td>10</td>\n",
       "      <td>5</td>\n",
       "      <td>R+17</td>\n",
       "      <td>Republican</td>\n",
       "      <td>Alabama</td>\n",
       "    </tr>\n",
       "    <tr>\n",
       "      <th>5</th>\n",
       "      <td>11</td>\n",
       "      <td>6</td>\n",
       "      <td>R+28</td>\n",
       "      <td>Republican</td>\n",
       "      <td>Alabama</td>\n",
       "    </tr>\n",
       "    <tr>\n",
       "      <th>6</th>\n",
       "      <td>12</td>\n",
       "      <td>7</td>\n",
       "      <td>D+20</td>\n",
       "      <td>Democratic</td>\n",
       "      <td>Alabama</td>\n",
       "    </tr>\n",
       "    <tr>\n",
       "      <th>7</th>\n",
       "      <td>13</td>\n",
       "      <td>AL</td>\n",
       "      <td>R+12</td>\n",
       "      <td>Republican</td>\n",
       "      <td>Alaska</td>\n",
       "    </tr>\n",
       "  </tbody>\n",
       "</table>\n",
       "</div>"
      ],
      "text/plain": [
       "   index District   PVI Representative    State\n",
       "0      6        1  R+15     Republican  Alabama\n",
       "1      7        2  R+17     Republican  Alabama\n",
       "2      8        3  R+16     Republican  Alabama\n",
       "3      9        4  R+28     Republican  Alabama\n",
       "4     10        5  R+17     Republican  Alabama\n",
       "5     11        6  R+28     Republican  Alabama\n",
       "6     12        7  D+20     Democratic  Alabama\n",
       "7     13       AL  R+12     Republican   Alaska"
      ]
     },
     "execution_count": 18,
     "metadata": {},
     "output_type": "execute_result"
    }
   ],
   "source": [
    "#fix at large designation\n",
    "pvi_113['District'] = pvi_113['District'].str.replace('At-large','AL')\n",
    "pvi_113['District'] = pvi_113['District'].str.rstrip(\"st\")\n",
    "pvi_113['District'] = pvi_113['District'].str.rstrip(\"nd\")\n",
    "pvi_113['District'] = pvi_113['District'].str.rstrip(\"rd\")\n",
    "pvi_113['District'] = pvi_113['District'].str.rstrip(\"th\")\n",
    "pvi_113.head(n=8)"
   ]
  },
  {
   "cell_type": "code",
   "execution_count": 19,
   "metadata": {},
   "outputs": [
    {
     "data": {
      "text/html": [
       "<div>\n",
       "<style scoped>\n",
       "    .dataframe tbody tr th:only-of-type {\n",
       "        vertical-align: middle;\n",
       "    }\n",
       "\n",
       "    .dataframe tbody tr th {\n",
       "        vertical-align: top;\n",
       "    }\n",
       "\n",
       "    .dataframe thead th {\n",
       "        text-align: right;\n",
       "    }\n",
       "</style>\n",
       "<table border=\"1\" class=\"dataframe\">\n",
       "  <thead>\n",
       "    <tr style=\"text-align: right;\">\n",
       "      <th></th>\n",
       "      <th>index</th>\n",
       "      <th>District</th>\n",
       "      <th>PVI</th>\n",
       "      <th>Representative</th>\n",
       "      <th>State</th>\n",
       "      <th>num</th>\n",
       "      <th>ST</th>\n",
       "    </tr>\n",
       "  </thead>\n",
       "  <tbody>\n",
       "    <tr>\n",
       "      <th>0</th>\n",
       "      <td>6</td>\n",
       "      <td>1</td>\n",
       "      <td>R+15</td>\n",
       "      <td>Republican</td>\n",
       "      <td>Alabama</td>\n",
       "      <td>1</td>\n",
       "      <td>Alabama</td>\n",
       "    </tr>\n",
       "  </tbody>\n",
       "</table>\n",
       "</div>"
      ],
      "text/plain": [
       "   index District   PVI Representative    State num       ST\n",
       "0      6        1  R+15     Republican  Alabama   1  Alabama"
      ]
     },
     "execution_count": 19,
     "metadata": {},
     "output_type": "execute_result"
    }
   ],
   "source": [
    "#seperate state and district\n",
    "pvi_113[\"num\"] = pvi_113.District\n",
    "pvi_113[\"ST\"] =  pvi_113[\"State\"]\n",
    "pvi_113.head(n=1)"
   ]
  },
  {
   "cell_type": "code",
   "execution_count": 20,
   "metadata": {},
   "outputs": [
    {
     "name": "stdout",
     "output_type": "stream",
     "text": [
      "['AL' 'AK' 'AZ' 'AR' 'CA' 'CO' 'CT' 'DE' 'FL' 'GA' 'HI' 'ID' 'IL' 'IN'\n",
      " 'IA' 'KS' 'KY' 'LA' 'ME' 'MD' 'MA' 'MI' 'MN' 'MS' 'MO' 'MT' 'NE' 'NV'\n",
      " 'NH' 'NJ' 'NM' 'NY' 'NC' 'ND' 'OH' 'OK' 'OR' 'PA' 'RI' 'SC' 'SD' 'TN'\n",
      " 'TX' 'UT' 'VT' 'VA' 'WA' 'WV' 'WI' 'WY']\n",
      "['1' '2' '3' '4' '5' '6' '7' 'AL' '8' '9' '10' '11' '12' '13' '14' '15'\n",
      " '16' '17' '18' '19' '20' '21' '22' '23' '24' '25' '26' '27' '28' '29'\n",
      " '30' '31' '32' '33' '34' '35' '36' '37' '38' '39' '40' '41' '42' '43'\n",
      " '44' '45' '46' '47' '48' '49' '50' '51' '52' '53']\n"
     ]
    }
   ],
   "source": [
    "#abbreviate the ST coulmn\n",
    "pvi_113 = pvi_113.replace({\"ST\": us_state_to_abbrev})\n",
    "#check that both ST and num function apropriatley\n",
    "print(pvi_113[\"ST\"].unique())\n",
    "print(pvi_113[\"num\"].unique())"
   ]
  },
  {
   "cell_type": "code",
   "execution_count": 21,
   "metadata": {},
   "outputs": [
    {
     "name": "stdout",
     "output_type": "stream",
     "text": [
      "[1 0]\n"
     ]
    }
   ],
   "source": [
    "#create the district code variable\n",
    "pvi_113[\"ST#\"] = pvi_113[\"ST\"] + pvi_113[\"num\"]\n",
    "#create the \"party of represenative\" variable\n",
    "pvi_113[\"seat\"] = pvi_113.Representative.str[0]\n",
    "#make a dummy\n",
    "pvi_113[\"is_GOP\"] = pvi_113[\"seat\"].replace(\"R\",1)\n",
    "pvi_113[\"is_GOP\"] = pvi_113[\"is_GOP\"].replace(\"D\",0)\n",
    "#The seats of Charlie Dent and Pat Meehan in Pennsylvania went R -> D during this time frame\n",
    "#covert to integer for later numeric analysis\n",
    "pvi_113[\"is_GOP\"] = pvi_113[\"is_GOP\"].astype(int)\n",
    "pvi_113.head(n=7)\n",
    "print(pvi_113[\"is_GOP\"].unique())"
   ]
  },
  {
   "cell_type": "code",
   "execution_count": 22,
   "metadata": {},
   "outputs": [
    {
     "data": {
      "text/plain": [
       "array(['R', 'D', 'E'], dtype=object)"
      ]
     },
     "execution_count": 22,
     "metadata": {},
     "output_type": "execute_result"
    }
   ],
   "source": [
    "#possibly unneccessary\n",
    "#pull out district lean\n",
    "pvi_113[\"lean\"] = pvi_113.PVI.str[0]\n",
    "pvi_113[\"lean\"].unique()"
   ]
  },
  {
   "cell_type": "code",
   "execution_count": 23,
   "metadata": {},
   "outputs": [
    {
     "name": "stdout",
     "output_type": "stream",
     "text": [
      "   index District   PVI Representative    State num  ST  ST# seat  is_GOP  \\\n",
      "0      6        1  R+15     Republican  Alabama   1  AL  AL1    R       1   \n",
      "\n",
      "  lean pvi_party partisan_weight  \n",
      "0    R         R              15  \n",
      "['R' 'D']\n"
     ]
    }
   ],
   "source": [
    "#split out pvi by party and weight\n",
    "#first eliminate even values\n",
    "pvi_113[\"PVI\"] = pvi_113[\"PVI\"].str.replace(\"EVEN\",\"R+0\")\n",
    "pvi_113[\"pvi_party\"] = pvi_113.PVI.str[0]\n",
    "pvi_113['partisan_weight'] = pvi_113['PVI'].str.split('+').str[1]\n",
    "#check results\n",
    "print(pvi_113.head(n=1))\n",
    "print(pvi_113[\"pvi_party\"].unique())"
   ]
  },
  {
   "cell_type": "code",
   "execution_count": 24,
   "metadata": {},
   "outputs": [],
   "source": [
    "#create a variable that is negative when the party is democratic\n",
    "pvi_113[\"neg\"] = pvi_113['pvi_party'].str.replace('D','-')\n",
    "pvi_113[\"neg\"] = pvi_113[\"neg\"].str.replace('R','')\n",
    "#ensure partisan weight has a negative value for democratic leaning and a positive value for Republican leaning\n",
    "pvi_113['partisan_weight'] = pvi_113[\"neg\"] + pvi_113['partisan_weight']\n",
    "#ensure values are integers\n",
    "pvi_113['partisan_weight'] = pvi_113['partisan_weight'].astype(int)"
   ]
  },
  {
   "cell_type": "code",
   "execution_count": 25,
   "metadata": {},
   "outputs": [
    {
     "data": {
      "text/html": [
       "<div>\n",
       "<style scoped>\n",
       "    .dataframe tbody tr th:only-of-type {\n",
       "        vertical-align: middle;\n",
       "    }\n",
       "\n",
       "    .dataframe tbody tr th {\n",
       "        vertical-align: top;\n",
       "    }\n",
       "\n",
       "    .dataframe thead th {\n",
       "        text-align: right;\n",
       "    }\n",
       "</style>\n",
       "<table border=\"1\" class=\"dataframe\">\n",
       "  <thead>\n",
       "    <tr style=\"text-align: right;\">\n",
       "      <th></th>\n",
       "      <th>index</th>\n",
       "      <th>District</th>\n",
       "      <th>PVI</th>\n",
       "      <th>Representative</th>\n",
       "      <th>State</th>\n",
       "      <th>num</th>\n",
       "      <th>ST</th>\n",
       "      <th>ST#</th>\n",
       "      <th>seat</th>\n",
       "      <th>is_GOP</th>\n",
       "      <th>lean</th>\n",
       "      <th>pvi_party</th>\n",
       "      <th>partisan_weight</th>\n",
       "      <th>neg</th>\n",
       "      <th>metric</th>\n",
       "    </tr>\n",
       "  </thead>\n",
       "  <tbody>\n",
       "    <tr>\n",
       "      <th>0</th>\n",
       "      <td>6</td>\n",
       "      <td>1</td>\n",
       "      <td>R+15</td>\n",
       "      <td>Republican</td>\n",
       "      <td>Alabama</td>\n",
       "      <td>1</td>\n",
       "      <td>AL</td>\n",
       "      <td>AL1</td>\n",
       "      <td>R</td>\n",
       "      <td>1</td>\n",
       "      <td>R</td>\n",
       "      <td>R</td>\n",
       "      <td>15</td>\n",
       "      <td></td>\n",
       "      <td>0.575</td>\n",
       "    </tr>\n",
       "    <tr>\n",
       "      <th>1</th>\n",
       "      <td>7</td>\n",
       "      <td>2</td>\n",
       "      <td>R+17</td>\n",
       "      <td>Republican</td>\n",
       "      <td>Alabama</td>\n",
       "      <td>2</td>\n",
       "      <td>AL</td>\n",
       "      <td>AL2</td>\n",
       "      <td>R</td>\n",
       "      <td>1</td>\n",
       "      <td>R</td>\n",
       "      <td>R</td>\n",
       "      <td>17</td>\n",
       "      <td></td>\n",
       "      <td>0.585</td>\n",
       "    </tr>\n",
       "    <tr>\n",
       "      <th>2</th>\n",
       "      <td>8</td>\n",
       "      <td>3</td>\n",
       "      <td>R+16</td>\n",
       "      <td>Republican</td>\n",
       "      <td>Alabama</td>\n",
       "      <td>3</td>\n",
       "      <td>AL</td>\n",
       "      <td>AL3</td>\n",
       "      <td>R</td>\n",
       "      <td>1</td>\n",
       "      <td>R</td>\n",
       "      <td>R</td>\n",
       "      <td>16</td>\n",
       "      <td></td>\n",
       "      <td>0.580</td>\n",
       "    </tr>\n",
       "    <tr>\n",
       "      <th>3</th>\n",
       "      <td>9</td>\n",
       "      <td>4</td>\n",
       "      <td>R+28</td>\n",
       "      <td>Republican</td>\n",
       "      <td>Alabama</td>\n",
       "      <td>4</td>\n",
       "      <td>AL</td>\n",
       "      <td>AL4</td>\n",
       "      <td>R</td>\n",
       "      <td>1</td>\n",
       "      <td>R</td>\n",
       "      <td>R</td>\n",
       "      <td>28</td>\n",
       "      <td></td>\n",
       "      <td>0.640</td>\n",
       "    </tr>\n",
       "    <tr>\n",
       "      <th>4</th>\n",
       "      <td>10</td>\n",
       "      <td>5</td>\n",
       "      <td>R+17</td>\n",
       "      <td>Republican</td>\n",
       "      <td>Alabama</td>\n",
       "      <td>5</td>\n",
       "      <td>AL</td>\n",
       "      <td>AL5</td>\n",
       "      <td>R</td>\n",
       "      <td>1</td>\n",
       "      <td>R</td>\n",
       "      <td>R</td>\n",
       "      <td>17</td>\n",
       "      <td></td>\n",
       "      <td>0.585</td>\n",
       "    </tr>\n",
       "    <tr>\n",
       "      <th>5</th>\n",
       "      <td>11</td>\n",
       "      <td>6</td>\n",
       "      <td>R+28</td>\n",
       "      <td>Republican</td>\n",
       "      <td>Alabama</td>\n",
       "      <td>6</td>\n",
       "      <td>AL</td>\n",
       "      <td>AL6</td>\n",
       "      <td>R</td>\n",
       "      <td>1</td>\n",
       "      <td>R</td>\n",
       "      <td>R</td>\n",
       "      <td>28</td>\n",
       "      <td></td>\n",
       "      <td>0.640</td>\n",
       "    </tr>\n",
       "    <tr>\n",
       "      <th>6</th>\n",
       "      <td>12</td>\n",
       "      <td>7</td>\n",
       "      <td>D+20</td>\n",
       "      <td>Democratic</td>\n",
       "      <td>Alabama</td>\n",
       "      <td>7</td>\n",
       "      <td>AL</td>\n",
       "      <td>AL7</td>\n",
       "      <td>D</td>\n",
       "      <td>0</td>\n",
       "      <td>D</td>\n",
       "      <td>D</td>\n",
       "      <td>-20</td>\n",
       "      <td>-</td>\n",
       "      <td>0.400</td>\n",
       "    </tr>\n",
       "  </tbody>\n",
       "</table>\n",
       "</div>"
      ],
      "text/plain": [
       "   index District   PVI Representative    State num  ST  ST# seat  is_GOP  \\\n",
       "0      6        1  R+15     Republican  Alabama   1  AL  AL1    R       1   \n",
       "1      7        2  R+17     Republican  Alabama   2  AL  AL2    R       1   \n",
       "2      8        3  R+16     Republican  Alabama   3  AL  AL3    R       1   \n",
       "3      9        4  R+28     Republican  Alabama   4  AL  AL4    R       1   \n",
       "4     10        5  R+17     Republican  Alabama   5  AL  AL5    R       1   \n",
       "5     11        6  R+28     Republican  Alabama   6  AL  AL6    R       1   \n",
       "6     12        7  D+20     Democratic  Alabama   7  AL  AL7    D       0   \n",
       "\n",
       "  lean pvi_party  partisan_weight neg  metric  \n",
       "0    R         R               15       0.575  \n",
       "1    R         R               17       0.585  \n",
       "2    R         R               16       0.580  \n",
       "3    R         R               28       0.640  \n",
       "4    R         R               17       0.585  \n",
       "5    R         R               28       0.640  \n",
       "6    D         D              -20   -   0.400  "
      ]
     },
     "execution_count": 25,
     "metadata": {},
     "output_type": "execute_result"
    }
   ],
   "source": [
    "pvi_113[\"metric\"] = ((pvi_113['partisan_weight'] / 2) + 50) / 100\n",
    "pvi_113.head(n=7)"
   ]
  },
  {
   "cell_type": "code",
   "execution_count": 26,
   "metadata": {},
   "outputs": [],
   "source": [
    "#add constants for later aggregation\n",
    "pvi_113[\"year\"] = 2012\n",
    "pvi_113[\"congress\"] = 113"
   ]
  },
  {
   "cell_type": "markdown",
   "metadata": {},
   "source": [
    "## Export clean versions of the data"
   ]
  },
  {
   "cell_type": "code",
   "execution_count": 27,
   "metadata": {},
   "outputs": [],
   "source": [
    "#create a dataset solely to correlate pvi with the holder of the seat\n",
    "pure_113 = pvi_113[[\"year\",\"metric\",\"is_GOP\"]]\n",
    "pure_113.to_csv(\"/Users/xavier/Desktop/DSPP/solo_projects/redistricting_project/clean_data/pure_datasets/pure_113.csv\",index=False)\n",
    "#create a more detailed dataset for greater uses\n",
    "data_113 = pvi_113[[\"year\",\"congress\",\"ST\",\"ST#\",\"seat\",\"is_GOP\",\"PVI\",\"metric\"]]\n",
    "data_113.to_csv(\"/Users/xavier/Desktop/DSPP/solo_projects/redistricting_project/clean_data/full_districts/data_113.csv\",index=False)"
   ]
  },
  {
   "cell_type": "code",
   "execution_count": 28,
   "metadata": {},
   "outputs": [
    {
     "data": {
      "text/html": [
       "<div>\n",
       "<style scoped>\n",
       "    .dataframe tbody tr th:only-of-type {\n",
       "        vertical-align: middle;\n",
       "    }\n",
       "\n",
       "    .dataframe tbody tr th {\n",
       "        vertical-align: top;\n",
       "    }\n",
       "\n",
       "    .dataframe thead th {\n",
       "        text-align: right;\n",
       "    }\n",
       "</style>\n",
       "<table border=\"1\" class=\"dataframe\">\n",
       "  <thead>\n",
       "    <tr style=\"text-align: right;\">\n",
       "      <th></th>\n",
       "      <th>year</th>\n",
       "      <th>congress</th>\n",
       "      <th>ST</th>\n",
       "      <th>ST#</th>\n",
       "      <th>seat</th>\n",
       "      <th>is_GOP</th>\n",
       "      <th>PVI</th>\n",
       "      <th>metric</th>\n",
       "    </tr>\n",
       "  </thead>\n",
       "  <tbody>\n",
       "    <tr>\n",
       "      <th>0</th>\n",
       "      <td>2012</td>\n",
       "      <td>113</td>\n",
       "      <td>AL</td>\n",
       "      <td>AL1</td>\n",
       "      <td>R</td>\n",
       "      <td>1</td>\n",
       "      <td>R+15</td>\n",
       "      <td>0.575</td>\n",
       "    </tr>\n",
       "    <tr>\n",
       "      <th>1</th>\n",
       "      <td>2012</td>\n",
       "      <td>113</td>\n",
       "      <td>AL</td>\n",
       "      <td>AL2</td>\n",
       "      <td>R</td>\n",
       "      <td>1</td>\n",
       "      <td>R+17</td>\n",
       "      <td>0.585</td>\n",
       "    </tr>\n",
       "    <tr>\n",
       "      <th>2</th>\n",
       "      <td>2012</td>\n",
       "      <td>113</td>\n",
       "      <td>AL</td>\n",
       "      <td>AL3</td>\n",
       "      <td>R</td>\n",
       "      <td>1</td>\n",
       "      <td>R+16</td>\n",
       "      <td>0.580</td>\n",
       "    </tr>\n",
       "    <tr>\n",
       "      <th>3</th>\n",
       "      <td>2012</td>\n",
       "      <td>113</td>\n",
       "      <td>AL</td>\n",
       "      <td>AL4</td>\n",
       "      <td>R</td>\n",
       "      <td>1</td>\n",
       "      <td>R+28</td>\n",
       "      <td>0.640</td>\n",
       "    </tr>\n",
       "    <tr>\n",
       "      <th>4</th>\n",
       "      <td>2012</td>\n",
       "      <td>113</td>\n",
       "      <td>AL</td>\n",
       "      <td>AL5</td>\n",
       "      <td>R</td>\n",
       "      <td>1</td>\n",
       "      <td>R+17</td>\n",
       "      <td>0.585</td>\n",
       "    </tr>\n",
       "    <tr>\n",
       "      <th>5</th>\n",
       "      <td>2012</td>\n",
       "      <td>113</td>\n",
       "      <td>AL</td>\n",
       "      <td>AL6</td>\n",
       "      <td>R</td>\n",
       "      <td>1</td>\n",
       "      <td>R+28</td>\n",
       "      <td>0.640</td>\n",
       "    </tr>\n",
       "    <tr>\n",
       "      <th>6</th>\n",
       "      <td>2012</td>\n",
       "      <td>113</td>\n",
       "      <td>AL</td>\n",
       "      <td>AL7</td>\n",
       "      <td>D</td>\n",
       "      <td>0</td>\n",
       "      <td>D+20</td>\n",
       "      <td>0.400</td>\n",
       "    </tr>\n",
       "    <tr>\n",
       "      <th>7</th>\n",
       "      <td>2012</td>\n",
       "      <td>113</td>\n",
       "      <td>AK</td>\n",
       "      <td>AKAL</td>\n",
       "      <td>R</td>\n",
       "      <td>1</td>\n",
       "      <td>R+12</td>\n",
       "      <td>0.560</td>\n",
       "    </tr>\n",
       "  </tbody>\n",
       "</table>\n",
       "</div>"
      ],
      "text/plain": [
       "   year  congress  ST   ST# seat  is_GOP   PVI  metric\n",
       "0  2012       113  AL   AL1    R       1  R+15   0.575\n",
       "1  2012       113  AL   AL2    R       1  R+17   0.585\n",
       "2  2012       113  AL   AL3    R       1  R+16   0.580\n",
       "3  2012       113  AL   AL4    R       1  R+28   0.640\n",
       "4  2012       113  AL   AL5    R       1  R+17   0.585\n",
       "5  2012       113  AL   AL6    R       1  R+28   0.640\n",
       "6  2012       113  AL   AL7    D       0  D+20   0.400\n",
       "7  2012       113  AK  AKAL    R       1  R+12   0.560"
      ]
     },
     "execution_count": 28,
     "metadata": {},
     "output_type": "execute_result"
    }
   ],
   "source": [
    "data_113.head(8)"
   ]
  },
  {
   "cell_type": "markdown",
   "metadata": {},
   "source": [
    "## Conduct preliminary examinations of the data"
   ]
  },
  {
   "cell_type": "code",
   "execution_count": 29,
   "metadata": {},
   "outputs": [
    {
     "data": {
      "image/png": "[encoded data removed]",
      "text/plain": [
       "<Figure size 640x480 with 1 Axes>"
      ]
     },
     "metadata": {},
     "output_type": "display_data"
    },
    {
     "data": {
      "text/plain": [
       "<ggplot: (8789611680832)>"
      ]
     },
     "execution_count": 29,
     "metadata": {},
     "output_type": "execute_result"
    }
   ],
   "source": [
    "# Create a super simple scatterplot to examine the relationship between PVI and congressional district\n",
    "(p9.ggplot(data=pure_113, mapping=p9.aes(x='metric', y='is_GOP'))\n",
    " + p9.geom_point() \n",
    " + labs(x='GOP Leaning of District', y='GOP Representation',color=\"\",title=\"PVI Correlation\"))"
   ]
  },
  {
   "cell_type": "markdown",
   "metadata": {},
   "source": [
    "From the 113th Congress, we can see that whil Generally PVI is effective, Democrats are winning a large number of Republican leaning districts"
   ]
  },
  {
   "cell_type": "code",
   "execution_count": 30,
   "metadata": {},
   "outputs": [],
   "source": [
    "#group by metric and average GOP seats\n",
    "bm_113 = pure_113.groupby('metric').mean()\n",
    "#this will not be produced into a dataset without aggregating all years, as \n",
    "bm_113 = bm_113.reset_index()"
   ]
  },
  {
   "cell_type": "code",
   "execution_count": 31,
   "metadata": {},
   "outputs": [
    {
     "data": {
      "image/png": "[encoded data removed]",
      "text/plain": [
       "<Figure size 640x480 with 1 Axes>"
      ]
     },
     "metadata": {},
     "output_type": "display_data"
    },
    {
     "data": {
      "text/plain": [
       "<ggplot: (8789611704239)>"
      ]
     },
     "execution_count": 31,
     "metadata": {},
     "output_type": "execute_result"
    }
   ],
   "source": [
    "#Plot averages\n",
    "(p9.ggplot(data=bm_113, mapping=p9.aes(x='metric', y='is_GOP'))\n",
    " + p9.geom_point() \n",
    " + labs(x='GOP Leaning of District', y=\"Share of GOP Representatives\",color=\"\",title=\"PVI Correlation\"))"
   ]
  },
  {
   "cell_type": "markdown",
   "metadata": {},
   "source": [
    "The regression line below and the data above informs of a slight Democratic advantage against PVI this cycle; remeber that the general Republican bias of the districts this cycle does not mean a Democratic advantage here."
   ]
  },
  {
   "cell_type": "code",
   "execution_count": 32,
   "metadata": {},
   "outputs": [],
   "source": [
    "#now lets limit the data to only the R+10 to D+10 range, calling it Limited Domain\n",
    "ld_113 = bm_113[bm_113[\"metric\"] <= .55]\n",
    "ld_113 = ld_113[ld_113[\"metric\"] >= .45]"
   ]
  },
  {
   "cell_type": "code",
   "execution_count": 33,
   "metadata": {},
   "outputs": [
    {
     "data": {
      "image/png": "[encoded data removed]",
      "text/plain": [
       "<Figure size 640x480 with 1 Axes>"
      ]
     },
     "metadata": {},
     "output_type": "display_data"
    },
    {
     "data": {
      "text/plain": [
       "<ggplot: (8789612228021)>"
      ]
     },
     "execution_count": 33,
     "metadata": {},
     "output_type": "execute_result"
    }
   ],
   "source": [
    "#Plot averages\n",
    "(p9.ggplot(data=ld_113, mapping=p9.aes(x='metric', y='is_GOP'))\n",
    " + p9.geom_point() \n",
    " + geom_smooth(method = \"lm\", color = \"red\", se = False)\n",
    " + labs(x='GOP Leaning of District', y=\"Share of GOP Representatives\",color=\"\",title=\"PVI Correlation\"))"
   ]
  }
 ],
 "metadata": {
  "kernelspec": {
   "display_name": "Python 3",
   "language": "python",
   "name": "python3"
  },
  "language_info": {
   "codemirror_mode": {
    "name": "ipython",
    "version": 3
   },
   "file_extension": ".py",
   "mimetype": "text/x-python",
   "name": "python",
   "nbconvert_exporter": "python",
   "pygments_lexer": "ipython3",
   "version": "3.8.5"
  }
 },
 "nbformat": 4,
 "nbformat_minor": 4
}
