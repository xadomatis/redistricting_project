{
 "cells": [
  {
   "cell_type": "markdown",
   "metadata": {},
   "source": [
    "# 115th Congress Data"
   ]
  },
  {
   "cell_type": "markdown",
   "metadata": {},
   "source": [
    "This notebook is meant to call, clean, and examine data from the 2016 election, to produce a viable metric correlating PVI and electoral success.\n",
    "\n",
    "It feeds into a larger project about fairness in redistricting; for instance, if an R+15 district is unattainable for a Democrat to win, then the district can be wholly classified as \"safe,\" and should be bucketed with R+30 district.\n",
    "\n",
    "The nuance enters in the margins. How safe is an R+6 district for instance? Can we quantify a district moving from R+3 to R+6 as a significant bias against Democrats? By cleaning this dataset, and others like it, we can determine the predictive power of PVI in each district, and use those probabilities later to assess redistricting fairness."
   ]
  },
  {
   "cell_type": "markdown",
   "metadata": {},
   "source": [
    "## Retrieve data from Wikipedia"
   ]
  },
  {
   "cell_type": "markdown",
   "metadata": {},
   "source": [
    "Wikipedia's current Cook PVI page contains a free and current (up to 2020 election results) version of the index, where free downloads from Cook's website are dated, containing 2018 results and 2016 PVI metrics"
   ]
  },
  {
   "cell_type": "code",
   "execution_count": 1,
   "metadata": {},
   "outputs": [],
   "source": [
    "import requests\n",
    "import pandas as pd\n",
    "pd.set_option(\"display.max_rows\", None, \"display.max_columns\", None)"
   ]
  },
  {
   "cell_type": "code",
   "execution_count": 2,
   "metadata": {},
   "outputs": [],
   "source": [
    "#import and format url\n",
    "url = \"https://web.archive.org/web/20180705210335/https://en.wikipedia.org/wiki/Cook_Partisan_Voting_Index\"\n",
    "page = pd.read_html(url)\n",
    "dat = pd.concat(page,ignore_index=True)"
   ]
  },
  {
   "cell_type": "code",
   "execution_count": 3,
   "metadata": {},
   "outputs": [],
   "source": [
    "#split data into state and district pvis\n",
    "wiki_district = dat[6:441]\n",
    "wiki_state = dat[447:]"
   ]
  },
  {
   "cell_type": "code",
   "execution_count": 4,
   "metadata": {},
   "outputs": [],
   "source": [
    "#cut NA columns\n",
    "wiki_district = wiki_district.dropna(axis=1, how='any', thresh=None, subset=None, inplace=False)\n",
    "wiki_state = wiki_state.dropna(axis=1, how='any', thresh=None, subset=None, inplace=False)"
   ]
  },
  {
   "cell_type": "markdown",
   "metadata": {},
   "source": [
    "## Clean and Organize State Data"
   ]
  },
  {
   "cell_type": "code",
   "execution_count": 5,
   "metadata": {},
   "outputs": [],
   "source": [
    "#call in a dictionary of state abbreviations\n",
    "us_state_to_abbrev = {\n",
    "    \"Alabama\": \"AL\",\n",
    "    \"Alaska\": \"AK\",\n",
    "    \"Arizona\": \"AZ\",\n",
    "    \"Arkansas\": \"AR\",\n",
    "    \"California\": \"CA\",\n",
    "    \"Colorado\": \"CO\",\n",
    "    \"Connecticut\": \"CT\",\n",
    "    \"Delaware\": \"DE\",\n",
    "    \"Florida\": \"FL\",\n",
    "    \"Georgia\": \"GA\",\n",
    "    \"Hawaii\": \"HI\",\n",
    "    \"Idaho\": \"ID\",\n",
    "    \"Illinois\": \"IL\",\n",
    "    \"Indiana\": \"IN\",\n",
    "    \"Iowa\": \"IA\",\n",
    "    \"Kansas\": \"KS\",\n",
    "    \"Kentucky\": \"KY\",\n",
    "    \"Louisiana\": \"LA\",\n",
    "    \"Maine\": \"ME\",\n",
    "    \"Maryland\": \"MD\",\n",
    "    \"Massachusetts\": \"MA\",\n",
    "    \"Michigan\": \"MI\",\n",
    "    \"Minnesota\": \"MN\",\n",
    "    \"Mississippi\": \"MS\",\n",
    "    \"Missouri\": \"MO\",\n",
    "    \"Montana\": \"MT\",\n",
    "    \"Nebraska\": \"NE\",\n",
    "    \"Nevada\": \"NV\",\n",
    "    \"New Hampshire\": \"NH\",\n",
    "    \"New Jersey\": \"NJ\",\n",
    "    \"New Mexico\": \"NM\",\n",
    "    \"New York\": \"NY\",\n",
    "    \"North Carolina\": \"NC\",\n",
    "    \"North Dakota\": \"ND\",\n",
    "    \"Ohio\": \"OH\",\n",
    "    \"Oklahoma\": \"OK\",\n",
    "    \"Oregon\": \"OR\",\n",
    "    \"Pennsylvania\": \"PA\",\n",
    "    \"Rhode Island\": \"RI\",\n",
    "    \"South Carolina\": \"SC\",\n",
    "    \"South Dakota\": \"SD\",\n",
    "    \"Tennessee\": \"TN\",\n",
    "    \"Texas\": \"TX\",\n",
    "    \"Utah\": \"UT\",\n",
    "    \"Vermont\": \"VT\",\n",
    "    \"Virginia\": \"VA\",\n",
    "    \"Washington\": \"WA\",\n",
    "    \"West Virginia\": \"WV\",\n",
    "    \"Wisconsin\": \"WI\",\n",
    "    \"Wyoming\": \"WY\",\n",
    "    \"District of Columbia\": \"DC\",\n",
    "    \"American Samoa\": \"AS\",\n",
    "    \"Guam\": \"GU\",\n",
    "    \"Northern Mariana Islands\": \"MP\",\n",
    "    \"Puerto Rico\": \"PR\",\n",
    "    \"United States Minor Outlying Islands\": \"UM\",\n",
    "    \"U.S. Virgin Islands\": \"VI\",\n",
    "}"
   ]
  },
  {
   "cell_type": "code",
   "execution_count": 6,
   "metadata": {},
   "outputs": [
    {
     "name": "stdout",
     "output_type": "stream",
     "text": [
      "['AL' 'AK' 'AZ' 'AR' 'CA' 'CO' 'CT' 'DE' 'FL' 'GA' 'HI' 'ID' 'IL' 'IN'\n",
      " 'IA' 'KS' 'KY' 'LA' 'ME' 'MD' 'MA' 'MI' 'MN' 'MS' 'MO' 'MT' 'NE' 'NV'\n",
      " 'NH' 'NJ' 'NM' 'NY' 'NC' 'ND' 'OH' 'OK' 'OR' 'PA' 'RI' 'SC' 'SD' 'TN'\n",
      " 'TX' 'UT' 'VT' 'VA' 'WA' 'WV' 'WI' 'WY']\n"
     ]
    }
   ],
   "source": [
    "state_115 = wiki_state\n",
    "state_115[\"ST\"] =  state_115[\"State\"]\n",
    "#abbreviate the ST coulmn\n",
    "state_115 = state_115.replace({\"ST\": us_state_to_abbrev})\n",
    "#check that both ST and num function apropriatley\n",
    "print(state_115[\"ST\"].unique())"
   ]
  },
  {
   "cell_type": "code",
   "execution_count": 7,
   "metadata": {},
   "outputs": [
    {
     "name": "stdout",
     "output_type": "stream",
     "text": [
      "    House balance   PVI Party in Senate Party of Governor    State  ST  \\\n",
      "447        6R, 1D  R+14            Both        Republican  Alabama  AL   \n",
      "\n",
      "    pvi_party partisan_weight  \n",
      "447         R              14  \n",
      "['R' 'D']\n"
     ]
    }
   ],
   "source": [
    "#split out pvi by party and weight\n",
    "#first eliminate even values\n",
    "state_115[\"PVI\"] = state_115[\"PVI\"].str.replace(\"EVEN\",\"R+0\")\n",
    "state_115[\"pvi_party\"] = state_115.PVI.str[0]\n",
    "state_115['partisan_weight'] = state_115['PVI'].str.split('+').str[1]\n",
    "#check results\n",
    "print(state_115.head(n=1))\n",
    "print(state_115[\"pvi_party\"].unique())"
   ]
  },
  {
   "cell_type": "code",
   "execution_count": 8,
   "metadata": {},
   "outputs": [],
   "source": [
    "#add constants for later aggregation\n",
    "state_115[\"year\"] = 2016\n",
    "state_115[\"congress\"] = 115"
   ]
  },
  {
   "cell_type": "code",
   "execution_count": 9,
   "metadata": {},
   "outputs": [],
   "source": [
    "#create a variable that is negative when the party is democratic\n",
    "state_115[\"neg\"] = state_115['pvi_party'].str.replace('D','-')\n",
    "state_115[\"neg\"] = state_115[\"neg\"].str.replace('R','')\n",
    "#ensure partisan weight has a negative value for democratic leaning and a positive value for Republican leaning\n",
    "state_115['partisan_weight'] = state_115[\"neg\"] + state_115['partisan_weight']\n",
    "#ensure values are integers\n",
    "state_115['partisan_weight'] = state_115['partisan_weight'].astype(int)"
   ]
  },
  {
   "cell_type": "code",
   "execution_count": 10,
   "metadata": {},
   "outputs": [
    {
     "data": {
      "text/html": [
       "<div>\n",
       "<style scoped>\n",
       "    .dataframe tbody tr th:only-of-type {\n",
       "        vertical-align: middle;\n",
       "    }\n",
       "\n",
       "    .dataframe tbody tr th {\n",
       "        vertical-align: top;\n",
       "    }\n",
       "\n",
       "    .dataframe thead th {\n",
       "        text-align: right;\n",
       "    }\n",
       "</style>\n",
       "<table border=\"1\" class=\"dataframe\">\n",
       "  <thead>\n",
       "    <tr style=\"text-align: right;\">\n",
       "      <th></th>\n",
       "      <th>House balance</th>\n",
       "      <th>PVI</th>\n",
       "      <th>Party in Senate</th>\n",
       "      <th>Party of Governor</th>\n",
       "      <th>State</th>\n",
       "      <th>ST</th>\n",
       "      <th>pvi_party</th>\n",
       "      <th>partisan_weight</th>\n",
       "      <th>year</th>\n",
       "      <th>congress</th>\n",
       "      <th>neg</th>\n",
       "      <th>metric</th>\n",
       "    </tr>\n",
       "  </thead>\n",
       "  <tbody>\n",
       "    <tr>\n",
       "      <th>447</th>\n",
       "      <td>6R, 1D</td>\n",
       "      <td>R+14</td>\n",
       "      <td>Both</td>\n",
       "      <td>Republican</td>\n",
       "      <td>Alabama</td>\n",
       "      <td>AL</td>\n",
       "      <td>R</td>\n",
       "      <td>14</td>\n",
       "      <td>2016</td>\n",
       "      <td>115</td>\n",
       "      <td></td>\n",
       "      <td>0.64</td>\n",
       "    </tr>\n",
       "    <tr>\n",
       "      <th>448</th>\n",
       "      <td>1R</td>\n",
       "      <td>R+9</td>\n",
       "      <td>Republican</td>\n",
       "      <td>Independent</td>\n",
       "      <td>Alaska</td>\n",
       "      <td>AK</td>\n",
       "      <td>R</td>\n",
       "      <td>9</td>\n",
       "      <td>2016</td>\n",
       "      <td>115</td>\n",
       "      <td></td>\n",
       "      <td>0.59</td>\n",
       "    </tr>\n",
       "    <tr>\n",
       "      <th>449</th>\n",
       "      <td>5R, 4D</td>\n",
       "      <td>R+5</td>\n",
       "      <td>Republican</td>\n",
       "      <td>Republican</td>\n",
       "      <td>Arizona</td>\n",
       "      <td>AZ</td>\n",
       "      <td>R</td>\n",
       "      <td>5</td>\n",
       "      <td>2016</td>\n",
       "      <td>115</td>\n",
       "      <td></td>\n",
       "      <td>0.55</td>\n",
       "    </tr>\n",
       "    <tr>\n",
       "      <th>450</th>\n",
       "      <td>4R</td>\n",
       "      <td>R+15</td>\n",
       "      <td>Republican</td>\n",
       "      <td>Republican</td>\n",
       "      <td>Arkansas</td>\n",
       "      <td>AR</td>\n",
       "      <td>R</td>\n",
       "      <td>15</td>\n",
       "      <td>2016</td>\n",
       "      <td>115</td>\n",
       "      <td></td>\n",
       "      <td>0.65</td>\n",
       "    </tr>\n",
       "    <tr>\n",
       "      <th>451</th>\n",
       "      <td>39D, 14R</td>\n",
       "      <td>D+12</td>\n",
       "      <td>Democratic</td>\n",
       "      <td>Democratic</td>\n",
       "      <td>California</td>\n",
       "      <td>CA</td>\n",
       "      <td>D</td>\n",
       "      <td>-12</td>\n",
       "      <td>2016</td>\n",
       "      <td>115</td>\n",
       "      <td>-</td>\n",
       "      <td>0.38</td>\n",
       "    </tr>\n",
       "    <tr>\n",
       "      <th>452</th>\n",
       "      <td>4R, 3D</td>\n",
       "      <td>D+1</td>\n",
       "      <td>Both</td>\n",
       "      <td>Democratic</td>\n",
       "      <td>Colorado</td>\n",
       "      <td>CO</td>\n",
       "      <td>D</td>\n",
       "      <td>-1</td>\n",
       "      <td>2016</td>\n",
       "      <td>115</td>\n",
       "      <td>-</td>\n",
       "      <td>0.49</td>\n",
       "    </tr>\n",
       "    <tr>\n",
       "      <th>453</th>\n",
       "      <td>5D</td>\n",
       "      <td>D+6</td>\n",
       "      <td>Democratic</td>\n",
       "      <td>Democratic</td>\n",
       "      <td>Connecticut</td>\n",
       "      <td>CT</td>\n",
       "      <td>D</td>\n",
       "      <td>-6</td>\n",
       "      <td>2016</td>\n",
       "      <td>115</td>\n",
       "      <td>-</td>\n",
       "      <td>0.44</td>\n",
       "    </tr>\n",
       "  </tbody>\n",
       "</table>\n",
       "</div>"
      ],
      "text/plain": [
       "    House balance   PVI Party in Senate Party of Governor        State  ST  \\\n",
       "447        6R, 1D  R+14            Both        Republican      Alabama  AL   \n",
       "448            1R   R+9      Republican       Independent       Alaska  AK   \n",
       "449        5R, 4D   R+5      Republican        Republican      Arizona  AZ   \n",
       "450            4R  R+15      Republican        Republican     Arkansas  AR   \n",
       "451      39D, 14R  D+12      Democratic        Democratic   California  CA   \n",
       "452        4R, 3D   D+1            Both        Democratic     Colorado  CO   \n",
       "453            5D   D+6      Democratic        Democratic  Connecticut  CT   \n",
       "\n",
       "    pvi_party  partisan_weight  year  congress neg  metric  \n",
       "447         R               14  2016       115        0.64  \n",
       "448         R                9  2016       115        0.59  \n",
       "449         R                5  2016       115        0.55  \n",
       "450         R               15  2016       115        0.65  \n",
       "451         D              -12  2016       115   -    0.38  \n",
       "452         D               -1  2016       115   -    0.49  \n",
       "453         D               -6  2016       115   -    0.44  "
      ]
     },
     "execution_count": 10,
     "metadata": {},
     "output_type": "execute_result"
    }
   ],
   "source": [
    "state_115[\"metric\"] = ((state_115['partisan_weight']) + 50) / 100\n",
    "state_115.head(n=7)"
   ]
  },
  {
   "cell_type": "code",
   "execution_count": 11,
   "metadata": {},
   "outputs": [],
   "source": [
    "state_115 = state_115[[\"year\",\"ST\",\"PVI\",\"metric\"]]\n",
    "state_115.to_csv(\"/Users/xavier/Desktop/DSPP/solo_projects/redistricting_project/clean_data/state_pvi/state_115.csv\",index=False)"
   ]
  },
  {
   "cell_type": "code",
   "execution_count": 12,
   "metadata": {},
   "outputs": [
    {
     "data": {
      "text/html": [
       "<div>\n",
       "<style scoped>\n",
       "    .dataframe tbody tr th:only-of-type {\n",
       "        vertical-align: middle;\n",
       "    }\n",
       "\n",
       "    .dataframe tbody tr th {\n",
       "        vertical-align: top;\n",
       "    }\n",
       "\n",
       "    .dataframe thead th {\n",
       "        text-align: right;\n",
       "    }\n",
       "</style>\n",
       "<table border=\"1\" class=\"dataframe\">\n",
       "  <thead>\n",
       "    <tr style=\"text-align: right;\">\n",
       "      <th></th>\n",
       "      <th>year</th>\n",
       "      <th>ST</th>\n",
       "      <th>PVI</th>\n",
       "      <th>metric</th>\n",
       "    </tr>\n",
       "  </thead>\n",
       "  <tbody>\n",
       "    <tr>\n",
       "      <th>447</th>\n",
       "      <td>2016</td>\n",
       "      <td>AL</td>\n",
       "      <td>R+14</td>\n",
       "      <td>0.64</td>\n",
       "    </tr>\n",
       "    <tr>\n",
       "      <th>448</th>\n",
       "      <td>2016</td>\n",
       "      <td>AK</td>\n",
       "      <td>R+9</td>\n",
       "      <td>0.59</td>\n",
       "    </tr>\n",
       "    <tr>\n",
       "      <th>449</th>\n",
       "      <td>2016</td>\n",
       "      <td>AZ</td>\n",
       "      <td>R+5</td>\n",
       "      <td>0.55</td>\n",
       "    </tr>\n",
       "    <tr>\n",
       "      <th>450</th>\n",
       "      <td>2016</td>\n",
       "      <td>AR</td>\n",
       "      <td>R+15</td>\n",
       "      <td>0.65</td>\n",
       "    </tr>\n",
       "    <tr>\n",
       "      <th>451</th>\n",
       "      <td>2016</td>\n",
       "      <td>CA</td>\n",
       "      <td>D+12</td>\n",
       "      <td>0.38</td>\n",
       "    </tr>\n",
       "    <tr>\n",
       "      <th>452</th>\n",
       "      <td>2016</td>\n",
       "      <td>CO</td>\n",
       "      <td>D+1</td>\n",
       "      <td>0.49</td>\n",
       "    </tr>\n",
       "    <tr>\n",
       "      <th>453</th>\n",
       "      <td>2016</td>\n",
       "      <td>CT</td>\n",
       "      <td>D+6</td>\n",
       "      <td>0.44</td>\n",
       "    </tr>\n",
       "    <tr>\n",
       "      <th>454</th>\n",
       "      <td>2016</td>\n",
       "      <td>DE</td>\n",
       "      <td>D+6</td>\n",
       "      <td>0.44</td>\n",
       "    </tr>\n",
       "  </tbody>\n",
       "</table>\n",
       "</div>"
      ],
      "text/plain": [
       "     year  ST   PVI  metric\n",
       "447  2016  AL  R+14    0.64\n",
       "448  2016  AK   R+9    0.59\n",
       "449  2016  AZ   R+5    0.55\n",
       "450  2016  AR  R+15    0.65\n",
       "451  2016  CA  D+12    0.38\n",
       "452  2016  CO   D+1    0.49\n",
       "453  2016  CT   D+6    0.44\n",
       "454  2016  DE   D+6    0.44"
      ]
     },
     "execution_count": 12,
     "metadata": {},
     "output_type": "execute_result"
    }
   ],
   "source": [
    "state_115.head(8)"
   ]
  },
  {
   "cell_type": "markdown",
   "metadata": {},
   "source": [
    "## Clean and Organize the District Data"
   ]
  },
  {
   "cell_type": "code",
   "execution_count": 13,
   "metadata": {},
   "outputs": [],
   "source": [
    "import numpy as np\n",
    "import plotnine as p9\n",
    "from plotnine import ggplot, aes, facet_grid, labs, geom_point, geom_smooth\n",
    "from sklearn.linear_model import LinearRegression as lm\n",
    "import warnings\n",
    "warnings.filterwarnings('ignore')"
   ]
  },
  {
   "cell_type": "code",
   "execution_count": 14,
   "metadata": {},
   "outputs": [
    {
     "name": "stdout",
     "output_type": "stream",
     "text": [
      "    District   PVI Party of Representative\n",
      "6  Alabama 1  R+15              Republican\n",
      "(435, 3)\n"
     ]
    }
   ],
   "source": [
    "#load in and check the data\n",
    "pvi_115 = wiki_district\n",
    "print(pvi_115.head(n=1))\n",
    "print(pvi_115.shape)"
   ]
  },
  {
   "cell_type": "code",
   "execution_count": 15,
   "metadata": {},
   "outputs": [],
   "source": [
    "#correct the column name for later use\n",
    "pvi_115 = pvi_115.rename(columns={\"Party of Representative\": \"Representative\"})"
   ]
  },
  {
   "cell_type": "code",
   "execution_count": 16,
   "metadata": {},
   "outputs": [
    {
     "data": {
      "text/html": [
       "<div>\n",
       "<style scoped>\n",
       "    .dataframe tbody tr th:only-of-type {\n",
       "        vertical-align: middle;\n",
       "    }\n",
       "\n",
       "    .dataframe tbody tr th {\n",
       "        vertical-align: top;\n",
       "    }\n",
       "\n",
       "    .dataframe thead th {\n",
       "        text-align: right;\n",
       "    }\n",
       "</style>\n",
       "<table border=\"1\" class=\"dataframe\">\n",
       "  <thead>\n",
       "    <tr style=\"text-align: right;\">\n",
       "      <th></th>\n",
       "      <th>District</th>\n",
       "      <th>PVI</th>\n",
       "      <th>Representative</th>\n",
       "    </tr>\n",
       "  </thead>\n",
       "  <tbody>\n",
       "    <tr>\n",
       "      <th>6</th>\n",
       "      <td>Alabama 1</td>\n",
       "      <td>R+15</td>\n",
       "      <td>Republican</td>\n",
       "    </tr>\n",
       "    <tr>\n",
       "      <th>7</th>\n",
       "      <td>Alabama 2</td>\n",
       "      <td>R+16</td>\n",
       "      <td>Republican</td>\n",
       "    </tr>\n",
       "    <tr>\n",
       "      <th>8</th>\n",
       "      <td>Alabama 3</td>\n",
       "      <td>R+16</td>\n",
       "      <td>Republican</td>\n",
       "    </tr>\n",
       "    <tr>\n",
       "      <th>9</th>\n",
       "      <td>Alabama 4</td>\n",
       "      <td>R+30</td>\n",
       "      <td>Republican</td>\n",
       "    </tr>\n",
       "    <tr>\n",
       "      <th>10</th>\n",
       "      <td>Alabama 5</td>\n",
       "      <td>R+18</td>\n",
       "      <td>Republican</td>\n",
       "    </tr>\n",
       "    <tr>\n",
       "      <th>11</th>\n",
       "      <td>Alabama 6</td>\n",
       "      <td>R+26</td>\n",
       "      <td>Republican</td>\n",
       "    </tr>\n",
       "    <tr>\n",
       "      <th>12</th>\n",
       "      <td>Alabama 7</td>\n",
       "      <td>D+20</td>\n",
       "      <td>Democratic</td>\n",
       "    </tr>\n",
       "    <tr>\n",
       "      <th>13</th>\n",
       "      <td>Alaska AL</td>\n",
       "      <td>R+9</td>\n",
       "      <td>Republican</td>\n",
       "    </tr>\n",
       "  </tbody>\n",
       "</table>\n",
       "</div>"
      ],
      "text/plain": [
       "     District   PVI Representative\n",
       "6   Alabama 1  R+15     Republican\n",
       "7   Alabama 2  R+16     Republican\n",
       "8   Alabama 3  R+16     Republican\n",
       "9   Alabama 4  R+30     Republican\n",
       "10  Alabama 5  R+18     Republican\n",
       "11  Alabama 6  R+26     Republican\n",
       "12  Alabama 7  D+20     Democratic\n",
       "13  Alaska AL   R+9     Republican"
      ]
     },
     "execution_count": 16,
     "metadata": {},
     "output_type": "execute_result"
    }
   ],
   "source": [
    "#fix at large designation\n",
    "pvi_115['District'] = pvi_115['District'].str.replace('at-large','AL')\n",
    "pvi_115.head(n=8)"
   ]
  },
  {
   "cell_type": "code",
   "execution_count": 17,
   "metadata": {},
   "outputs": [
    {
     "data": {
      "text/html": [
       "<div>\n",
       "<style scoped>\n",
       "    .dataframe tbody tr th:only-of-type {\n",
       "        vertical-align: middle;\n",
       "    }\n",
       "\n",
       "    .dataframe tbody tr th {\n",
       "        vertical-align: top;\n",
       "    }\n",
       "\n",
       "    .dataframe thead th {\n",
       "        text-align: right;\n",
       "    }\n",
       "</style>\n",
       "<table border=\"1\" class=\"dataframe\">\n",
       "  <thead>\n",
       "    <tr style=\"text-align: right;\">\n",
       "      <th></th>\n",
       "      <th>District</th>\n",
       "      <th>PVI</th>\n",
       "      <th>Representative</th>\n",
       "      <th>num</th>\n",
       "      <th>state</th>\n",
       "      <th>ST</th>\n",
       "    </tr>\n",
       "  </thead>\n",
       "  <tbody>\n",
       "    <tr>\n",
       "      <th>6</th>\n",
       "      <td>Alabama 1</td>\n",
       "      <td>R+15</td>\n",
       "      <td>Republican</td>\n",
       "      <td>1</td>\n",
       "      <td>Alabama</td>\n",
       "      <td>Alabama</td>\n",
       "    </tr>\n",
       "  </tbody>\n",
       "</table>\n",
       "</div>"
      ],
      "text/plain": [
       "    District   PVI Representative num    state       ST\n",
       "6  Alabama 1  R+15     Republican   1  Alabama  Alabama"
      ]
     },
     "execution_count": 17,
     "metadata": {},
     "output_type": "execute_result"
    }
   ],
   "source": [
    "#seperate state and district\n",
    "pvi_115[\"num\"] = pvi_115.District.str[-2:]\n",
    "pvi_115[\"state\"] = pvi_115.District.str[:-2]\n",
    "pvi_115[\"state\"] = pvi_115['state'].str.rstrip()\n",
    "pvi_115[\"num\"] = pvi_115['num'].str.lstrip()\n",
    "pvi_115[\"ST\"] =  pvi_115[\"state\"]\n",
    "pvi_115.head(n=1)"
   ]
  },
  {
   "cell_type": "code",
   "execution_count": 18,
   "metadata": {},
   "outputs": [
    {
     "name": "stdout",
     "output_type": "stream",
     "text": [
      "['AL' 'AK' 'AZ' 'AR' 'CA' 'CO' 'CT' 'DE' 'FL' 'GA' 'HI' 'ID' 'IL' 'IN'\n",
      " 'IA' 'KS' 'KY' 'LA' 'ME' 'MD' 'MA' 'MI' 'MN' 'MS' 'MO' 'MT' 'NE' 'NV'\n",
      " 'NH' 'NJ' 'NM' 'NY' 'NC' 'ND' 'OH' 'OK' 'OR' 'PA' 'RI' 'SC' 'SD' 'TN'\n",
      " 'TX' 'UT' 'VT' 'VA' 'WA' 'WV' 'WI' 'WY']\n",
      "['1' '2' '3' '4' '5' '6' '7' 'AL' '8' '9' '10' '11' '12' '13' '14' '15'\n",
      " '16' '17' '18' '19' '20' '21' '22' '23' '24' '25' '26' '27' '28' '29'\n",
      " '30' '31' '32' '33' '34' '35' '36' '37' '38' '39' '40' '41' '42' '43'\n",
      " '44' '45' '46' '47' '48' '49' '50' '51' '52' '53']\n"
     ]
    }
   ],
   "source": [
    "#abbreviate the ST coulmn\n",
    "pvi_115 = pvi_115.replace({\"ST\": us_state_to_abbrev})\n",
    "#check that both ST and num function apropriatley\n",
    "print(pvi_115[\"ST\"].unique())\n",
    "print(pvi_115[\"num\"].unique())"
   ]
  },
  {
   "cell_type": "code",
   "execution_count": 19,
   "metadata": {},
   "outputs": [
    {
     "name": "stdout",
     "output_type": "stream",
     "text": [
      "[1 0]\n"
     ]
    }
   ],
   "source": [
    "#create the district code variable\n",
    "pvi_115[\"ST#\"] = pvi_115[\"ST\"] + pvi_115[\"num\"]\n",
    "#create the \"party of represenative\" variable\n",
    "pvi_115[\"seat\"] = pvi_115.Representative.str[0]\n",
    "#make a dummy\n",
    "pvi_115[\"is_GOP\"] = pvi_115[\"seat\"].replace(\"R\",1)\n",
    "pvi_115[\"is_GOP\"] = pvi_115[\"is_GOP\"].replace(\"D\",0)\n",
    "#The seats of Charlie Dent and Pat Meehan in Pennsylvania went R -> D during this time frame\n",
    "#color them as Republicans because they were originally elected as R seats\n",
    "pvi_115[\"is_GOP\"] = pvi_115[\"is_GOP\"].replace(\"V\",1)\n",
    "#covert to integer for later numeric analysis\n",
    "pvi_115[\"is_GOP\"] = pvi_115[\"is_GOP\"].astype(int)\n",
    "pvi_115.head(n=7)\n",
    "print(pvi_115[\"is_GOP\"].unique())"
   ]
  },
  {
   "cell_type": "code",
   "execution_count": 20,
   "metadata": {},
   "outputs": [
    {
     "data": {
      "text/plain": [
       "array(['R', 'D', 'E'], dtype=object)"
      ]
     },
     "execution_count": 20,
     "metadata": {},
     "output_type": "execute_result"
    }
   ],
   "source": [
    "#possibly unneccessary\n",
    "#pull out district lean\n",
    "pvi_115[\"lean\"] = pvi_115.PVI.str[0]\n",
    "pvi_115[\"lean\"].unique()"
   ]
  },
  {
   "cell_type": "code",
   "execution_count": 21,
   "metadata": {},
   "outputs": [
    {
     "name": "stdout",
     "output_type": "stream",
     "text": [
      "    District   PVI Representative num    state  ST  ST# seat  is_GOP lean  \\\n",
      "6  Alabama 1  R+15     Republican   1  Alabama  AL  AL1    R       1    R   \n",
      "\n",
      "  pvi_party partisan_weight  \n",
      "6         R              15  \n",
      "['R' 'D']\n"
     ]
    }
   ],
   "source": [
    "#split out pvi by party and weight\n",
    "#first eliminate even values\n",
    "pvi_115[\"PVI\"] = pvi_115[\"PVI\"].str.replace(\"EVEN\",\"R+0\")\n",
    "pvi_115[\"pvi_party\"] = pvi_115.PVI.str[0]\n",
    "pvi_115['partisan_weight'] = pvi_115['PVI'].str.split('+').str[1]\n",
    "#check results\n",
    "print(pvi_115.head(n=1))\n",
    "print(pvi_115[\"pvi_party\"].unique())"
   ]
  },
  {
   "cell_type": "code",
   "execution_count": 22,
   "metadata": {},
   "outputs": [],
   "source": [
    "#create a variable that is negative when the party is democratic\n",
    "pvi_115[\"neg\"] = pvi_115['pvi_party'].str.replace('D','-')\n",
    "pvi_115[\"neg\"] = pvi_115[\"neg\"].str.replace('R','')\n",
    "#ensure partisan weight has a negative value for democratic leaning and a positive value for Republican leaning\n",
    "pvi_115['partisan_weight'] = pvi_115[\"neg\"] + pvi_115['partisan_weight']\n",
    "#ensure values are integers\n",
    "pvi_115['partisan_weight'] = pvi_115['partisan_weight'].astype(int)"
   ]
  },
  {
   "cell_type": "code",
   "execution_count": 23,
   "metadata": {},
   "outputs": [
    {
     "data": {
      "text/html": [
       "<div>\n",
       "<style scoped>\n",
       "    .dataframe tbody tr th:only-of-type {\n",
       "        vertical-align: middle;\n",
       "    }\n",
       "\n",
       "    .dataframe tbody tr th {\n",
       "        vertical-align: top;\n",
       "    }\n",
       "\n",
       "    .dataframe thead th {\n",
       "        text-align: right;\n",
       "    }\n",
       "</style>\n",
       "<table border=\"1\" class=\"dataframe\">\n",
       "  <thead>\n",
       "    <tr style=\"text-align: right;\">\n",
       "      <th></th>\n",
       "      <th>District</th>\n",
       "      <th>PVI</th>\n",
       "      <th>Representative</th>\n",
       "      <th>num</th>\n",
       "      <th>state</th>\n",
       "      <th>ST</th>\n",
       "      <th>ST#</th>\n",
       "      <th>seat</th>\n",
       "      <th>is_GOP</th>\n",
       "      <th>lean</th>\n",
       "      <th>pvi_party</th>\n",
       "      <th>partisan_weight</th>\n",
       "      <th>neg</th>\n",
       "      <th>metric</th>\n",
       "    </tr>\n",
       "  </thead>\n",
       "  <tbody>\n",
       "    <tr>\n",
       "      <th>6</th>\n",
       "      <td>Alabama 1</td>\n",
       "      <td>R+15</td>\n",
       "      <td>Republican</td>\n",
       "      <td>1</td>\n",
       "      <td>Alabama</td>\n",
       "      <td>AL</td>\n",
       "      <td>AL1</td>\n",
       "      <td>R</td>\n",
       "      <td>1</td>\n",
       "      <td>R</td>\n",
       "      <td>R</td>\n",
       "      <td>15</td>\n",
       "      <td></td>\n",
       "      <td>0.65</td>\n",
       "    </tr>\n",
       "    <tr>\n",
       "      <th>7</th>\n",
       "      <td>Alabama 2</td>\n",
       "      <td>R+16</td>\n",
       "      <td>Republican</td>\n",
       "      <td>2</td>\n",
       "      <td>Alabama</td>\n",
       "      <td>AL</td>\n",
       "      <td>AL2</td>\n",
       "      <td>R</td>\n",
       "      <td>1</td>\n",
       "      <td>R</td>\n",
       "      <td>R</td>\n",
       "      <td>16</td>\n",
       "      <td></td>\n",
       "      <td>0.66</td>\n",
       "    </tr>\n",
       "    <tr>\n",
       "      <th>8</th>\n",
       "      <td>Alabama 3</td>\n",
       "      <td>R+16</td>\n",
       "      <td>Republican</td>\n",
       "      <td>3</td>\n",
       "      <td>Alabama</td>\n",
       "      <td>AL</td>\n",
       "      <td>AL3</td>\n",
       "      <td>R</td>\n",
       "      <td>1</td>\n",
       "      <td>R</td>\n",
       "      <td>R</td>\n",
       "      <td>16</td>\n",
       "      <td></td>\n",
       "      <td>0.66</td>\n",
       "    </tr>\n",
       "    <tr>\n",
       "      <th>9</th>\n",
       "      <td>Alabama 4</td>\n",
       "      <td>R+30</td>\n",
       "      <td>Republican</td>\n",
       "      <td>4</td>\n",
       "      <td>Alabama</td>\n",
       "      <td>AL</td>\n",
       "      <td>AL4</td>\n",
       "      <td>R</td>\n",
       "      <td>1</td>\n",
       "      <td>R</td>\n",
       "      <td>R</td>\n",
       "      <td>30</td>\n",
       "      <td></td>\n",
       "      <td>0.80</td>\n",
       "    </tr>\n",
       "    <tr>\n",
       "      <th>10</th>\n",
       "      <td>Alabama 5</td>\n",
       "      <td>R+18</td>\n",
       "      <td>Republican</td>\n",
       "      <td>5</td>\n",
       "      <td>Alabama</td>\n",
       "      <td>AL</td>\n",
       "      <td>AL5</td>\n",
       "      <td>R</td>\n",
       "      <td>1</td>\n",
       "      <td>R</td>\n",
       "      <td>R</td>\n",
       "      <td>18</td>\n",
       "      <td></td>\n",
       "      <td>0.68</td>\n",
       "    </tr>\n",
       "    <tr>\n",
       "      <th>11</th>\n",
       "      <td>Alabama 6</td>\n",
       "      <td>R+26</td>\n",
       "      <td>Republican</td>\n",
       "      <td>6</td>\n",
       "      <td>Alabama</td>\n",
       "      <td>AL</td>\n",
       "      <td>AL6</td>\n",
       "      <td>R</td>\n",
       "      <td>1</td>\n",
       "      <td>R</td>\n",
       "      <td>R</td>\n",
       "      <td>26</td>\n",
       "      <td></td>\n",
       "      <td>0.76</td>\n",
       "    </tr>\n",
       "    <tr>\n",
       "      <th>12</th>\n",
       "      <td>Alabama 7</td>\n",
       "      <td>D+20</td>\n",
       "      <td>Democratic</td>\n",
       "      <td>7</td>\n",
       "      <td>Alabama</td>\n",
       "      <td>AL</td>\n",
       "      <td>AL7</td>\n",
       "      <td>D</td>\n",
       "      <td>0</td>\n",
       "      <td>D</td>\n",
       "      <td>D</td>\n",
       "      <td>-20</td>\n",
       "      <td>-</td>\n",
       "      <td>0.30</td>\n",
       "    </tr>\n",
       "  </tbody>\n",
       "</table>\n",
       "</div>"
      ],
      "text/plain": [
       "     District   PVI Representative num    state  ST  ST# seat  is_GOP lean  \\\n",
       "6   Alabama 1  R+15     Republican   1  Alabama  AL  AL1    R       1    R   \n",
       "7   Alabama 2  R+16     Republican   2  Alabama  AL  AL2    R       1    R   \n",
       "8   Alabama 3  R+16     Republican   3  Alabama  AL  AL3    R       1    R   \n",
       "9   Alabama 4  R+30     Republican   4  Alabama  AL  AL4    R       1    R   \n",
       "10  Alabama 5  R+18     Republican   5  Alabama  AL  AL5    R       1    R   \n",
       "11  Alabama 6  R+26     Republican   6  Alabama  AL  AL6    R       1    R   \n",
       "12  Alabama 7  D+20     Democratic   7  Alabama  AL  AL7    D       0    D   \n",
       "\n",
       "   pvi_party  partisan_weight neg  metric  \n",
       "6          R               15        0.65  \n",
       "7          R               16        0.66  \n",
       "8          R               16        0.66  \n",
       "9          R               30        0.80  \n",
       "10         R               18        0.68  \n",
       "11         R               26        0.76  \n",
       "12         D              -20   -    0.30  "
      ]
     },
     "execution_count": 23,
     "metadata": {},
     "output_type": "execute_result"
    }
   ],
   "source": [
    "pvi_115[\"metric\"] = ((pvi_115['partisan_weight']) + 50) / 100\n",
    "pvi_115.head(n=7)"
   ]
  },
  {
   "cell_type": "code",
   "execution_count": 24,
   "metadata": {},
   "outputs": [],
   "source": [
    "#add constants for later aggregation\n",
    "pvi_115[\"year\"] = 2016\n",
    "pvi_115[\"congress\"] = 115"
   ]
  },
  {
   "cell_type": "markdown",
   "metadata": {},
   "source": [
    "## Export clean versions of the data"
   ]
  },
  {
   "cell_type": "code",
   "execution_count": 25,
   "metadata": {},
   "outputs": [],
   "source": [
    "#create a dataset solely to correlate pvi with the holder of the seat\n",
    "pure_115 = pvi_115[[\"year\",\"metric\",\"is_GOP\"]]\n",
    "pure_115.to_csv(\"/Users/xavier/Desktop/DSPP/solo_projects/redistricting_project/clean_data/pure_datasets/pure_115.csv\",index=False)\n",
    "#create a more detailed dataset for greater uses\n",
    "data_115 = pvi_115[[\"year\",\"congress\",\"ST\",\"ST#\",\"seat\",\"is_GOP\",\"PVI\",\"metric\"]]\n",
    "data_115.to_csv(\"/Users/xavier/Desktop/DSPP/solo_projects/redistricting_project/clean_data/full_districts/data_115.csv\",index=False)"
   ]
  },
  {
   "cell_type": "code",
   "execution_count": 26,
   "metadata": {},
   "outputs": [
    {
     "data": {
      "text/html": [
       "<div>\n",
       "<style scoped>\n",
       "    .dataframe tbody tr th:only-of-type {\n",
       "        vertical-align: middle;\n",
       "    }\n",
       "\n",
       "    .dataframe tbody tr th {\n",
       "        vertical-align: top;\n",
       "    }\n",
       "\n",
       "    .dataframe thead th {\n",
       "        text-align: right;\n",
       "    }\n",
       "</style>\n",
       "<table border=\"1\" class=\"dataframe\">\n",
       "  <thead>\n",
       "    <tr style=\"text-align: right;\">\n",
       "      <th></th>\n",
       "      <th>year</th>\n",
       "      <th>congress</th>\n",
       "      <th>ST</th>\n",
       "      <th>ST#</th>\n",
       "      <th>seat</th>\n",
       "      <th>is_GOP</th>\n",
       "      <th>PVI</th>\n",
       "      <th>metric</th>\n",
       "    </tr>\n",
       "  </thead>\n",
       "  <tbody>\n",
       "    <tr>\n",
       "      <th>6</th>\n",
       "      <td>2016</td>\n",
       "      <td>115</td>\n",
       "      <td>AL</td>\n",
       "      <td>AL1</td>\n",
       "      <td>R</td>\n",
       "      <td>1</td>\n",
       "      <td>R+15</td>\n",
       "      <td>0.65</td>\n",
       "    </tr>\n",
       "    <tr>\n",
       "      <th>7</th>\n",
       "      <td>2016</td>\n",
       "      <td>115</td>\n",
       "      <td>AL</td>\n",
       "      <td>AL2</td>\n",
       "      <td>R</td>\n",
       "      <td>1</td>\n",
       "      <td>R+16</td>\n",
       "      <td>0.66</td>\n",
       "    </tr>\n",
       "    <tr>\n",
       "      <th>8</th>\n",
       "      <td>2016</td>\n",
       "      <td>115</td>\n",
       "      <td>AL</td>\n",
       "      <td>AL3</td>\n",
       "      <td>R</td>\n",
       "      <td>1</td>\n",
       "      <td>R+16</td>\n",
       "      <td>0.66</td>\n",
       "    </tr>\n",
       "    <tr>\n",
       "      <th>9</th>\n",
       "      <td>2016</td>\n",
       "      <td>115</td>\n",
       "      <td>AL</td>\n",
       "      <td>AL4</td>\n",
       "      <td>R</td>\n",
       "      <td>1</td>\n",
       "      <td>R+30</td>\n",
       "      <td>0.80</td>\n",
       "    </tr>\n",
       "    <tr>\n",
       "      <th>10</th>\n",
       "      <td>2016</td>\n",
       "      <td>115</td>\n",
       "      <td>AL</td>\n",
       "      <td>AL5</td>\n",
       "      <td>R</td>\n",
       "      <td>1</td>\n",
       "      <td>R+18</td>\n",
       "      <td>0.68</td>\n",
       "    </tr>\n",
       "    <tr>\n",
       "      <th>11</th>\n",
       "      <td>2016</td>\n",
       "      <td>115</td>\n",
       "      <td>AL</td>\n",
       "      <td>AL6</td>\n",
       "      <td>R</td>\n",
       "      <td>1</td>\n",
       "      <td>R+26</td>\n",
       "      <td>0.76</td>\n",
       "    </tr>\n",
       "    <tr>\n",
       "      <th>12</th>\n",
       "      <td>2016</td>\n",
       "      <td>115</td>\n",
       "      <td>AL</td>\n",
       "      <td>AL7</td>\n",
       "      <td>D</td>\n",
       "      <td>0</td>\n",
       "      <td>D+20</td>\n",
       "      <td>0.30</td>\n",
       "    </tr>\n",
       "    <tr>\n",
       "      <th>13</th>\n",
       "      <td>2016</td>\n",
       "      <td>115</td>\n",
       "      <td>AK</td>\n",
       "      <td>AKAL</td>\n",
       "      <td>R</td>\n",
       "      <td>1</td>\n",
       "      <td>R+9</td>\n",
       "      <td>0.59</td>\n",
       "    </tr>\n",
       "  </tbody>\n",
       "</table>\n",
       "</div>"
      ],
      "text/plain": [
       "    year  congress  ST   ST# seat  is_GOP   PVI  metric\n",
       "6   2016       115  AL   AL1    R       1  R+15    0.65\n",
       "7   2016       115  AL   AL2    R       1  R+16    0.66\n",
       "8   2016       115  AL   AL3    R       1  R+16    0.66\n",
       "9   2016       115  AL   AL4    R       1  R+30    0.80\n",
       "10  2016       115  AL   AL5    R       1  R+18    0.68\n",
       "11  2016       115  AL   AL6    R       1  R+26    0.76\n",
       "12  2016       115  AL   AL7    D       0  D+20    0.30\n",
       "13  2016       115  AK  AKAL    R       1   R+9    0.59"
      ]
     },
     "execution_count": 26,
     "metadata": {},
     "output_type": "execute_result"
    }
   ],
   "source": [
    "data_115.head(8)"
   ]
  },
  {
   "cell_type": "markdown",
   "metadata": {},
   "source": [
    "## Conduct preliminary examinations of the data"
   ]
  },
  {
   "cell_type": "markdown",
   "metadata": {},
   "source": [
    "Because this data is useless in aggregate (2020 alone is not a good basis for prediction, given the lack of accounting for major waves), we will run basic examinations in this notebook"
   ]
  },
  {
   "cell_type": "code",
   "execution_count": 27,
   "metadata": {},
   "outputs": [
    {
     "data": {
      "image/png": "[encoded data removed]",
      "text/plain": [
       "<Figure size 640x480 with 1 Axes>"
      ]
     },
     "metadata": {},
     "output_type": "display_data"
    },
    {
     "data": {
      "text/plain": [
       "<ggplot: (8768676264174)>"
      ]
     },
     "execution_count": 27,
     "metadata": {},
     "output_type": "execute_result"
    }
   ],
   "source": [
    "# Create a super simple scatterplot to examine the relationship between PVI and congressional district\n",
    "(p9.ggplot(data=pure_115, mapping=p9.aes(x='metric', y='is_GOP'))\n",
    " + p9.geom_point() \n",
    " + labs(x='GOP Leaning of District', y='GOP Representation',color=\"\",title=\"PVI Correlation\"))"
   ]
  },
  {
   "cell_type": "markdown",
   "metadata": {},
   "source": [
    "From the 115th Congress, we can see that generally PVI is a perfect predictor of race outcome, except within the range of approximatley D+10 to R+10, with a few outliers. "
   ]
  },
  {
   "cell_type": "code",
   "execution_count": 28,
   "metadata": {},
   "outputs": [],
   "source": [
    "#group by metric and average GOP seats\n",
    "bm_115 = pure_115.groupby('metric').mean()\n",
    "#this will not be produced into a dataset without aggregating all years, as \n",
    "bm_115 = bm_115.reset_index()"
   ]
  },
  {
   "cell_type": "code",
   "execution_count": 29,
   "metadata": {},
   "outputs": [
    {
     "data": {
      "image/png": "[encoded data removed]",
      "text/plain": [
       "<Figure size 640x480 with 1 Axes>"
      ]
     },
     "metadata": {},
     "output_type": "display_data"
    },
    {
     "data": {
      "text/plain": [
       "<ggplot: (8768680725863)>"
      ]
     },
     "execution_count": 29,
     "metadata": {},
     "output_type": "execute_result"
    }
   ],
   "source": [
    "#Plot averages\n",
    "(p9.ggplot(data=bm_115, mapping=p9.aes(x='metric', y='is_GOP'))\n",
    " + p9.geom_point() \n",
    " + labs(x='GOP Leaning of District', y=\"Share of GOP Representatives\",color=\"\",title=\"PVI Correlation\"))"
   ]
  },
  {
   "cell_type": "markdown",
   "metadata": {},
   "source": [
    "This data appears to be more of an even distribution; some Dem seats are GOP occupied and vice versa, but not with substantial bias; the close intersection of the regression line below with .5,.5 indicates a fairly predictable result"
   ]
  },
  {
   "cell_type": "code",
   "execution_count": 30,
   "metadata": {},
   "outputs": [],
   "source": [
    "#now lets limit the data to only the R+10 to D+10 range, calling it Limited Domain\n",
    "ld_115 = bm_115[bm_115[\"metric\"] <= .55]\n",
    "ld_115 = ld_115[ld_115[\"metric\"] >= .45]"
   ]
  },
  {
   "cell_type": "code",
   "execution_count": 31,
   "metadata": {},
   "outputs": [
    {
     "data": {
      "image/png": "[encoded data removed]",
      "text/plain": [
       "<Figure size 640x480 with 1 Axes>"
      ]
     },
     "metadata": {},
     "output_type": "display_data"
    },
    {
     "data": {
      "text/plain": [
       "<ggplot: (8768681086705)>"
      ]
     },
     "execution_count": 31,
     "metadata": {},
     "output_type": "execute_result"
    }
   ],
   "source": [
    "#Plot averages\n",
    "(p9.ggplot(data=ld_115, mapping=p9.aes(x='metric', y='is_GOP'))\n",
    " + p9.geom_point() \n",
    " + geom_smooth(method = \"lm\", color = \"red\", se = False)\n",
    " + labs(x='GOP Leaning of District', y=\"Share of GOP Representatives\",color=\"\",title=\"PVI Correlation\"))"
   ]
  }
 ],
 "metadata": {
  "kernelspec": {
   "display_name": "Python 3",
   "language": "python",
   "name": "python3"
  },
  "language_info": {
   "codemirror_mode": {
    "name": "ipython",
    "version": 3
   },
   "file_extension": ".py",
   "mimetype": "text/x-python",
   "name": "python",
   "nbconvert_exporter": "python",
   "pygments_lexer": "ipython3",
   "version": "3.8.5"
  }
 },
 "nbformat": 4,
 "nbformat_minor": 4
}
