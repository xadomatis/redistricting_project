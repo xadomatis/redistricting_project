{
 "cells": [
  {
   "cell_type": "markdown",
   "metadata": {},
   "source": [
    "# 116th Congress Data"
   ]
  },
  {
   "cell_type": "markdown",
   "metadata": {},
   "source": [
    "This notebook is meant to call, clean, and examine data from the 2018 election, to produce a viable metric correlating PVI and electoral success.\n",
    "\n",
    "It feeds into a larger project about fairness in redistricting; for instance, if an R+15 district is unattainable for a Democrat to win, then the district can be wholly classified as \"safe,\" and should be bucketed with R+30 district.\n",
    "\n",
    "The nuance enters in the margins. How safe is an R+6 district for instance? Can we quantify a district moving from R+3 to R+6 as a significant bias against Democrats? By cleaning this dataset, and others like it, we can determine the predictive power of PVI in each district, and use those probabilities later to assess redistricting fairness."
   ]
  },
  {
   "cell_type": "markdown",
   "metadata": {},
   "source": [
    "## Upload Data from Cook"
   ]
  },
  {
   "cell_type": "markdown",
   "metadata": {},
   "source": [
    "The Cook Political Report contains data from the 2018 election results; it appears to be a version from around March or April 2019, given the vacancy of PA-12, NC-3, and NC-9"
   ]
  },
  {
   "cell_type": "code",
   "execution_count": 1,
   "metadata": {},
   "outputs": [],
   "source": [
    "import pandas as pd\n",
    "pd.set_option(\"display.max_rows\", None, \"display.max_columns\", None)"
   ]
  },
  {
   "cell_type": "code",
   "execution_count": 2,
   "metadata": {},
   "outputs": [],
   "source": [
    "pvi_116_og = pd.read_csv(\"/Users/xavier/Desktop/DSPP/solo_projects/redistricting_project/raw_data/pvi_116.csv\")"
   ]
  },
  {
   "cell_type": "code",
   "execution_count": 3,
   "metadata": {},
   "outputs": [],
   "source": [
    "#insert Greg Murphy as the seat has no data associated with it\n",
    "pvi_116_og = pvi_116_og.replace(\"()\",\"Greg Murphy (R)\")"
   ]
  },
  {
   "cell_type": "markdown",
   "metadata": {},
   "source": [
    "## Clean and Organize State Data"
   ]
  },
  {
   "cell_type": "code",
   "execution_count": 4,
   "metadata": {},
   "outputs": [],
   "source": [
    "#call the dataset into a new variable as not to disrupt the original pull\n",
    "pvi_116 = pvi_116_og\n",
    "#create a column of just two letter state codes\n",
    "pvi_116[\"ST\"] =  pvi_116['Dist'].str.split('-').str[0]\n",
    "#create a district number and ditch the lead zero\n",
    "pvi_116[\"district\"] =  pvi_116['Dist'].str.split('-').str[1]\n",
    "pvi_116[\"district\"] = pvi_116[\"district\"].str.lstrip(\"0\")\n",
    "#create the universal ST# variable that will appear in all datasets\n",
    "pvi_116[\"ST#\"] = pvi_116[\"ST\"] + pvi_116[\"district\"]"
   ]
  },
  {
   "cell_type": "code",
   "execution_count": 5,
   "metadata": {},
   "outputs": [
    {
     "name": "stdout",
     "output_type": "stream",
     "text": [
      "    Dist          Incumbent   PVI  Clinton %  Trump %  Obama %  Romney %  ST  \\\n",
      "0  AL-01  Bradley Byrne (R)  R+15       33.8     63.0     37.3      61.7  AL   \n",
      "\n",
      "  district  ST# pvi_party partisan_weight  \n",
      "0        1  AL1         R              15  \n",
      "['R' 'D']\n"
     ]
    }
   ],
   "source": [
    "#split out pvi by party and weight\n",
    "#first eliminate even values\n",
    "pvi_116[\"PVI\"] = pvi_116[\"PVI\"].str.replace(\"EVEN\",\"R+0\")\n",
    "#pull the party lean from the pvi\n",
    "pvi_116[\"pvi_party\"] = pvi_116.PVI.str[0]\n",
    "#pull the partisan value from the pvi\n",
    "pvi_116['partisan_weight'] = pvi_116['PVI'].str.split('+').str[1]\n",
    "#check results\n",
    "print(pvi_116.head(n=1))\n",
    "print(pvi_116[\"pvi_party\"].unique())"
   ]
  },
  {
   "cell_type": "code",
   "execution_count": 6,
   "metadata": {},
   "outputs": [],
   "source": [
    "#add constants for later aggregation\n",
    "pvi_116[\"year\"] = 2018\n",
    "pvi_116[\"congress\"] = 116"
   ]
  },
  {
   "cell_type": "code",
   "execution_count": 7,
   "metadata": {},
   "outputs": [],
   "source": [
    "#create a variable that is negative when the party is democratic\n",
    "pvi_116[\"neg\"] = pvi_116['pvi_party'].str.replace('D','-')\n",
    "pvi_116[\"neg\"] = pvi_116[\"neg\"].str.replace('R','')\n",
    "#ensure partisan weight has a negative value for democratic leaning and a positive value for Republican leaning\n",
    "pvi_116['partisan_weight'] = pvi_116[\"neg\"] + pvi_116['partisan_weight']\n",
    "#ensure values are integers\n",
    "pvi_116['partisan_weight'] = pvi_116['partisan_weight'].astype(int)"
   ]
  },
  {
   "cell_type": "code",
   "execution_count": 8,
   "metadata": {},
   "outputs": [
    {
     "data": {
      "text/html": [
       "<div>\n",
       "<style scoped>\n",
       "    .dataframe tbody tr th:only-of-type {\n",
       "        vertical-align: middle;\n",
       "    }\n",
       "\n",
       "    .dataframe tbody tr th {\n",
       "        vertical-align: top;\n",
       "    }\n",
       "\n",
       "    .dataframe thead th {\n",
       "        text-align: right;\n",
       "    }\n",
       "</style>\n",
       "<table border=\"1\" class=\"dataframe\">\n",
       "  <thead>\n",
       "    <tr style=\"text-align: right;\">\n",
       "      <th></th>\n",
       "      <th>Dist</th>\n",
       "      <th>Incumbent</th>\n",
       "      <th>PVI</th>\n",
       "      <th>Clinton %</th>\n",
       "      <th>Trump %</th>\n",
       "      <th>Obama %</th>\n",
       "      <th>Romney %</th>\n",
       "      <th>ST</th>\n",
       "      <th>district</th>\n",
       "      <th>ST#</th>\n",
       "      <th>pvi_party</th>\n",
       "      <th>partisan_weight</th>\n",
       "      <th>year</th>\n",
       "      <th>congress</th>\n",
       "      <th>neg</th>\n",
       "      <th>metric</th>\n",
       "    </tr>\n",
       "  </thead>\n",
       "  <tbody>\n",
       "    <tr>\n",
       "      <th>0</th>\n",
       "      <td>AL-01</td>\n",
       "      <td>Bradley Byrne (R)</td>\n",
       "      <td>R+15</td>\n",
       "      <td>33.8</td>\n",
       "      <td>63.0</td>\n",
       "      <td>37.3</td>\n",
       "      <td>61.7</td>\n",
       "      <td>AL</td>\n",
       "      <td>1</td>\n",
       "      <td>AL1</td>\n",
       "      <td>R</td>\n",
       "      <td>15</td>\n",
       "      <td>2018</td>\n",
       "      <td>116</td>\n",
       "      <td></td>\n",
       "      <td>0.575</td>\n",
       "    </tr>\n",
       "    <tr>\n",
       "      <th>1</th>\n",
       "      <td>AL-02</td>\n",
       "      <td>Martha Roby (R)</td>\n",
       "      <td>R+16</td>\n",
       "      <td>32.8</td>\n",
       "      <td>64.5</td>\n",
       "      <td>36.4</td>\n",
       "      <td>62.8</td>\n",
       "      <td>AL</td>\n",
       "      <td>2</td>\n",
       "      <td>AL2</td>\n",
       "      <td>R</td>\n",
       "      <td>16</td>\n",
       "      <td>2018</td>\n",
       "      <td>116</td>\n",
       "      <td></td>\n",
       "      <td>0.580</td>\n",
       "    </tr>\n",
       "    <tr>\n",
       "      <th>2</th>\n",
       "      <td>AL-03</td>\n",
       "      <td>Mike Rogers (R)</td>\n",
       "      <td>R+16</td>\n",
       "      <td>31.9</td>\n",
       "      <td>64.8</td>\n",
       "      <td>36.7</td>\n",
       "      <td>62.2</td>\n",
       "      <td>AL</td>\n",
       "      <td>3</td>\n",
       "      <td>AL3</td>\n",
       "      <td>R</td>\n",
       "      <td>16</td>\n",
       "      <td>2018</td>\n",
       "      <td>116</td>\n",
       "      <td></td>\n",
       "      <td>0.580</td>\n",
       "    </tr>\n",
       "    <tr>\n",
       "      <th>3</th>\n",
       "      <td>AL-04</td>\n",
       "      <td>Robert Aderholt (R)</td>\n",
       "      <td>R+30</td>\n",
       "      <td>17.3</td>\n",
       "      <td>79.8</td>\n",
       "      <td>23.9</td>\n",
       "      <td>74.7</td>\n",
       "      <td>AL</td>\n",
       "      <td>4</td>\n",
       "      <td>AL4</td>\n",
       "      <td>R</td>\n",
       "      <td>30</td>\n",
       "      <td>2018</td>\n",
       "      <td>116</td>\n",
       "      <td></td>\n",
       "      <td>0.650</td>\n",
       "    </tr>\n",
       "    <tr>\n",
       "      <th>4</th>\n",
       "      <td>AL-05</td>\n",
       "      <td>Mo Brooks (R)</td>\n",
       "      <td>R+18</td>\n",
       "      <td>30.9</td>\n",
       "      <td>63.7</td>\n",
       "      <td>34.8</td>\n",
       "      <td>63.7</td>\n",
       "      <td>AL</td>\n",
       "      <td>5</td>\n",
       "      <td>AL5</td>\n",
       "      <td>R</td>\n",
       "      <td>18</td>\n",
       "      <td>2018</td>\n",
       "      <td>116</td>\n",
       "      <td></td>\n",
       "      <td>0.590</td>\n",
       "    </tr>\n",
       "    <tr>\n",
       "      <th>5</th>\n",
       "      <td>AL-06</td>\n",
       "      <td>Gary Palmer (R)</td>\n",
       "      <td>R+26</td>\n",
       "      <td>25.8</td>\n",
       "      <td>69.6</td>\n",
       "      <td>24.6</td>\n",
       "      <td>74.3</td>\n",
       "      <td>AL</td>\n",
       "      <td>6</td>\n",
       "      <td>AL6</td>\n",
       "      <td>R</td>\n",
       "      <td>26</td>\n",
       "      <td>2018</td>\n",
       "      <td>116</td>\n",
       "      <td></td>\n",
       "      <td>0.630</td>\n",
       "    </tr>\n",
       "    <tr>\n",
       "      <th>6</th>\n",
       "      <td>AL-07</td>\n",
       "      <td>Terri Sewell (D)</td>\n",
       "      <td>D+20</td>\n",
       "      <td>69.5</td>\n",
       "      <td>28.3</td>\n",
       "      <td>72.5</td>\n",
       "      <td>27.0</td>\n",
       "      <td>AL</td>\n",
       "      <td>7</td>\n",
       "      <td>AL7</td>\n",
       "      <td>D</td>\n",
       "      <td>-20</td>\n",
       "      <td>2018</td>\n",
       "      <td>116</td>\n",
       "      <td>-</td>\n",
       "      <td>0.400</td>\n",
       "    </tr>\n",
       "  </tbody>\n",
       "</table>\n",
       "</div>"
      ],
      "text/plain": [
       "    Dist            Incumbent   PVI  Clinton %  Trump %  Obama %  Romney %  \\\n",
       "0  AL-01    Bradley Byrne (R)  R+15       33.8     63.0     37.3      61.7   \n",
       "1  AL-02      Martha Roby (R)  R+16       32.8     64.5     36.4      62.8   \n",
       "2  AL-03      Mike Rogers (R)  R+16       31.9     64.8     36.7      62.2   \n",
       "3  AL-04  Robert Aderholt (R)  R+30       17.3     79.8     23.9      74.7   \n",
       "4  AL-05        Mo Brooks (R)  R+18       30.9     63.7     34.8      63.7   \n",
       "5  AL-06      Gary Palmer (R)  R+26       25.8     69.6     24.6      74.3   \n",
       "6  AL-07     Terri Sewell (D)  D+20       69.5     28.3     72.5      27.0   \n",
       "\n",
       "   ST district  ST# pvi_party  partisan_weight  year  congress neg  metric  \n",
       "0  AL        1  AL1         R               15  2018       116       0.575  \n",
       "1  AL        2  AL2         R               16  2018       116       0.580  \n",
       "2  AL        3  AL3         R               16  2018       116       0.580  \n",
       "3  AL        4  AL4         R               30  2018       116       0.650  \n",
       "4  AL        5  AL5         R               18  2018       116       0.590  \n",
       "5  AL        6  AL6         R               26  2018       116       0.630  \n",
       "6  AL        7  AL7         D              -20  2018       116   -   0.400  "
      ]
     },
     "execution_count": 8,
     "metadata": {},
     "output_type": "execute_result"
    }
   ],
   "source": [
    "pvi_116[\"metric\"] = ((pvi_116['partisan_weight'] / 2) + 50) / 100\n",
    "pvi_116.head(n=7)"
   ]
  },
  {
   "cell_type": "code",
   "execution_count": 9,
   "metadata": {},
   "outputs": [],
   "source": [
    "import numpy as np\n",
    "import plotnine as p9\n",
    "from plotnine import ggplot, aes, facet_grid, labs, geom_point, geom_smooth\n",
    "from sklearn.linear_model import LinearRegression as lm\n",
    "import warnings\n",
    "warnings.filterwarnings('ignore')"
   ]
  },
  {
   "cell_type": "code",
   "execution_count": 10,
   "metadata": {},
   "outputs": [
    {
     "name": "stdout",
     "output_type": "stream",
     "text": [
      "['R' 'D']\n",
      "[1 0]\n"
     ]
    }
   ],
   "source": [
    "#create a variable that shows the current occupant of the congressional seat\n",
    "pvi_116[\"seat\"] = pvi_116.Incumbent.str[-2]\n",
    "#make a dummy\n",
    "pvi_116[\"is_GOP\"] = pvi_116[\"seat\"].replace(\"R\",1)\n",
    "pvi_116[\"is_GOP\"] = pvi_116[\"is_GOP\"].replace(\"D\",0)\n",
    "pvi_116[\"is_GOP\"] = pvi_116[\"is_GOP\"].astype(int)\n",
    "print(pvi_116[\"seat\"].unique())\n",
    "print(pvi_116[\"is_GOP\"].unique())"
   ]
  },
  {
   "cell_type": "markdown",
   "metadata": {},
   "source": [
    "## Export clean versions of the data"
   ]
  },
  {
   "cell_type": "code",
   "execution_count": 11,
   "metadata": {},
   "outputs": [],
   "source": [
    "#create a dataset solely to correlate pvi with the holder of the seat\n",
    "pure_116 = pvi_116[[\"year\",\"metric\",\"is_GOP\"]]\n",
    "pure_116.to_csv(\"/Users/xavier/Desktop/DSPP/solo_projects/redistricting_project/clean_data/pure_datasets/pure_116.csv\",index=False)\n",
    "#create a more detailed dataset for greater uses\n",
    "data_116 = pvi_116[[\"year\",\"congress\",\"ST\",\"ST#\",\"seat\",\"is_GOP\",\"PVI\",\"metric\"]]\n",
    "data_116.to_csv(\"/Users/xavier/Desktop/DSPP/solo_projects/redistricting_project/clean_data/full_districts/data_116.csv\",index=False)"
   ]
  },
  {
   "cell_type": "code",
   "execution_count": 12,
   "metadata": {},
   "outputs": [
    {
     "data": {
      "text/html": [
       "<div>\n",
       "<style scoped>\n",
       "    .dataframe tbody tr th:only-of-type {\n",
       "        vertical-align: middle;\n",
       "    }\n",
       "\n",
       "    .dataframe tbody tr th {\n",
       "        vertical-align: top;\n",
       "    }\n",
       "\n",
       "    .dataframe thead th {\n",
       "        text-align: right;\n",
       "    }\n",
       "</style>\n",
       "<table border=\"1\" class=\"dataframe\">\n",
       "  <thead>\n",
       "    <tr style=\"text-align: right;\">\n",
       "      <th></th>\n",
       "      <th>year</th>\n",
       "      <th>congress</th>\n",
       "      <th>ST</th>\n",
       "      <th>ST#</th>\n",
       "      <th>seat</th>\n",
       "      <th>is_GOP</th>\n",
       "      <th>PVI</th>\n",
       "      <th>metric</th>\n",
       "    </tr>\n",
       "  </thead>\n",
       "  <tbody>\n",
       "    <tr>\n",
       "      <th>0</th>\n",
       "      <td>2018</td>\n",
       "      <td>116</td>\n",
       "      <td>AL</td>\n",
       "      <td>AL1</td>\n",
       "      <td>R</td>\n",
       "      <td>1</td>\n",
       "      <td>R+15</td>\n",
       "      <td>0.575</td>\n",
       "    </tr>\n",
       "    <tr>\n",
       "      <th>1</th>\n",
       "      <td>2018</td>\n",
       "      <td>116</td>\n",
       "      <td>AL</td>\n",
       "      <td>AL2</td>\n",
       "      <td>R</td>\n",
       "      <td>1</td>\n",
       "      <td>R+16</td>\n",
       "      <td>0.580</td>\n",
       "    </tr>\n",
       "    <tr>\n",
       "      <th>2</th>\n",
       "      <td>2018</td>\n",
       "      <td>116</td>\n",
       "      <td>AL</td>\n",
       "      <td>AL3</td>\n",
       "      <td>R</td>\n",
       "      <td>1</td>\n",
       "      <td>R+16</td>\n",
       "      <td>0.580</td>\n",
       "    </tr>\n",
       "    <tr>\n",
       "      <th>3</th>\n",
       "      <td>2018</td>\n",
       "      <td>116</td>\n",
       "      <td>AL</td>\n",
       "      <td>AL4</td>\n",
       "      <td>R</td>\n",
       "      <td>1</td>\n",
       "      <td>R+30</td>\n",
       "      <td>0.650</td>\n",
       "    </tr>\n",
       "    <tr>\n",
       "      <th>4</th>\n",
       "      <td>2018</td>\n",
       "      <td>116</td>\n",
       "      <td>AL</td>\n",
       "      <td>AL5</td>\n",
       "      <td>R</td>\n",
       "      <td>1</td>\n",
       "      <td>R+18</td>\n",
       "      <td>0.590</td>\n",
       "    </tr>\n",
       "    <tr>\n",
       "      <th>5</th>\n",
       "      <td>2018</td>\n",
       "      <td>116</td>\n",
       "      <td>AL</td>\n",
       "      <td>AL6</td>\n",
       "      <td>R</td>\n",
       "      <td>1</td>\n",
       "      <td>R+26</td>\n",
       "      <td>0.630</td>\n",
       "    </tr>\n",
       "    <tr>\n",
       "      <th>6</th>\n",
       "      <td>2018</td>\n",
       "      <td>116</td>\n",
       "      <td>AL</td>\n",
       "      <td>AL7</td>\n",
       "      <td>D</td>\n",
       "      <td>0</td>\n",
       "      <td>D+20</td>\n",
       "      <td>0.400</td>\n",
       "    </tr>\n",
       "    <tr>\n",
       "      <th>7</th>\n",
       "      <td>2018</td>\n",
       "      <td>116</td>\n",
       "      <td>AK</td>\n",
       "      <td>AKAL</td>\n",
       "      <td>R</td>\n",
       "      <td>1</td>\n",
       "      <td>R+9</td>\n",
       "      <td>0.545</td>\n",
       "    </tr>\n",
       "  </tbody>\n",
       "</table>\n",
       "</div>"
      ],
      "text/plain": [
       "   year  congress  ST   ST# seat  is_GOP   PVI  metric\n",
       "0  2018       116  AL   AL1    R       1  R+15   0.575\n",
       "1  2018       116  AL   AL2    R       1  R+16   0.580\n",
       "2  2018       116  AL   AL3    R       1  R+16   0.580\n",
       "3  2018       116  AL   AL4    R       1  R+30   0.650\n",
       "4  2018       116  AL   AL5    R       1  R+18   0.590\n",
       "5  2018       116  AL   AL6    R       1  R+26   0.630\n",
       "6  2018       116  AL   AL7    D       0  D+20   0.400\n",
       "7  2018       116  AK  AKAL    R       1   R+9   0.545"
      ]
     },
     "execution_count": 12,
     "metadata": {},
     "output_type": "execute_result"
    }
   ],
   "source": [
    "data_116.head(8)"
   ]
  },
  {
   "cell_type": "markdown",
   "metadata": {},
   "source": [
    "## Conduct preliminary examinations of the data"
   ]
  },
  {
   "cell_type": "markdown",
   "metadata": {},
   "source": [
    "Because this data is useless in aggregate (2020 alone is not a good basis for prediction, given the lack of accounting for major waves), we will run basic examinations in this notebook"
   ]
  },
  {
   "cell_type": "code",
   "execution_count": 13,
   "metadata": {},
   "outputs": [
    {
     "data": {
      "image/png": "[encoded data removed]",
      "text/plain": [
       "<Figure size 640x480 with 1 Axes>"
      ]
     },
     "metadata": {},
     "output_type": "display_data"
    },
    {
     "data": {
      "text/plain": [
       "<ggplot: (8794392915938)>"
      ]
     },
     "execution_count": 13,
     "metadata": {},
     "output_type": "execute_result"
    }
   ],
   "source": [
    "# Create a super simple scatterplot to examine the relationship between PVI and congressional district\n",
    "(p9.ggplot(data=pure_116, mapping=p9.aes(x='metric', y='is_GOP'))\n",
    " + p9.geom_point() \n",
    " + labs(x='GOP Leaning of District', y='GOP Representation',color=\"\",title=\"PVI Correlation\"))"
   ]
  },
  {
   "cell_type": "markdown",
   "metadata": {},
   "source": [
    "Here we see a heavy democratic leaning, with a some seats even beyond R+10 being occupied by Democrats"
   ]
  },
  {
   "cell_type": "code",
   "execution_count": 14,
   "metadata": {},
   "outputs": [],
   "source": [
    "#group by metric and average GOP seats\n",
    "bm_116 = pure_116.groupby('metric').mean()\n",
    "#this will not be produced into a dataset without aggregating all years, as \n",
    "bm_116 = bm_116.reset_index()"
   ]
  },
  {
   "cell_type": "code",
   "execution_count": 15,
   "metadata": {},
   "outputs": [
    {
     "data": {
      "image/png": "[encoded data removed]",
      "text/plain": [
       "<Figure size 640x480 with 1 Axes>"
      ]
     },
     "metadata": {},
     "output_type": "display_data"
    },
    {
     "data": {
      "text/plain": [
       "<ggplot: (8794392923727)>"
      ]
     },
     "execution_count": 15,
     "metadata": {},
     "output_type": "execute_result"
    }
   ],
   "source": [
    "#Plot averages\n",
    "(p9.ggplot(data=bm_116, mapping=p9.aes(x='metric', y='is_GOP'))\n",
    " + p9.geom_point() \n",
    " + labs(x='GOP Leaning of District', y=\"Share of GOP Representatives\",color=\"\",title=\"PVI Correlation\"))"
   ]
  },
  {
   "cell_type": "markdown",
   "metadata": {},
   "source": [
    "This too shows the heavy power of a Democratic wave, with PVIs with a Republican lean are still scroing 100% Democratic"
   ]
  },
  {
   "cell_type": "code",
   "execution_count": 16,
   "metadata": {},
   "outputs": [],
   "source": [
    "#now lets limit the data to only the R+10 to D+10 range, calling it Limited Domain\n",
    "ld_116 = bm_116[bm_116[\"metric\"] <= .55]\n",
    "ld_116 = ld_116[ld_116[\"metric\"] >= .45]"
   ]
  },
  {
   "cell_type": "code",
   "execution_count": 17,
   "metadata": {},
   "outputs": [
    {
     "data": {
      "image/png": "[encoded data removed]",
      "text/plain": [
       "<Figure size 640x480 with 1 Axes>"
      ]
     },
     "metadata": {},
     "output_type": "display_data"
    },
    {
     "data": {
      "text/plain": [
       "<ggplot: (8794393343808)>"
      ]
     },
     "execution_count": 17,
     "metadata": {},
     "output_type": "execute_result"
    }
   ],
   "source": [
    "#Plot averages\n",
    "(p9.ggplot(data=ld_116, mapping=p9.aes(x='metric', y='is_GOP'))\n",
    " + p9.geom_point() \n",
    " + geom_smooth(method = \"lm\", color = \"red\", se = False)\n",
    " + labs(x='GOP Leaning of District', y=\"Share of GOP Representatives\",color=\"\",title=\"PVI Correlation\"))"
   ]
  }
 ],
 "metadata": {
  "kernelspec": {
   "display_name": "Python 3",
   "language": "python",
   "name": "python3"
  },
  "language_info": {
   "codemirror_mode": {
    "name": "ipython",
    "version": 3
   },
   "file_extension": ".py",
   "mimetype": "text/x-python",
   "name": "python",
   "nbconvert_exporter": "python",
   "pygments_lexer": "ipython3",
   "version": "3.8.5"
  }
 },
 "nbformat": 4,
 "nbformat_minor": 4
}
