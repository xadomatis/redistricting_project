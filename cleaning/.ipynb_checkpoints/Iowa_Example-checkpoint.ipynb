{
 "cells": [
  {
   "cell_type": "code",
   "execution_count": 1,
   "metadata": {},
   "outputs": [],
   "source": [
    "import requests\n",
    "import pandas as pd\n",
    "pd.set_option(\"display.max_rows\", None, \"display.max_columns\", None)"
   ]
  },
  {
   "cell_type": "markdown",
   "metadata": {},
   "source": [
    "# Read in and Aggregate County Data"
   ]
  },
  {
   "cell_type": "code",
   "execution_count": 2,
   "metadata": {},
   "outputs": [],
   "source": [
    "ia12 = pd.read_excel(\"/Users/xavier/Desktop/DSPP/solo_projects/redistricting_project/raw_data/Iowa_2012_cds.xlsx\")"
   ]
  },
  {
   "cell_type": "code",
   "execution_count": 3,
   "metadata": {},
   "outputs": [],
   "source": [
    "ia12 = ia12[\"County District Population\"].str.split(' ', expand=True)"
   ]
  },
  {
   "cell_type": "code",
   "execution_count": 4,
   "metadata": {},
   "outputs": [],
   "source": [
    "ia12.columns = [\"county\",\"district_112\",\"pop\"]"
   ]
  },
  {
   "cell_type": "code",
   "execution_count": 5,
   "metadata": {},
   "outputs": [],
   "source": [
    "ia12 = ia12[[\"county\",\"district_112\"]]"
   ]
  },
  {
   "cell_type": "code",
   "execution_count": 6,
   "metadata": {},
   "outputs": [],
   "source": [
    "ia12.to_csv(\"/Users/xavier/Desktop/DSPP/solo_projects/redistricting_project/clean_data/iowa/iowa_2012.csv\", index = False)"
   ]
  },
  {
   "cell_type": "markdown",
   "metadata": {},
   "source": [
    "After manually imputing county names via the published map (thanks IA leg), I have a csv of the states districts"
   ]
  },
  {
   "cell_type": "code",
   "execution_count": 7,
   "metadata": {},
   "outputs": [],
   "source": [
    "ia_cts = pd.read_csv(\"/Users/xavier/Desktop/DSPP/solo_projects/redistricting_project/raw_data/Iowa_2022.csv\")"
   ]
  },
  {
   "cell_type": "code",
   "execution_count": 8,
   "metadata": {},
   "outputs": [],
   "source": [
    "#remove the underscore used to prevent deliniation\n",
    "ia_cts[\"county\"] = ia_cts[\"county\"].str.replace(\"_\",\" \")"
   ]
  },
  {
   "cell_type": "code",
   "execution_count": 9,
   "metadata": {},
   "outputs": [],
   "source": [
    "fips = pd.read_csv(\"/Users/xavier/Desktop/DSPP/solo_projects/redistricting_project/raw_data/iowa_fips.csv\")\n",
    "fips[\"county\"] = fips[\"county\"].replace(\"O Brien\",\"O'Brien\")"
   ]
  },
  {
   "cell_type": "code",
   "execution_count": 10,
   "metadata": {},
   "outputs": [],
   "source": [
    "ia_cts = pd.merge(ia_cts,fips, on=\"county\", how=\"outer\")"
   ]
  },
  {
   "cell_type": "code",
   "execution_count": 11,
   "metadata": {},
   "outputs": [],
   "source": [
    "ia_cts[\"ct_FIPS\"] = ia_cts[\"FIPS\"].astype(str).str[2:]"
   ]
  },
  {
   "cell_type": "markdown",
   "metadata": {},
   "source": [
    "# Read in and Aggregate District Data"
   ]
  },
  {
   "cell_type": "code",
   "execution_count": 12,
   "metadata": {},
   "outputs": [],
   "source": [
    "d = pd.read_csv(\"/Users/xavier/Desktop/DSPP/solo_projects/redistricting_project/processed/aggregated_fairness.csv\")\n",
    "#s = pd.read_csv(\"/Users/xavier/Desktop/DSPP/solo_projects/redistricting_project/processed/2022_redraw_workbook.csv\")"
   ]
  },
  {
   "cell_type": "code",
   "execution_count": 13,
   "metadata": {},
   "outputs": [],
   "source": [
    "d = d[d[\"ST\"] == \"IA\"]\n",
    "d = d[d[\"year\"] > 2018]\n",
    "#s = s[s[\"ST\"] == \"IA\"]"
   ]
  },
  {
   "cell_type": "code",
   "execution_count": 14,
   "metadata": {},
   "outputs": [],
   "source": [
    "data_118 = pd.read_csv(\"/Users/xavier/Desktop/DSPP/solo_projects/redistricting_project/clean_data/full_districts/data_118.csv\")\n",
    "data_117 = pd.read_csv(\"/Users/xavier/Desktop/DSPP/solo_projects/redistricting_project/clean_data/full_districts/data_117.csv\")"
   ]
  },
  {
   "cell_type": "code",
   "execution_count": 15,
   "metadata": {},
   "outputs": [
    {
     "data": {
      "text/html": [
       "<div>\n",
       "<style scoped>\n",
       "    .dataframe tbody tr th:only-of-type {\n",
       "        vertical-align: middle;\n",
       "    }\n",
       "\n",
       "    .dataframe tbody tr th {\n",
       "        vertical-align: top;\n",
       "    }\n",
       "\n",
       "    .dataframe thead th {\n",
       "        text-align: right;\n",
       "    }\n",
       "</style>\n",
       "<table border=\"1\" class=\"dataframe\">\n",
       "  <thead>\n",
       "    <tr style=\"text-align: right;\">\n",
       "      <th></th>\n",
       "      <th>year</th>\n",
       "      <th>congress</th>\n",
       "      <th>ST</th>\n",
       "      <th>ST#</th>\n",
       "      <th>PVI</th>\n",
       "      <th>metric</th>\n",
       "      <th>seat</th>\n",
       "      <th>is_GOP</th>\n",
       "      <th>district</th>\n",
       "    </tr>\n",
       "  </thead>\n",
       "  <tbody>\n",
       "    <tr>\n",
       "      <th>103</th>\n",
       "      <td>2022</td>\n",
       "      <td>118</td>\n",
       "      <td>IA</td>\n",
       "      <td>IA1</td>\n",
       "      <td>R+2</td>\n",
       "      <td>0.52</td>\n",
       "      <td>NaN</td>\n",
       "      <td>NaN</td>\n",
       "      <td>1</td>\n",
       "    </tr>\n",
       "    <tr>\n",
       "      <th>104</th>\n",
       "      <td>2022</td>\n",
       "      <td>118</td>\n",
       "      <td>IA</td>\n",
       "      <td>IA2</td>\n",
       "      <td>R+3</td>\n",
       "      <td>0.53</td>\n",
       "      <td>NaN</td>\n",
       "      <td>NaN</td>\n",
       "      <td>2</td>\n",
       "    </tr>\n",
       "    <tr>\n",
       "      <th>105</th>\n",
       "      <td>2022</td>\n",
       "      <td>118</td>\n",
       "      <td>IA</td>\n",
       "      <td>IA3</td>\n",
       "      <td>R+1</td>\n",
       "      <td>0.51</td>\n",
       "      <td>NaN</td>\n",
       "      <td>NaN</td>\n",
       "      <td>3</td>\n",
       "    </tr>\n",
       "    <tr>\n",
       "      <th>106</th>\n",
       "      <td>2022</td>\n",
       "      <td>118</td>\n",
       "      <td>IA</td>\n",
       "      <td>IA4</td>\n",
       "      <td>R+14</td>\n",
       "      <td>0.64</td>\n",
       "      <td>NaN</td>\n",
       "      <td>NaN</td>\n",
       "      <td>4</td>\n",
       "    </tr>\n",
       "    <tr>\n",
       "      <th>159</th>\n",
       "      <td>2020</td>\n",
       "      <td>117</td>\n",
       "      <td>IA</td>\n",
       "      <td>IA1</td>\n",
       "      <td>R+4</td>\n",
       "      <td>0.54</td>\n",
       "      <td>R</td>\n",
       "      <td>1.0</td>\n",
       "      <td>1</td>\n",
       "    </tr>\n",
       "    <tr>\n",
       "      <th>160</th>\n",
       "      <td>2020</td>\n",
       "      <td>117</td>\n",
       "      <td>IA</td>\n",
       "      <td>IA2</td>\n",
       "      <td>R+4</td>\n",
       "      <td>0.54</td>\n",
       "      <td>R</td>\n",
       "      <td>1.0</td>\n",
       "      <td>2</td>\n",
       "    </tr>\n",
       "    <tr>\n",
       "      <th>161</th>\n",
       "      <td>2020</td>\n",
       "      <td>117</td>\n",
       "      <td>IA</td>\n",
       "      <td>IA3</td>\n",
       "      <td>R+3</td>\n",
       "      <td>0.53</td>\n",
       "      <td>D</td>\n",
       "      <td>0.0</td>\n",
       "      <td>3</td>\n",
       "    </tr>\n",
       "    <tr>\n",
       "      <th>162</th>\n",
       "      <td>2020</td>\n",
       "      <td>117</td>\n",
       "      <td>IA</td>\n",
       "      <td>IA4</td>\n",
       "      <td>R+16</td>\n",
       "      <td>0.66</td>\n",
       "      <td>R</td>\n",
       "      <td>1.0</td>\n",
       "      <td>4</td>\n",
       "    </tr>\n",
       "  </tbody>\n",
       "</table>\n",
       "</div>"
      ],
      "text/plain": [
       "     year  congress  ST  ST#   PVI  metric seat  is_GOP district\n",
       "103  2022       118  IA  IA1   R+2    0.52  NaN     NaN        1\n",
       "104  2022       118  IA  IA2   R+3    0.53  NaN     NaN        2\n",
       "105  2022       118  IA  IA3   R+1    0.51  NaN     NaN        3\n",
       "106  2022       118  IA  IA4  R+14    0.64  NaN     NaN        4\n",
       "159  2020       117  IA  IA1   R+4    0.54    R     1.0        1\n",
       "160  2020       117  IA  IA2   R+4    0.54    R     1.0        2\n",
       "161  2020       117  IA  IA3   R+3    0.53    D     0.0        3\n",
       "162  2020       117  IA  IA4  R+16    0.66    R     1.0        4"
      ]
     },
     "execution_count": 15,
     "metadata": {},
     "output_type": "execute_result"
    }
   ],
   "source": [
    "data_118 = data_118[data_118[\"ST\"] == \"IA\"]\n",
    "data_117 = data_117[data_117[\"ST\"] == \"IA\"]\n",
    "dist = pd.concat([data_118,data_117])\n",
    "dist[\"district\"] = dist[\"ST#\"].str[-1]\n",
    "dist"
   ]
  },
  {
   "cell_type": "code",
   "execution_count": 16,
   "metadata": {},
   "outputs": [],
   "source": [
    "dicts = pd.read_csv(\"/Users/xavier/Desktop/DSPP/solo_projects/redistricting_project/processed/metric_converter.csv\")\n",
    "dists = pd.merge(dist,dicts, on=\"metric\")"
   ]
  },
  {
   "cell_type": "code",
   "execution_count": 17,
   "metadata": {},
   "outputs": [],
   "source": [
    "dists = dists.sort_values(\"year\").sort_values(\"district\").reset_index(drop=True)\n",
    "dists[\"Chance of GOP Representation\"] = dists[\"prob_GOP\"]*100\n",
    "dists[\"key\"] = dists[\"district\"].astype(str) + \"-\" + dists[\"year\"].astype(str)"
   ]
  },
  {
   "cell_type": "code",
   "execution_count": 18,
   "metadata": {},
   "outputs": [
    {
     "name": "stdout",
     "output_type": "stream",
     "text": [
      "0.7218409258701521\n",
      "0.804915616579181\n"
     ]
    }
   ],
   "source": [
    "print(dists[dists[\"year\"]==2022].prob_GOP.mean())\n",
    "print(dists[dists[\"year\"]==2020].prob_GOP.mean())"
   ]
  },
  {
   "cell_type": "code",
   "execution_count": null,
   "metadata": {},
   "outputs": [],
   "source": []
  },
  {
   "cell_type": "code",
   "execution_count": 19,
   "metadata": {},
   "outputs": [],
   "source": [
    "dists.to_csv(\"/Users/xavier/Desktop/DSPP/solo_projects/redistricting_project/processed/iowa_districts.csv\", index = False)"
   ]
  },
  {
   "cell_type": "code",
   "execution_count": 20,
   "metadata": {},
   "outputs": [
    {
     "name": "stderr",
     "output_type": "stream",
     "text": [
      "<ipython-input-20-b9346a0515cc>:2: SettingWithCopyWarning: \n",
      "A value is trying to be set on a copy of a slice from a DataFrame.\n",
      "Try using .loc[row_indexer,col_indexer] = value instead\n",
      "\n",
      "See the caveats in the documentation: https://pandas.pydata.org/pandas-docs/stable/user_guide/indexing.html#returning-a-view-versus-a-copy\n",
      "  iact_112[\"year\"] = 2020\n",
      "<ipython-input-20-b9346a0515cc>:6: SettingWithCopyWarning: \n",
      "A value is trying to be set on a copy of a slice from a DataFrame.\n",
      "Try using .loc[row_indexer,col_indexer] = value instead\n",
      "\n",
      "See the caveats in the documentation: https://pandas.pydata.org/pandas-docs/stable/user_guide/indexing.html#returning-a-view-versus-a-copy\n",
      "  iact_118[\"year\"] = 2022\n"
     ]
    }
   ],
   "source": [
    "iact_112 = ia_cts[[\"county\",\"district_112\",\"FIPS\",\"ct_FIPS\"]]\n",
    "iact_112[\"year\"] = 2020\n",
    "iact_112[\"congress\"] = 117\n",
    "iact_112 = iact_112.rename(columns={\"district_112\":\"district\"})\n",
    "iact_118 = ia_cts[[\"county\",\"district_118\",\"FIPS\",\"ct_FIPS\"]]\n",
    "iact_118[\"year\"] = 2022\n",
    "iact_118[\"congress\"] = 118\n",
    "iact_118 = iact_118.rename(columns={\"district_118\":\"district\"})"
   ]
  },
  {
   "cell_type": "code",
   "execution_count": 21,
   "metadata": {},
   "outputs": [],
   "source": [
    "iact = pd.concat([iact_112,iact_118])\n",
    "iact[\"key\"] = iact[\"district\"].astype(str) + \"-\" + iact[\"year\"].astype(str)\n",
    "iact = iact.drop(columns=[\"district\",\"year\",\"congress\"])\n",
    "df = pd.merge(iact,dists,on=\"key\")"
   ]
  },
  {
   "cell_type": "code",
   "execution_count": 22,
   "metadata": {},
   "outputs": [
    {
     "data": {
      "text/html": [
       "<div>\n",
       "<style scoped>\n",
       "    .dataframe tbody tr th:only-of-type {\n",
       "        vertical-align: middle;\n",
       "    }\n",
       "\n",
       "    .dataframe tbody tr th {\n",
       "        vertical-align: top;\n",
       "    }\n",
       "\n",
       "    .dataframe thead th {\n",
       "        text-align: right;\n",
       "    }\n",
       "</style>\n",
       "<table border=\"1\" class=\"dataframe\">\n",
       "  <thead>\n",
       "    <tr style=\"text-align: right;\">\n",
       "      <th></th>\n",
       "      <th>county</th>\n",
       "      <th>FIPS</th>\n",
       "      <th>ct_FIPS</th>\n",
       "      <th>year</th>\n",
       "      <th>congress</th>\n",
       "      <th>ST</th>\n",
       "      <th>ST#</th>\n",
       "      <th>PVI</th>\n",
       "      <th>metric</th>\n",
       "      <th>district</th>\n",
       "      <th>pvi_range</th>\n",
       "      <th>prob_GOP</th>\n",
       "      <th>Chance of GOP Representation</th>\n",
       "    </tr>\n",
       "  </thead>\n",
       "  <tbody>\n",
       "    <tr>\n",
       "      <th>0</th>\n",
       "      <td>Allamakee</td>\n",
       "      <td>19005</td>\n",
       "      <td>005</td>\n",
       "      <td>2020</td>\n",
       "      <td>117</td>\n",
       "      <td>IA</td>\n",
       "      <td>IA1</td>\n",
       "      <td>R+4</td>\n",
       "      <td>0.54</td>\n",
       "      <td>1</td>\n",
       "      <td>R+4</td>\n",
       "      <td>0.788991</td>\n",
       "      <td>78.899083</td>\n",
       "    </tr>\n",
       "    <tr>\n",
       "      <th>1</th>\n",
       "      <td>Benton</td>\n",
       "      <td>19011</td>\n",
       "      <td>011</td>\n",
       "      <td>2020</td>\n",
       "      <td>117</td>\n",
       "      <td>IA</td>\n",
       "      <td>IA1</td>\n",
       "      <td>R+4</td>\n",
       "      <td>0.54</td>\n",
       "      <td>1</td>\n",
       "      <td>R+4</td>\n",
       "      <td>0.788991</td>\n",
       "      <td>78.899083</td>\n",
       "    </tr>\n",
       "    <tr>\n",
       "      <th>2</th>\n",
       "      <td>Black Hawk</td>\n",
       "      <td>19013</td>\n",
       "      <td>013</td>\n",
       "      <td>2020</td>\n",
       "      <td>117</td>\n",
       "      <td>IA</td>\n",
       "      <td>IA1</td>\n",
       "      <td>R+4</td>\n",
       "      <td>0.54</td>\n",
       "      <td>1</td>\n",
       "      <td>R+4</td>\n",
       "      <td>0.788991</td>\n",
       "      <td>78.899083</td>\n",
       "    </tr>\n",
       "    <tr>\n",
       "      <th>3</th>\n",
       "      <td>Bremer</td>\n",
       "      <td>19017</td>\n",
       "      <td>017</td>\n",
       "      <td>2020</td>\n",
       "      <td>117</td>\n",
       "      <td>IA</td>\n",
       "      <td>IA1</td>\n",
       "      <td>R+4</td>\n",
       "      <td>0.54</td>\n",
       "      <td>1</td>\n",
       "      <td>R+4</td>\n",
       "      <td>0.788991</td>\n",
       "      <td>78.899083</td>\n",
       "    </tr>\n",
       "    <tr>\n",
       "      <th>4</th>\n",
       "      <td>Buchanan</td>\n",
       "      <td>19019</td>\n",
       "      <td>019</td>\n",
       "      <td>2020</td>\n",
       "      <td>117</td>\n",
       "      <td>IA</td>\n",
       "      <td>IA1</td>\n",
       "      <td>R+4</td>\n",
       "      <td>0.54</td>\n",
       "      <td>1</td>\n",
       "      <td>R+4</td>\n",
       "      <td>0.788991</td>\n",
       "      <td>78.899083</td>\n",
       "    </tr>\n",
       "  </tbody>\n",
       "</table>\n",
       "</div>"
      ],
      "text/plain": [
       "       county   FIPS ct_FIPS  year  congress  ST  ST#  PVI  metric district  \\\n",
       "0   Allamakee  19005     005  2020       117  IA  IA1  R+4    0.54        1   \n",
       "1      Benton  19011     011  2020       117  IA  IA1  R+4    0.54        1   \n",
       "2  Black Hawk  19013     013  2020       117  IA  IA1  R+4    0.54        1   \n",
       "3      Bremer  19017     017  2020       117  IA  IA1  R+4    0.54        1   \n",
       "4    Buchanan  19019     019  2020       117  IA  IA1  R+4    0.54        1   \n",
       "\n",
       "  pvi_range  prob_GOP  Chance of GOP Representation  \n",
       "0       R+4  0.788991                     78.899083  \n",
       "1       R+4  0.788991                     78.899083  \n",
       "2       R+4  0.788991                     78.899083  \n",
       "3       R+4  0.788991                     78.899083  \n",
       "4       R+4  0.788991                     78.899083  "
      ]
     },
     "execution_count": 22,
     "metadata": {},
     "output_type": "execute_result"
    }
   ],
   "source": [
    "df = df.drop(columns=[\"key\",\"seat\",\"is_GOP\"])\n",
    "df.head()"
   ]
  },
  {
   "cell_type": "code",
   "execution_count": 23,
   "metadata": {},
   "outputs": [],
   "source": [
    "df_118 = df[df[\"congress\"]==118]\n",
    "df_117 = df[df[\"congress\"]==117][[\"county\",\"district\",\"PVI\",\"prob_GOP\"]]\n",
    "df_117.columns = [\"county\",\"district_117\",\"PVI_117\",\"prob_GOP_117\"]\n",
    "df_118 = pd.merge(df_118, df_117, on=\"county\")"
   ]
  },
  {
   "cell_type": "code",
   "execution_count": 24,
   "metadata": {},
   "outputs": [],
   "source": [
    "#df.to_csv(\"/Users/xavier/Desktop/DSPP/solo_projects/redistricting_project/processed/iowa.csv\", index = False)\n",
    "df_118.to_csv(\"/Users/xavier/Desktop/DSPP/solo_projects/redistricting_project/processed/iowa.csv\", index = False)\n",
    "df[df[\"congress\"]==117].to_csv(\"/Users/xavier/Desktop/DSPP/solo_projects/redistricting_project/processed/iowa_117.csv\", index = False)"
   ]
  },
  {
   "cell_type": "code",
   "execution_count": 25,
   "metadata": {},
   "outputs": [],
   "source": [
    "df.to_csv(\"/Users/xavier/Desktop/DSPP/solo_projects/redistricting_project/processed/iowa_slider.csv\", index = False)"
   ]
  }
 ],
 "metadata": {
  "kernelspec": {
   "display_name": "Python 3",
   "language": "python",
   "name": "python3"
  },
  "language_info": {
   "codemirror_mode": {
    "name": "ipython",
    "version": 3
   },
   "file_extension": ".py",
   "mimetype": "text/x-python",
   "name": "python",
   "nbconvert_exporter": "python",
   "pygments_lexer": "ipython3",
   "version": "3.8.5"
  }
 },
 "nbformat": 4,
 "nbformat_minor": 4
}
