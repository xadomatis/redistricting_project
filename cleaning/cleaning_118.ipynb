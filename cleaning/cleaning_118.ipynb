{
 "cells": [
  {
   "cell_type": "markdown",
   "metadata": {},
   "source": [
    "# Upload Data from Dave's Redistricting"
   ]
  },
  {
   "cell_type": "markdown",
   "metadata": {},
   "source": [
    "Due to discrepancies in 538's data and untraceable sourcing, I have pulled together public data from Dave's Redistricting App on 3.20.2022."
   ]
  },
  {
   "cell_type": "markdown",
   "metadata": {},
   "source": [
    "At the point of initial pull, Missouri, Louisiana, New Hampshire, and Florida still had incomplete maps. "
   ]
  },
  {
   "cell_type": "markdown",
   "metadata": {},
   "source": [
    "Also, Kentucky and West Virginia, for some reason, did not yet have data for the 2020 Presidential election yet. Ohio's new map was also not included. For these states, we'll still have to use 538's less traceable data."
   ]
  },
  {
   "cell_type": "code",
   "execution_count": 1,
   "metadata": {},
   "outputs": [],
   "source": [
    "import requests\n",
    "import pandas as pd\n",
    "import os\n",
    "import glob\n",
    "import numpy as np\n",
    "pd.set_option(\"display.max_rows\", None, \"display.max_columns\", None)"
   ]
  },
  {
   "cell_type": "code",
   "execution_count": 2,
   "metadata": {},
   "outputs": [],
   "source": [
    "#load the files into a single dataframe\n",
    "path = \"/Users/xavier/Desktop/DSPP/solo_projects/redistricting_project/raw_data/daves_pvis\"\n",
    "all_files = sorted(glob.glob(path + \"/*.csv\"))\n",
    "\n",
    "li = []\n",
    "\n",
    "for filename in all_files:\n",
    "    df = pd.read_csv(filename, index_col=None, header=0).reset_index()\n",
    "    df[\"ST\"] = filename[-6:-4]\n",
    "    li.append(df)\n",
    "\n",
    "frame = pd.concat(li, axis=0, ignore_index=False)"
   ]
  },
  {
   "cell_type": "code",
   "execution_count": 3,
   "metadata": {},
   "outputs": [
    {
     "data": {
      "text/plain": [
       "(362, 4)"
      ]
     },
     "execution_count": 3,
     "metadata": {},
     "output_type": "execute_result"
    }
   ],
   "source": [
    "#cut the frame and fix the columns\n",
    "df = frame[[\"ST\",\"index\",\"Devation\",\"Dem\"]]\n",
    "df.columns = [\"ST\",\"district\",\"dem_pct\",\"gop_pct\"]\n",
    "#remove nonumeric rows\n",
    "possible_numbers = list([str(i) for i in range(53)])\n",
    "df = df[df[\"district\"].isin(possible_numbers)]\n",
    "df.shape"
   ]
  },
  {
   "cell_type": "markdown",
   "metadata": {},
   "source": [
    "Without Florida, Ohio, Missouri, Kentucky, Louisiana, New Hampshire having valid data, and the 6 single district states not being in the set, 362 is the exact number we should have"
   ]
  },
  {
   "cell_type": "markdown",
   "metadata": {},
   "source": [
    "# Clean the Dave's data into our standardized format"
   ]
  },
  {
   "cell_type": "code",
   "execution_count": 4,
   "metadata": {},
   "outputs": [],
   "source": [
    "#Input standard text values\n",
    "df[\"year\"] = \"2022\"\n",
    "df[\"congress\"] = \"118\"\n",
    "df[\"ST#\"] = df[\"ST\"] + df[\"district\"]\n",
    "#compute metric\n",
    "df[\"metric\"] = round((.5 + df[\"gop_pct\"] - .4831),2)\n",
    "#compute PVI\n",
    "df[\"lean\"] = np.where(df[\"gop_pct\"] > df[\"dem_pct\"], \"R\", \"D\")\n",
    "df['PVI'] = df['lean'] + \"+\" + (((df['metric']-.5).abs())*100).fillna(1000).astype(int).astype(str).str.rstrip(\".0\")"
   ]
  },
  {
   "cell_type": "code",
   "execution_count": 5,
   "metadata": {},
   "outputs": [],
   "source": [
    "#create a clean version of the data to match other outputs\n",
    "pvi_118 = df[[\"year\",\"congress\",\"ST\",\"ST#\",\"PVI\",\"metric\"]]"
   ]
  },
  {
   "cell_type": "markdown",
   "metadata": {},
   "source": [
    "# Load in 538 Data to fill in gaps"
   ]
  },
  {
   "cell_type": "code",
   "execution_count": 6,
   "metadata": {},
   "outputs": [],
   "source": [
    "#load in filepaths for 538's data\n",
    "path_538 = \"/Users/xavier/Desktop/DSPP/solo_projects/redistricting_project/clean_data/supplimental/data_118_538.csv\"\n",
    "path_pre = \"/Users/xavier/Desktop/DSPP/solo_projects/redistricting_project/clean_data/supplimental/previews_118.csv\""
   ]
  },
  {
   "cell_type": "code",
   "execution_count": 7,
   "metadata": {},
   "outputs": [],
   "source": [
    "#grab states with maps not available in Dave's\n",
    "no_data_states = [\"KY\",\"WV\",\"OH\",\"VT\", \"DE\", \"WY\", \"ND\", \"SD\", \"AK\"]\n",
    "load_538 = pd.read_csv(path_538)\n",
    "no_data_rows = load_538[load_538[\"ST\"].isin(no_data_states)]\n",
    "#pull in maps not yet passed\n",
    "pre_rows = pd.read_csv(path_pre)"
   ]
  },
  {
   "cell_type": "code",
   "execution_count": 8,
   "metadata": {},
   "outputs": [
    {
     "data": {
      "text/plain": [
       "(435, 6)"
      ]
     },
     "execution_count": 8,
     "metadata": {},
     "output_type": "execute_result"
    }
   ],
   "source": [
    "pvi_118 = pd.concat([pvi_118,no_data_rows,pre_rows]).sort_values(\"ST\")\n",
    "pvi_118.shape"
   ]
  },
  {
   "cell_type": "markdown",
   "metadata": {},
   "source": [
    "Now we have something to represent all 435 Districts, we can export a dataset with the best possible estimates of what the 2022 map will look like"
   ]
  },
  {
   "cell_type": "code",
   "execution_count": null,
   "metadata": {},
   "outputs": [],
   "source": [
    "data_118.to_csv(\"/Users/xavier/Desktop/DSPP/solo_projects/redistricting_project/clean_data/full_districts/data_118.csv\",index=False)"
   ]
  },
  {
   "cell_type": "code",
   "execution_count": 9,
   "metadata": {},
   "outputs": [],
   "source": [
    "#pull in overturned maps\n",
    "path_ovs = \"/Users/xavier/Desktop/DSPP/solo_projects/redistricting_project/clean_data/supplimental/ovs_118.csv\"\n",
    "ov_rows = pd.read_csv(path_ovs)"
   ]
  }
 ],
 "metadata": {
  "kernelspec": {
   "display_name": "Python 3",
   "language": "python",
   "name": "python3"
  },
  "language_info": {
   "codemirror_mode": {
    "name": "ipython",
    "version": 3
   },
   "file_extension": ".py",
   "mimetype": "text/x-python",
   "name": "python",
   "nbconvert_exporter": "python",
   "pygments_lexer": "ipython3",
   "version": "3.8.5"
  }
 },
 "nbformat": 4,
 "nbformat_minor": 4
}
