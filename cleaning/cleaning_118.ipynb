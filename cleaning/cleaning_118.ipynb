{
 "cells": [
  {
   "cell_type": "markdown",
   "metadata": {},
   "source": [
    "# 117th Congress Data"
   ]
  },
  {
   "cell_type": "markdown",
   "metadata": {},
   "source": [
    "This notebook is meant to call, clean, and examine data from the 2022 redistricting process, to compare to previous years and examine fairness across maps.\n",
    "\n",
    "It feeds into a larger project about fairness in redistricting; for instance, if an R+15 district is unattainable for a Democrat to win, then the district can be wholly classified as \"safe,\" and should be bucketed with R+30 district. When data from previous years is projected onto this map, hopefully it will generate a picture of the relative fairness of these maps in context with their previous counterparts."
   ]
  },
  {
   "cell_type": "markdown",
   "metadata": {},
   "source": [
    "## Upload data from 538"
   ]
  },
  {
   "cell_type": "markdown",
   "metadata": {},
   "source": [
    "538 has generously provided a tracker for redistricting, along with a dataset containing a list of ALL proposed maps. The current version of this file was sourced on 2.11.2022, after the Alabama Congressional map was permitted by the Supreme Court. At that time, Florida, Louisiana, Minnesota, Missouri, New Hampshire, North Carolina, Ohio, Pennsylvania, Rhode Island, and Wisconsin did not have approved maps. \n",
    "\n",
    "Source Link: https://projects.fivethirtyeight.com/redistricting-2022-maps/"
   ]
  },
  {
   "cell_type": "code",
   "execution_count": 1,
   "metadata": {},
   "outputs": [],
   "source": [
    "import requests\n",
    "import pandas as pd\n",
    "pd.set_option(\"display.max_rows\", None, \"display.max_columns\", None)"
   ]
  },
  {
   "cell_type": "code",
   "execution_count": 2,
   "metadata": {},
   "outputs": [],
   "source": [
    "read_538 = pd.read_csv(\"/Users/xavier/Desktop/DSPP/solo_projects/redistricting_project/raw_data/redistricting_data_2021.csv\")"
   ]
  },
  {
   "cell_type": "markdown",
   "metadata": {},
   "source": [
    "## Clean and Organize the District Data"
   ]
  },
  {
   "cell_type": "code",
   "execution_count": 3,
   "metadata": {},
   "outputs": [],
   "source": [
    "import numpy as np\n",
    "import plotnine as p9\n",
    "from plotnine import ggplot, aes, facet_grid, labs, geom_point, geom_smooth\n",
    "from sklearn.linear_model import LinearRegression as lm\n",
    "import warnings\n",
    "warnings.filterwarnings('ignore')"
   ]
  },
  {
   "cell_type": "code",
   "execution_count": 4,
   "metadata": {},
   "outputs": [
    {
     "name": "stdout",
     "output_type": "stream",
     "text": [
      "  state       map   district          metric      value  map_approved\n",
      "0    AK       117         01     competitive   0.000000         False\n",
      "1    AK       117         AL             pvi -14.620280         False\n",
      "2    AK       117  statewide  efficiency_gap -39.476448         False\n",
      "3    AK       117  statewide          median   0.000000         False\n",
      "4    AK  approved         AL             pvi -14.620280         False\n",
      "5    AL       117         01     competitive   0.000000         False\n",
      "6    AL       117         01             pvi -31.938510         False\n",
      "7    AL       117         02     competitive   0.000000         False\n",
      "(24160, 6)\n"
     ]
    }
   ],
   "source": [
    "#check the data\n",
    "pvi_118 = read_538\n",
    "print(pvi_118.head(n=8))\n",
    "print(pvi_118.shape)"
   ]
  },
  {
   "cell_type": "code",
   "execution_count": 5,
   "metadata": {},
   "outputs": [
    {
     "name": "stdout",
     "output_type": "stream",
     "text": [
      "(302, 6)\n"
     ]
    }
   ],
   "source": [
    "#eliminate unapproved and dated maps\n",
    "pvi_118 = pvi_118[pvi_118[\"map_approved\"] == True]\n",
    "#limit to only the pvi rows (it includes several other types of data per proposed district)\n",
    "pvi_118 = pvi_118[pvi_118[\"metric\"] == \"pvi\"]\n",
    "print(pvi_118.shape)"
   ]
  },
  {
   "cell_type": "code",
   "execution_count": 6,
   "metadata": {},
   "outputs": [
    {
     "data": {
      "text/html": [
       "<div>\n",
       "<style scoped>\n",
       "    .dataframe tbody tr th:only-of-type {\n",
       "        vertical-align: middle;\n",
       "    }\n",
       "\n",
       "    .dataframe tbody tr th {\n",
       "        vertical-align: top;\n",
       "    }\n",
       "\n",
       "    .dataframe thead th {\n",
       "        text-align: right;\n",
       "    }\n",
       "</style>\n",
       "<table border=\"1\" class=\"dataframe\">\n",
       "  <thead>\n",
       "    <tr style=\"text-align: right;\">\n",
       "      <th></th>\n",
       "      <th>state</th>\n",
       "      <th>map</th>\n",
       "      <th>district</th>\n",
       "      <th>metric</th>\n",
       "      <th>value</th>\n",
       "      <th>map_approved</th>\n",
       "    </tr>\n",
       "  </thead>\n",
       "  <tbody>\n",
       "    <tr>\n",
       "      <th>22</th>\n",
       "      <td>AL</td>\n",
       "      <td>committee_proposal_1</td>\n",
       "      <td>1</td>\n",
       "      <td>pvi</td>\n",
       "      <td>-31.783800</td>\n",
       "      <td>True</td>\n",
       "    </tr>\n",
       "    <tr>\n",
       "      <th>29</th>\n",
       "      <td>AL</td>\n",
       "      <td>committee_proposal_1</td>\n",
       "      <td>2</td>\n",
       "      <td>pvi</td>\n",
       "      <td>-33.584348</td>\n",
       "      <td>True</td>\n",
       "    </tr>\n",
       "    <tr>\n",
       "      <th>36</th>\n",
       "      <td>AL</td>\n",
       "      <td>committee_proposal_1</td>\n",
       "      <td>3</td>\n",
       "      <td>pvi</td>\n",
       "      <td>-39.114921</td>\n",
       "      <td>True</td>\n",
       "    </tr>\n",
       "    <tr>\n",
       "      <th>43</th>\n",
       "      <td>AL</td>\n",
       "      <td>committee_proposal_1</td>\n",
       "      <td>4</td>\n",
       "      <td>pvi</td>\n",
       "      <td>-64.918896</td>\n",
       "      <td>True</td>\n",
       "    </tr>\n",
       "    <tr>\n",
       "      <th>50</th>\n",
       "      <td>AL</td>\n",
       "      <td>committee_proposal_1</td>\n",
       "      <td>5</td>\n",
       "      <td>pvi</td>\n",
       "      <td>-32.146650</td>\n",
       "      <td>True</td>\n",
       "    </tr>\n",
       "    <tr>\n",
       "      <th>57</th>\n",
       "      <td>AL</td>\n",
       "      <td>committee_proposal_1</td>\n",
       "      <td>6</td>\n",
       "      <td>pvi</td>\n",
       "      <td>-35.985448</td>\n",
       "      <td>True</td>\n",
       "    </tr>\n",
       "    <tr>\n",
       "      <th>64</th>\n",
       "      <td>AL</td>\n",
       "      <td>committee_proposal_1</td>\n",
       "      <td>7</td>\n",
       "      <td>pvi</td>\n",
       "      <td>28.640375</td>\n",
       "      <td>True</td>\n",
       "    </tr>\n",
       "    <tr>\n",
       "      <th>557</th>\n",
       "      <td>AR</td>\n",
       "      <td>sb743</td>\n",
       "      <td>1</td>\n",
       "      <td>pvi</td>\n",
       "      <td>-43.697592</td>\n",
       "      <td>True</td>\n",
       "    </tr>\n",
       "  </tbody>\n",
       "</table>\n",
       "</div>"
      ],
      "text/plain": [
       "    state                   map district metric      value  map_approved\n",
       "22     AL  committee_proposal_1        1    pvi -31.783800          True\n",
       "29     AL  committee_proposal_1        2    pvi -33.584348          True\n",
       "36     AL  committee_proposal_1        3    pvi -39.114921          True\n",
       "43     AL  committee_proposal_1        4    pvi -64.918896          True\n",
       "50     AL  committee_proposal_1        5    pvi -32.146650          True\n",
       "57     AL  committee_proposal_1        6    pvi -35.985448          True\n",
       "64     AL  committee_proposal_1        7    pvi  28.640375          True\n",
       "557    AR                 sb743        1    pvi -43.697592          True"
      ]
     },
     "execution_count": 6,
     "metadata": {},
     "output_type": "execute_result"
    }
   ],
   "source": [
    "#remove zeroes from the district number to match formats\n",
    "pvi_118[\"district\"] = pvi_118['district'].str.lstrip(\"0\")\n",
    "pvi_118.head(n=8)"
   ]
  },
  {
   "cell_type": "code",
   "execution_count": 7,
   "metadata": {},
   "outputs": [],
   "source": [
    "#create an ST column\n",
    "pvi_118 = pvi_118.rename(columns={\"state\": \"ST\"})\n",
    "#create the district code variable\n",
    "pvi_118[\"ST#\"] = pvi_118[\"ST\"] + pvi_118[\"district\"]"
   ]
  },
  {
   "cell_type": "code",
   "execution_count": 8,
   "metadata": {},
   "outputs": [
    {
     "data": {
      "text/plain": [
       "array(['R', 'D'], dtype=object)"
      ]
     },
     "execution_count": 8,
     "metadata": {},
     "output_type": "execute_result"
    }
   ],
   "source": [
    "#possibly unneccessary\n",
    "#pull out district lean\n",
    "pvi_118[\"lean\"] = pvi_118[\"value\"]\n",
    "pvi_118.loc[pvi_118['value'] <= 0, 'lean'] = 'R' \n",
    "pvi_118.loc[pvi_118['value'] > 0, 'lean'] = 'D' \n",
    "pvi_118[\"lean\"].unique()"
   ]
  },
  {
   "cell_type": "code",
   "execution_count": 9,
   "metadata": {},
   "outputs": [
    {
     "data": {
      "text/html": [
       "<div>\n",
       "<style scoped>\n",
       "    .dataframe tbody tr th:only-of-type {\n",
       "        vertical-align: middle;\n",
       "    }\n",
       "\n",
       "    .dataframe tbody tr th {\n",
       "        vertical-align: top;\n",
       "    }\n",
       "\n",
       "    .dataframe thead th {\n",
       "        text-align: right;\n",
       "    }\n",
       "</style>\n",
       "<table border=\"1\" class=\"dataframe\">\n",
       "  <thead>\n",
       "    <tr style=\"text-align: right;\">\n",
       "      <th></th>\n",
       "      <th>ST</th>\n",
       "      <th>map</th>\n",
       "      <th>district</th>\n",
       "      <th>metric</th>\n",
       "      <th>value</th>\n",
       "      <th>map_approved</th>\n",
       "      <th>ST#</th>\n",
       "      <th>lean</th>\n",
       "      <th>pvi_value</th>\n",
       "      <th>PVI</th>\n",
       "    </tr>\n",
       "  </thead>\n",
       "  <tbody>\n",
       "    <tr>\n",
       "      <th>22</th>\n",
       "      <td>AL</td>\n",
       "      <td>committee_proposal_1</td>\n",
       "      <td>1</td>\n",
       "      <td>pvi</td>\n",
       "      <td>-31.783800</td>\n",
       "      <td>True</td>\n",
       "      <td>AL1</td>\n",
       "      <td>R</td>\n",
       "      <td>32</td>\n",
       "      <td>R+32</td>\n",
       "    </tr>\n",
       "    <tr>\n",
       "      <th>29</th>\n",
       "      <td>AL</td>\n",
       "      <td>committee_proposal_1</td>\n",
       "      <td>2</td>\n",
       "      <td>pvi</td>\n",
       "      <td>-33.584348</td>\n",
       "      <td>True</td>\n",
       "      <td>AL2</td>\n",
       "      <td>R</td>\n",
       "      <td>34</td>\n",
       "      <td>R+34</td>\n",
       "    </tr>\n",
       "    <tr>\n",
       "      <th>36</th>\n",
       "      <td>AL</td>\n",
       "      <td>committee_proposal_1</td>\n",
       "      <td>3</td>\n",
       "      <td>pvi</td>\n",
       "      <td>-39.114921</td>\n",
       "      <td>True</td>\n",
       "      <td>AL3</td>\n",
       "      <td>R</td>\n",
       "      <td>39</td>\n",
       "      <td>R+39</td>\n",
       "    </tr>\n",
       "    <tr>\n",
       "      <th>43</th>\n",
       "      <td>AL</td>\n",
       "      <td>committee_proposal_1</td>\n",
       "      <td>4</td>\n",
       "      <td>pvi</td>\n",
       "      <td>-64.918896</td>\n",
       "      <td>True</td>\n",
       "      <td>AL4</td>\n",
       "      <td>R</td>\n",
       "      <td>65</td>\n",
       "      <td>R+65</td>\n",
       "    </tr>\n",
       "    <tr>\n",
       "      <th>50</th>\n",
       "      <td>AL</td>\n",
       "      <td>committee_proposal_1</td>\n",
       "      <td>5</td>\n",
       "      <td>pvi</td>\n",
       "      <td>-32.146650</td>\n",
       "      <td>True</td>\n",
       "      <td>AL5</td>\n",
       "      <td>R</td>\n",
       "      <td>32</td>\n",
       "      <td>R+32</td>\n",
       "    </tr>\n",
       "    <tr>\n",
       "      <th>57</th>\n",
       "      <td>AL</td>\n",
       "      <td>committee_proposal_1</td>\n",
       "      <td>6</td>\n",
       "      <td>pvi</td>\n",
       "      <td>-35.985448</td>\n",
       "      <td>True</td>\n",
       "      <td>AL6</td>\n",
       "      <td>R</td>\n",
       "      <td>36</td>\n",
       "      <td>R+36</td>\n",
       "    </tr>\n",
       "    <tr>\n",
       "      <th>64</th>\n",
       "      <td>AL</td>\n",
       "      <td>committee_proposal_1</td>\n",
       "      <td>7</td>\n",
       "      <td>pvi</td>\n",
       "      <td>28.640375</td>\n",
       "      <td>True</td>\n",
       "      <td>AL7</td>\n",
       "      <td>D</td>\n",
       "      <td>29</td>\n",
       "      <td>D+29</td>\n",
       "    </tr>\n",
       "  </tbody>\n",
       "</table>\n",
       "</div>"
      ],
      "text/plain": [
       "    ST                   map district metric      value  map_approved  ST#  \\\n",
       "22  AL  committee_proposal_1        1    pvi -31.783800          True  AL1   \n",
       "29  AL  committee_proposal_1        2    pvi -33.584348          True  AL2   \n",
       "36  AL  committee_proposal_1        3    pvi -39.114921          True  AL3   \n",
       "43  AL  committee_proposal_1        4    pvi -64.918896          True  AL4   \n",
       "50  AL  committee_proposal_1        5    pvi -32.146650          True  AL5   \n",
       "57  AL  committee_proposal_1        6    pvi -35.985448          True  AL6   \n",
       "64  AL  committee_proposal_1        7    pvi  28.640375          True  AL7   \n",
       "\n",
       "   lean pvi_value   PVI  \n",
       "22    R        32  R+32  \n",
       "29    R        34  R+34  \n",
       "36    R        39  R+39  \n",
       "43    R        65  R+65  \n",
       "50    R        32  R+32  \n",
       "57    R        36  R+36  \n",
       "64    D        29  D+29  "
      ]
     },
     "execution_count": 9,
     "metadata": {},
     "output_type": "execute_result"
    }
   ],
   "source": [
    "#create a standard PVI column and a rounded PVI Value column\n",
    "pvi_118[\"pvi_value\"] = round((abs(pvi_118[\"value\"])),0).map(str).str.rstrip(\".0\")\n",
    "pvi_118[\"PVI\"] = pvi_118.lean + \"+\" + pvi_118.pvi_value\n",
    "pvi_118.head(7)"
   ]
  },
  {
   "cell_type": "code",
   "execution_count": 10,
   "metadata": {},
   "outputs": [],
   "source": [
    "#rename the metric column to match the other datasets\n",
    "#the metric is a decimal representation  of PVI from 0 to 1\n",
    "pvi_118[\"metric\"] = ((-1*(round(pvi_118['value']))) + 50) / 100\n",
    "pvi_118[\"year\"] = 2022\n",
    "pvi_118[\"congress\"] = 118"
   ]
  },
  {
   "cell_type": "markdown",
   "metadata": {},
   "source": [
    "## Export clean versions of the data"
   ]
  },
  {
   "cell_type": "code",
   "execution_count": 11,
   "metadata": {},
   "outputs": [],
   "source": [
    "#create a dataset solely to correlate pvi with the holder of the seat\n",
    "pure_118 = pvi_118[[\"metric\"]]\n",
    "pure_118.to_csv(\"/Users/xavier/Desktop/DSPP/solo_projects/redistricting_project/clean_data/pure_datasets/pure_118.csv\",index=False)\n",
    "#create a more detailed dataset for greater uses\n",
    "data_118 = pvi_118[[\"year\",\"congress\",\"ST\",\"ST#\",\"PVI\",\"metric\"]]\n",
    "data_118.to_csv(\"/Users/xavier/Desktop/DSPP/solo_projects/redistricting_project/clean_data/full_districts/data_118.csv\",index=False)"
   ]
  }
 ],
 "metadata": {
  "kernelspec": {
   "display_name": "Python 3",
   "language": "python",
   "name": "python3"
  },
  "language_info": {
   "codemirror_mode": {
    "name": "ipython",
    "version": 3
   },
   "file_extension": ".py",
   "mimetype": "text/x-python",
   "name": "python",
   "nbconvert_exporter": "python",
   "pygments_lexer": "ipython3",
   "version": "3.8.5"
  }
 },
 "nbformat": 4,
 "nbformat_minor": 4
}
