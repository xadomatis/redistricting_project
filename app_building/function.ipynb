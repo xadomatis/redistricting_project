{
 "cells": [
  {
   "cell_type": "code",
   "execution_count": 1,
   "metadata": {},
   "outputs": [],
   "source": [
    "import pandas as pd\n",
    "import numpy as np\n",
    "import altair as alt"
   ]
  },
  {
   "cell_type": "code",
   "execution_count": 2,
   "metadata": {},
   "outputs": [],
   "source": [
    "hexagon = \"M0,-2.3094010768L2,-1.1547005384 2,1.1547005384 0,2.3094010768 -2,1.1547005384 -2,-1.1547005384Z\""
   ]
  },
  {
   "cell_type": "code",
   "execution_count": 3,
   "metadata": {},
   "outputs": [],
   "source": [
    "converter = \"/Users/xavier/Desktop/DSPP/solo_projects/redistricting_project/app_building/app_data/converter.csv\"\n",
    "state_data = \"/Users/xavier/Desktop/DSPP/solo_projects/redistricting_project/app_building/app_data/state_data.csv\"\n",
    "state_coords = \"/Users/xavier/Desktop/DSPP/solo_projects/redistricting_project/app_building/app_data/cartogram_coords.csv\"\n",
    "hourglass_coords = \"/Users/xavier/Desktop/DSPP/solo_projects/redistricting_project/app_building/app_data/hourglass_coords.csv\"\n",
    "district_data = \"/Users/xavier/Desktop/DSPP/solo_projects/redistricting_project/app_building/app_data/district_data.csv\""
   ]
  },
  {
   "cell_type": "code",
   "execution_count": 4,
   "metadata": {},
   "outputs": [],
   "source": [
    "cv = pd.read_csv(converter)\n",
    "st = pd.read_csv(state_data)\n",
    "sc = pd.read_csv(state_coords)\n",
    "hc = pd.read_csv(hourglass_coords)\n",
    "dd = pd.read_csv(district_data)"
   ]
  },
  {
   "cell_type": "code",
   "execution_count": 5,
   "metadata": {},
   "outputs": [],
   "source": [
    "#create a function to change the probabilities based on a partisan wave\n",
    "\n",
    "def call_wave(wave):\n",
    "    '''Call a model by function name (to be used within a larger function)\n",
    "    \n",
    "    Args:\n",
    "        A string that refers to the model name. Options are Linear SVC, SVC, and Logistic Regression \n",
    "    \n",
    "    Returns:\n",
    "        A model as a function for later use\n",
    "    '''\n",
    "    #create an if/else to identify the possible models\n",
    "    if wave == \"Republican\":\n",
    "        col = cv[\"logit_red\"]\n",
    "    elif wave == \"Democratic\":\n",
    "        col = cv[\"logit_blue\"]\n",
    "    #return a string if it fails- it will block the function from applying\n",
    "    else:\n",
    "        col = cv[\"logit_all\"]\n",
    "    index = cv[[\"metric\"]]\n",
    "    index[\"prob\"] = col\n",
    "    return index"
   ]
  },
  {
   "cell_type": "code",
   "execution_count": 6,
   "metadata": {},
   "outputs": [],
   "source": [
    "st = st.merge(sc, how=\"left\")"
   ]
  },
  {
   "cell_type": "markdown",
   "metadata": {},
   "source": [
    "## Create the Function"
   ]
  },
  {
   "cell_type": "code",
   "execution_count": 7,
   "metadata": {},
   "outputs": [],
   "source": [
    "def get_viz(year,wave,chart):\n",
    "    #build out the chart\n",
    "    df = st[st[\"year\"] == year]\n",
    "    df[\"ST\"] = df[\"ST\"]\n",
    "    #state cartogram\n",
    "    #build the chart\n",
    "    st_cart = alt.Chart(df).mark_point().encode(\n",
    "        alt.X('X',axis=None),\n",
    "        alt.Y('Y',axis=None),\n",
    "        alt.Text('ST'),\n",
    "        alt.Color('porp_loss', scale=alt.Scale(scheme='redblue'), legend=alt.Legend(title=\"Porportion not Represented\")),\n",
    "        tooltip = [alt.Tooltip('porp_text',title='Porportion Lost'),\n",
    "                   alt.Tooltip('dist_text',title='District Deficit')\n",
    "                  ]\n",
    "    )\n",
    "    #inser labels\n",
    "    st_cart_labs = alt.Chart(df).mark_text(align='center').encode(\n",
    "        alt.X('X'),\n",
    "        alt.Y('Y'),\n",
    "        alt.Text('ST'),\n",
    "    ).properties(title='Severity of Partisan Misrepresentation')\n",
    "    #display\n",
    "    cart = alt.layer(st_cart, st_cart_labs).configure_axis(grid=False).configure_view(strokeWidth=0).configure_point(size=250,shape=hexagon,filled=True)\n",
    "    #create a bubble chart\n",
    "    selection = alt.selection_single();\n",
    "    bubble = alt.Chart(df).mark_point(filled=True).encode(\n",
    "        alt.X('metric', scale=alt.Scale(zero=False), title='Porportion Republican'),\n",
    "        alt.Y('porp_loss', scale=alt.Scale(zero=False), title='Porportion of Population not Represented'),\n",
    "        alt.Size('dist_loss', legend=alt.Legend(title=\"Amount of Seats Effected\")),\n",
    "        alt.Order('dist_loss', sort='descending'),\n",
    "        alt.Color('porp_loss', scale=alt.Scale(scheme='redblue'), legend=alt.Legend(title=\"Porportion not Represented\")),\n",
    "        tooltip = [alt.Tooltip('ST',title='State'),\n",
    "                   alt.Tooltip('porp_text',title='Porportion Lost'),\n",
    "                   alt.Tooltip('dist_text',title='District Deficit')\n",
    "                  ]\n",
    "    ).add_selection(selection).properties(title='Severity of Partisan Misrepresentation')\n",
    "    #set up for wave sensitive results\n",
    "    conv = call_wave(wave)\n",
    "    dist = dd[dd[\"year\"] == year]\n",
    "    dist = dist.merge(conv, how=\"left\")\n",
    "    #create the amounts chart for the Majority Bar\n",
    "    amounts = pd.DataFrame(dist.prob.value_counts()).reset_index()\n",
    "    amounts.columns = [\"prob_GOP\",\"num_dist\"]\n",
    "    amounts[\"quantity\"] = amounts[\"prob_GOP\"] * amounts[\"num_dist\"]\n",
    "    expec_GOP = amounts[\"quantity\"].sum()\n",
    "    expec_dem = 435 - expec_GOP\n",
    "    d = {'Expected Seats' : [expec_dem, expec_GOP], 'Party' : [\"Dem\",\"GOP\"]}\n",
    "    expec = pd.DataFrame(data = d, index=None)\n",
    "    #output an associated phrase\n",
    "    party_control = str(np.where(expec_GOP > expec_dem, \"Republicans\", \"Democrats\"))\n",
    "    num = np.where(expec_GOP > expec_dem, expec_GOP, expec_dem)\n",
    "    num_seats = str(num.round())\n",
    "    phrase = party_control + \" are expected to control the house with a majority of \" + num_seats.rstrip(\".0\")  + \" seats\"\n",
    "    #output majority control chart\n",
    "    cd_scale = [0,50,100,150,175,200,218,235,260,285,335,385,435]\n",
    "    maj = alt.Chart(expec).mark_bar().encode(\n",
    "        alt.X('sum(Expected Seats)',axis=alt.Axis(values=cd_scale),title=\"Expected Partisan Control\"),\n",
    "        alt.Color('Party', scale=alt.Scale(range=[\"blue\",\"red\"]))\n",
    "    ).properties(title=phrase)\n",
    "    #format data for median seat chart\n",
    "    dist = dist.sort_values(\"metric\",ascending=False).reset_index()\n",
    "    dist[\"X\"] = hc[\"X\"]\n",
    "    dist[\"Y\"] = hc[\"Y\"]\n",
    "    hg = alt.Chart(dist).mark_point().encode(\n",
    "        alt.X('X',axis=None),\n",
    "        alt.Y('Y',axis=None),\n",
    "        #alt.Text('ST'),\n",
    "        alt.Color('prob', scale=alt.Scale(range=[\"darkblue\",\"blue\",\"grey\",\"red\",\"darkred\"]), legend=alt.Legend(title=\"Probability of GOP Representation\")),\n",
    "        tooltip = [alt.Tooltip('ST#',title='District'),\n",
    "                   alt.Tooltip('PVI',title='PVI'),\n",
    "                   alt.Tooltip('prob',title='Prob GOP'),\n",
    "                  ]\n",
    "    ).configure_point(size=15,shape=hexagon,filled=True).configure_view(strokeWidth=0)\n",
    "    if chart == \"Cartogram\":\n",
    "        return cart\n",
    "    elif chart == \"Bubble\":\n",
    "        return bubble\n",
    "    elif chart == \"Median\":\n",
    "        return hg\n",
    "    else:\n",
    "        return maj"
   ]
  },
  {
   "cell_type": "code",
   "execution_count": 8,
   "metadata": {},
   "outputs": [
    {
     "name": "stderr",
     "output_type": "stream",
     "text": [
      "<ipython-input-7-4d04154a63e7>:4: SettingWithCopyWarning: \n",
      "A value is trying to be set on a copy of a slice from a DataFrame.\n",
      "Try using .loc[row_indexer,col_indexer] = value instead\n",
      "\n",
      "See the caveats in the documentation: https://pandas.pydata.org/pandas-docs/stable/user_guide/indexing.html#returning-a-view-versus-a-copy\n",
      "  df[\"ST\"] = df[\"ST\"]\n",
      "<ipython-input-5-56a58d351697>:21: SettingWithCopyWarning: \n",
      "A value is trying to be set on a copy of a slice from a DataFrame.\n",
      "Try using .loc[row_indexer,col_indexer] = value instead\n",
      "\n",
      "See the caveats in the documentation: https://pandas.pydata.org/pandas-docs/stable/user_guide/indexing.html#returning-a-view-versus-a-copy\n",
      "  index[\"prob\"] = col\n"
     ]
    },
    {
     "data": {
      "text/html": [
       "\n",
       "<div id=\"altair-viz-86734c0f90b7481aa370cf4b6784f981\"></div>\n",
       "<script type=\"text/javascript\">\n",
       "  var VEGA_DEBUG = (typeof VEGA_DEBUG == \"undefined\") ? {} : VEGA_DEBUG;\n",
       "  (function(spec, embedOpt){\n",
       "    let outputDiv = document.currentScript.previousElementSibling;\n",
       "    if (outputDiv.id !== \"altair-viz-86734c0f90b7481aa370cf4b6784f981\") {\n",
       "      outputDiv = document.getElementById(\"altair-viz-86734c0f90b7481aa370cf4b6784f981\");\n",
       "    }\n",
       "    const paths = {\n",
       "      \"vega\": \"https://cdn.jsdelivr.net/npm//vega@5?noext\",\n",
       "      \"vega-lib\": \"https://cdn.jsdelivr.net/npm//vega-lib?noext\",\n",
       "      \"vega-lite\": \"https://cdn.jsdelivr.net/npm//vega-lite@4.17.0?noext\",\n",
       "      \"vega-embed\": \"https://cdn.jsdelivr.net/npm//vega-embed@6?noext\",\n",
       "    };\n",
       "\n",
       "    function maybeLoadScript(lib, version) {\n",
       "      var key = `${lib.replace(\"-\", \"\")}_version`;\n",
       "      return (VEGA_DEBUG[key] == version) ?\n",
       "        Promise.resolve(paths[lib]) :\n",
       "        new Promise(function(resolve, reject) {\n",
       "          var s = document.createElement('script');\n",
       "          document.getElementsByTagName(\"head\")[0].appendChild(s);\n",
       "          s.async = true;\n",
       "          s.onload = () => {\n",
       "            VEGA_DEBUG[key] = version;\n",
       "            return resolve(paths[lib]);\n",
       "          };\n",
       "          s.onerror = () => reject(`Error loading script: ${paths[lib]}`);\n",
       "          s.src = paths[lib];\n",
       "        });\n",
       "    }\n",
       "\n",
       "    function showError(err) {\n",
       "      outputDiv.innerHTML = `<div class=\"error\" style=\"color:red;\">${err}</div>`;\n",
       "      throw err;\n",
       "    }\n",
       "\n",
       "    function displayChart(vegaEmbed) {\n",
       "      vegaEmbed(outputDiv, spec, embedOpt)\n",
       "        .catch(err => showError(`Javascript Error: ${err.message}<br>This usually means there's a typo in your chart specification. See the javascript console for the full traceback.`));\n",
       "    }\n",
       "\n",
       "    if(typeof define === \"function\" && define.amd) {\n",
       "      requirejs.config({paths});\n",
       "      require([\"vega-embed\"], displayChart, err => showError(`Error loading script: ${err.message}`));\n",
       "    } else {\n",
       "      maybeLoadScript(\"vega\", \"5\")\n",
       "        .then(() => maybeLoadScript(\"vega-lite\", \"4.17.0\"))\n",
       "        .then(() => maybeLoadScript(\"vega-embed\", \"6\"))\n",
       "        .catch(showError)\n",
       "        .then(() => displayChart(vegaEmbed));\n",
       "    }\n",
       "  })({\"config\": {\"view\": {\"continuousWidth\": 400, \"continuousHeight\": 300, \"strokeWidth\": 0}, \"axis\": {\"grid\": false}, \"point\": {\"filled\": true, \"shape\": \"M0,-2.3094010768L2,-1.1547005384 2,1.1547005384 0,2.3094010768 -2,1.1547005384 -2,-1.1547005384Z\", \"size\": 250}}, \"layer\": [{\"mark\": \"point\", \"encoding\": {\"color\": {\"field\": \"porp_loss\", \"legend\": {\"title\": \"Porportion not Represented\"}, \"scale\": {\"scheme\": \"redblue\"}, \"type\": \"quantitative\"}, \"text\": {\"field\": \"ST\", \"type\": \"nominal\"}, \"tooltip\": [{\"field\": \"porp_text\", \"title\": \"Porportion Lost\", \"type\": \"nominal\"}, {\"field\": \"dist_text\", \"title\": \"District Deficit\", \"type\": \"nominal\"}], \"x\": {\"axis\": null, \"field\": \"X\", \"type\": \"quantitative\"}, \"y\": {\"axis\": null, \"field\": \"Y\", \"type\": \"quantitative\"}}}, {\"mark\": {\"type\": \"text\", \"align\": \"center\"}, \"encoding\": {\"text\": {\"field\": \"ST\", \"type\": \"nominal\"}, \"x\": {\"field\": \"X\", \"type\": \"quantitative\"}, \"y\": {\"field\": \"Y\", \"type\": \"quantitative\"}}, \"title\": \"Severity of Partisan Misrepresentation\"}], \"data\": {\"name\": \"data-806e8a8c02b05819747b2dd9f82814bb\"}, \"$schema\": \"https://vega.github.io/schema/vega-lite/v4.17.0.json\", \"datasets\": {\"data-806e8a8c02b05819747b2dd9f82814bb\": [{\"year\": 2022, \"ST\": \"AL\", \"PVI\": \"R+15\", \"metric\": 0.65, \"dist_loss\": -1.2219932478582436, \"porp_loss\": -0.1745704639797491, \"porp_text\": \"17% Excluded, Against Dems\", \"dist_text\": \"1.22 Dem Districts Lost\", \"lean\": \"Dems Excluded\", \"State\": \"Alabama\", \"congress\": 118, \"Period\": \"118th Congress (2022)\", \"event\": \"2022 Redistricting\", \"dist_loss_agg\": -31.02218833176753, \"dist_loss_net\": 1.5820695792560349, \"status\": \"Multi District\", \"state\": \"Alabama\", \"Y\": -6, \"X\": 7.5}, {\"year\": 2022, \"ST\": \"AK\", \"PVI\": \"R+9\", \"metric\": 0.59, \"dist_loss\": -0.36350877192982456, \"porp_loss\": -0.36350877192982456, \"porp_text\": \"36% Excluded, Against Dems\", \"dist_text\": \"0.36 Dem Districts Lost\", \"lean\": \"Dems Excluded\", \"State\": \"Alaska\", \"congress\": 118, \"Period\": \"118th Congress (2022)\", \"event\": \"2022 Redistricting\", \"dist_loss_agg\": -31.02218833176753, \"dist_loss_net\": 1.5820695792560349, \"status\": \"Single District\", \"state\": \"Alaska\", \"Y\": 0, \"X\": 0.5}, {\"year\": 2022, \"ST\": \"AZ\", \"PVI\": \"R+3\", \"metric\": 0.53, \"dist_loss\": -0.5895452316773486, \"porp_loss\": -0.06550502574192762, \"porp_text\": \"7% Excluded, Against Dems\", \"dist_text\": \"0.59 Dem Districts Lost\", \"lean\": \"Dems Excluded\", \"State\": \"Arizona\", \"congress\": 118, \"Period\": \"118th Congress (2022)\", \"event\": \"2022 Redistricting\", \"dist_loss_agg\": -31.02218833176753, \"dist_loss_net\": 1.5820695792560349, \"status\": \"Multi District\", \"state\": \"Arizona\", \"Y\": -5, \"X\": 3.0}, {\"year\": 2022, \"ST\": \"AR\", \"PVI\": \"R+16\", \"metric\": 0.66, \"dist_loss\": -1.2205263157894737, \"porp_loss\": -0.3051315789473684, \"porp_text\": \"31% Excluded, Against Dems\", \"dist_text\": \"1.22 Dem Districts Lost\", \"lean\": \"Dems Excluded\", \"State\": \"Arkansas\", \"congress\": 118, \"Period\": \"118th Congress (2022)\", \"event\": \"2022 Redistricting\", \"dist_loss_agg\": -31.02218833176753, \"dist_loss_net\": 1.5820695792560349, \"status\": \"Multi District\", \"state\": \"Arkansas\", \"Y\": -5, \"X\": 6.0}, {\"year\": 2022, \"ST\": \"FL\", \"PVI\": \"R+3\", \"metric\": 0.53, \"dist_loss\": -2.7932615086171144, \"porp_loss\": -0.09975933959346836, \"porp_text\": \"10% Excluded, Against Dems\", \"dist_text\": \"2.79 Dem Districts Lost\", \"lean\": \"Dems Excluded\", \"State\": \"Florida\", \"congress\": 118, \"Period\": \"118th Congress (2022)\", \"event\": \"2022 Redistricting\", \"dist_loss_agg\": -31.02218833176753, \"dist_loss_net\": 1.5820695792560349, \"status\": \"Multi District\", \"state\": \"Florida\", \"Y\": -8, \"X\": 8.5}, {\"year\": 2022, \"ST\": \"GA\", \"PVI\": \"R+3\", \"metric\": 0.53, \"dist_loss\": -1.5125319184784567, \"porp_loss\": -0.10803799417703264, \"porp_text\": \"11% Excluded, Against Dems\", \"dist_text\": \"1.51 Dem Districts Lost\", \"lean\": \"Dems Excluded\", \"State\": \"Georgia\", \"congress\": 118, \"Period\": \"118th Congress (2022)\", \"event\": \"2022 Redistricting\", \"dist_loss_agg\": -31.02218833176753, \"dist_loss_net\": 1.5820695792560349, \"status\": \"Multi District\", \"state\": \"Georgia\", \"Y\": -7, \"X\": 8.0}, {\"year\": 2022, \"ST\": \"ID\", \"PVI\": \"R+19\", \"metric\": 0.69, \"dist_loss\": -0.5735087719298246, \"porp_loss\": -0.2867543859649123, \"porp_text\": \"28% Excluded, Against Dems\", \"dist_text\": \"0.57 Dem Districts Lost\", \"lean\": \"Dems Excluded\", \"State\": \"Idaho\", \"congress\": 118, \"Period\": \"118th Congress (2022)\", \"event\": \"2022 Redistricting\", \"dist_loss_agg\": -31.02218833176753, \"dist_loss_net\": 1.5820695792560349, \"status\": \"Multi District\", \"state\": \"Idaho\", \"Y\": -3, \"X\": 2.0}, {\"year\": 2022, \"ST\": \"IN\", \"PVI\": \"R+11\", \"metric\": 0.61, \"dist_loss\": -1.3765107917178918, \"porp_loss\": -0.1529456435242102, \"porp_text\": \"15% Excluded, Against Dems\", \"dist_text\": \"1.38 Dem Districts Lost\", \"lean\": \"Dems Excluded\", \"State\": \"Indiana\", \"congress\": 118, \"Period\": \"118th Congress (2022)\", \"event\": \"2022 Redistricting\", \"dist_loss_agg\": -31.02218833176753, \"dist_loss_net\": 1.5820695792560349, \"status\": \"Multi District\", \"state\": \"Indiana\", \"Y\": -3, \"X\": 7.0}, {\"year\": 2022, \"ST\": \"IA\", \"PVI\": \"R+6\", \"metric\": 0.56, \"dist_loss\": -0.8788436836394036, \"porp_loss\": -0.2197109209098509, \"porp_text\": \"22% Excluded, Against Dems\", \"dist_text\": \"0.88 Dem Districts Lost\", \"lean\": \"Dems Excluded\", \"State\": \"Iowa\", \"congress\": 118, \"Period\": \"118th Congress (2022)\", \"event\": \"2022 Redistricting\", \"dist_loss_agg\": -31.02218833176753, \"dist_loss_net\": 1.5820695792560349, \"status\": \"Multi District\", \"state\": \"Iowa\", \"Y\": -3, \"X\": 5.0}, {\"year\": 2022, \"ST\": \"KS\", \"PVI\": \"R+11\", \"metric\": 0.61, \"dist_loss\": -1.0743724696356276, \"porp_loss\": -0.2685931174089069, \"porp_text\": \"27% Excluded, Against Dems\", \"dist_text\": \"1.07 Dem Districts Lost\", \"lean\": \"Dems Excluded\", \"State\": \"Kansas\", \"congress\": 118, \"Period\": \"118th Congress (2022)\", \"event\": \"2022 Redistricting\", \"dist_loss_agg\": -31.02218833176753, \"dist_loss_net\": 1.5820695792560349, \"status\": \"Multi District\", \"state\": \"Kansas\", \"Y\": -5, \"X\": 5.0}, {\"year\": 2022, \"ST\": \"KY\", \"PVI\": \"R+16\", \"metric\": 0.66, \"dist_loss\": -0.7608591972621399, \"porp_loss\": -0.12680986621035664, \"porp_text\": \"13% Excluded, Against Dems\", \"dist_text\": \"0.76 Dem Districts Lost\", \"lean\": \"Dems Excluded\", \"State\": \"Kentucky\", \"congress\": 118, \"Period\": \"118th Congress (2022)\", \"event\": \"2022 Redistricting\", \"dist_loss_agg\": -31.02218833176753, \"dist_loss_net\": 1.5820695792560349, \"status\": \"Multi District\", \"state\": \"Kentucky\", \"Y\": -4, \"X\": 6.5}, {\"year\": 2022, \"ST\": \"LA\", \"PVI\": \"R+12\", \"metric\": 0.62, \"dist_loss\": -1.144975703998595, \"porp_loss\": -0.19082928399976584, \"porp_text\": \"19% Excluded, Against Dems\", \"dist_text\": \"1.14 Dem Districts Lost\", \"lean\": \"Dems Excluded\", \"State\": \"Louisiana\", \"congress\": 118, \"Period\": \"118th Congress (2022)\", \"event\": \"2022 Redistricting\", \"dist_loss_agg\": -31.02218833176753, \"dist_loss_net\": 1.5820695792560349, \"status\": \"Multi District\", \"state\": \"Louisiana\", \"Y\": -6, \"X\": 5.5}, {\"year\": 2022, \"ST\": \"MI\", \"PVI\": \"R+1\", \"metric\": 0.51, \"dist_loss\": -0.35618417828744603, \"porp_loss\": -0.02739878294518816, \"porp_text\": \"3% Excluded, Against Dems\", \"dist_text\": \"0.36 Dem Districts Lost\", \"lean\": \"Dems Excluded\", \"State\": \"Michigan\", \"congress\": 118, \"Period\": \"118th Congress (2022)\", \"event\": \"2022 Redistricting\", \"dist_loss_agg\": -31.02218833176753, \"dist_loss_net\": 1.5820695792560349, \"status\": \"Multi District\", \"state\": \"Michigan\", \"Y\": -2, \"X\": 7.5}, {\"year\": 2022, \"ST\": \"MN\", \"PVI\": \"D+1\", \"metric\": 0.49, \"dist_loss\": -0.3455094875798101, \"porp_loss\": -0.04318868594747627, \"porp_text\": \"4% Excluded, Against Dems\", \"dist_text\": \"0.35 Dem Districts Lost\", \"lean\": \"Dems Excluded\", \"State\": \"Minnesota\", \"congress\": 118, \"Period\": \"118th Congress (2022)\", \"event\": \"2022 Redistricting\", \"dist_loss_agg\": -31.02218833176753, \"dist_loss_net\": 1.5820695792560349, \"status\": \"Multi District\", \"state\": \"Minnesota\", \"Y\": -2, \"X\": 4.5}, {\"year\": 2022, \"ST\": \"MS\", \"PVI\": \"R+10\", \"metric\": 0.6, \"dist_loss\": -0.5114669320687706, \"porp_loss\": -0.12786673301719265, \"porp_text\": \"13% Excluded, Against Dems\", \"dist_text\": \"0.51 Dem Districts Lost\", \"lean\": \"Dems Excluded\", \"State\": \"Mississippi\", \"congress\": 118, \"Period\": \"118th Congress (2022)\", \"event\": \"2022 Redistricting\", \"dist_loss_agg\": -31.02218833176753, \"dist_loss_net\": 1.5820695792560349, \"status\": \"Multi District\", \"state\": \"Mississippi\", \"Y\": -6, \"X\": 6.5}, {\"year\": 2022, \"ST\": \"MO\", \"PVI\": \"R+11\", \"metric\": 0.61, \"dist_loss\": -1.0314669320687695, \"porp_loss\": -0.1289333665085962, \"porp_text\": \"13% Excluded, Against Dems\", \"dist_text\": \"1.03 Dem Districts Lost\", \"lean\": \"Dems Excluded\", \"State\": \"Missouri (Anticipated)\", \"congress\": 118, \"Period\": \"118th Congress (2022)\", \"event\": \"2022 Redistricting\", \"dist_loss_agg\": -31.02218833176753, \"dist_loss_net\": 1.5820695792560349, \"status\": \"Multi District\", \"state\": \"Missouri\", \"Y\": -4, \"X\": 5.5}, {\"year\": 2022, \"ST\": \"MT\", \"PVI\": \"R+11\", \"metric\": 0.61, \"dist_loss\": -0.5429010371231946, \"porp_loss\": -0.2714505185615973, \"porp_text\": \"27% Excluded, Against Dems\", \"dist_text\": \"0.54 Dem Districts Lost\", \"lean\": \"Dems Excluded\", \"State\": \"Montana\", \"congress\": 118, \"Period\": \"118th Congress (2022)\", \"event\": \"2022 Redistricting\", \"dist_loss_agg\": -31.02218833176753, \"dist_loss_net\": 1.5820695792560349, \"status\": \"Multi District\", \"state\": \"Montana\", \"Y\": -2, \"X\": 2.5}, {\"year\": 2022, \"ST\": \"NE\", \"PVI\": \"R+13\", \"metric\": 0.63, \"dist_loss\": -0.4659477963200685, \"porp_loss\": -0.15531593210668948, \"porp_text\": \"16% Excluded, Against Dems\", \"dist_text\": \"0.47 Dem Districts Lost\", \"lean\": \"Dems Excluded\", \"State\": \"Nebraska\\u00a0\", \"congress\": 118, \"Period\": \"118th Congress (2022)\", \"event\": \"2022 Redistricting\", \"dist_loss_agg\": -31.02218833176753, \"dist_loss_net\": 1.5820695792560349, \"status\": \"Multi District\", \"state\": \"Nebraska\\u00a0\", \"Y\": -4, \"X\": 4.5}, {\"year\": 2022, \"ST\": \"NC\", \"PVI\": \"R+3\", \"metric\": 0.53, \"dist_loss\": -0.3827986289001021, \"porp_loss\": -0.027342759207150145, \"porp_text\": \"3% Excluded, Against Dems\", \"dist_text\": \"0.38 Dem Districts Lost\", \"lean\": \"Dems Excluded\", \"State\": \"North Carolina\\u00a0\", \"congress\": 118, \"Period\": \"118th Congress (2022)\", \"event\": \"2022 Redistricting\", \"dist_loss_agg\": -31.02218833176753, \"dist_loss_net\": 1.5820695792560349, \"status\": \"Multi District\", \"state\": \"North Carolina\\u00a0\", \"Y\": -5, \"X\": 9.0}, {\"year\": 2022, \"ST\": \"ND\", \"PVI\": \"R+20\", \"metric\": 0.7, \"dist_loss\": -0.2535087719298246, \"porp_loss\": -0.2535087719298246, \"porp_text\": \"25% Excluded, Against Dems\", \"dist_text\": \"0.25 Dem Districts Lost\", \"lean\": \"Dems Excluded\", \"State\": \"North Dakota\\u00a0\", \"congress\": 118, \"Period\": \"118th Congress (2022)\", \"event\": \"2022 Redistricting\", \"dist_loss_agg\": -31.02218833176753, \"dist_loss_net\": 1.5820695792560349, \"status\": \"Single District\", \"state\": \"North Dakota\\u00a0\", \"Y\": -2, \"X\": 3.5}, {\"year\": 2022, \"ST\": \"OH\", \"PVI\": \"R+6\", \"metric\": 0.56, \"dist_loss\": -2.2090893487534067, \"porp_loss\": -0.14727262325022716, \"porp_text\": \"15% Excluded, Against Dems\", \"dist_text\": \"2.21 Dem Districts Lost\", \"lean\": \"Dems Excluded\", \"State\": \"Ohio\\u00a0\", \"congress\": 118, \"Period\": \"118th Congress (2022)\", \"event\": \"2022 Redistricting\", \"dist_loss_agg\": -31.02218833176753, \"dist_loss_net\": 1.5820695792560349, \"status\": \"Multi District\", \"state\": \"Ohio\\u00a0\", \"Y\": -3, \"X\": 8.0}, {\"year\": 2022, \"ST\": \"OK\", \"PVI\": \"R+20\", \"metric\": 0.7, \"dist_loss\": -1.3605263157894738, \"porp_loss\": -0.27210526315789474, \"porp_text\": \"27% Excluded, Against Dems\", \"dist_text\": \"1.36 Dem Districts Lost\", \"lean\": \"Dems Excluded\", \"State\": \"Oklahoma\\u00a0\", \"congress\": 118, \"Period\": \"118th Congress (2022)\", \"event\": \"2022 Redistricting\", \"dist_loss_agg\": -31.02218833176753, \"dist_loss_net\": 1.5820695792560349, \"status\": \"Multi District\", \"state\": \"Oklahoma\\u00a0\", \"Y\": -6, \"X\": 4.5}, {\"year\": 2022, \"ST\": \"PA\", \"PVI\": \"R+2\", \"metric\": 0.52, \"dist_loss\": -0.32306776118606884, \"porp_loss\": -0.01900398595212169, \"porp_text\": \"2% Excluded, Against Dems\", \"dist_text\": \"0.32 Dem Districts Lost\", \"lean\": \"Dems Excluded\", \"State\": \"Pennsylvania\", \"congress\": 118, \"Period\": \"118th Congress (2022)\", \"event\": \"2022 Redistricting\", \"dist_loss_agg\": -31.02218833176753, \"dist_loss_net\": 1.5820695792560349, \"status\": \"Multi District\", \"state\": \"Pennsylvania\", \"Y\": -3, \"X\": 9.0}, {\"year\": 2022, \"ST\": \"SC\", \"PVI\": \"R+8\", \"metric\": 0.58, \"dist_loss\": -1.7119932478582438, \"porp_loss\": -0.2445704639797491, \"porp_text\": \"24% Excluded, Against Dems\", \"dist_text\": \"1.71 Dem Districts Lost\", \"lean\": \"Dems Excluded\", \"State\": \"South Carolina\\u00a0\", \"congress\": 118, \"Period\": \"118th Congress (2022)\", \"event\": \"2022 Redistricting\", \"dist_loss_agg\": -31.02218833176753, \"dist_loss_net\": 1.5820695792560349, \"status\": \"Multi District\", \"state\": \"South Carolina\\u00a0\", \"Y\": -6, \"X\": 8.5}, {\"year\": 2022, \"ST\": \"SD\", \"PVI\": \"R+16\", \"metric\": 0.66, \"dist_loss\": -0.2935087719298245, \"porp_loss\": -0.2935087719298245, \"porp_text\": \"28% Excluded, Against Dems\", \"dist_text\": \"0.29 Dem Districts Lost\", \"lean\": \"Dems Excluded\", \"State\": \"South Dakota\\u00a0\", \"congress\": 118, \"Period\": \"118th Congress (2022)\", \"event\": \"2022 Redistricting\", \"dist_loss_agg\": -31.02218833176753, \"dist_loss_net\": 1.5820695792560349, \"status\": \"Single District\", \"state\": \"South Dakota\\u00a0\", \"Y\": -3, \"X\": 4.0}, {\"year\": 2022, \"ST\": \"TN\", \"PVI\": \"R+14\", \"metric\": 0.64, \"dist_loss\": -2.0119932478582427, \"porp_loss\": -0.2235548053175825, \"porp_text\": \"22% Excluded, Against Dems\", \"dist_text\": \"2.01 Dem Districts Lost\", \"lean\": \"Dems Excluded\", \"State\": \"Tennessee\\u00a0\", \"congress\": 118, \"Period\": \"118th Congress (2022)\", \"event\": \"2022 Redistricting\", \"dist_loss_agg\": -31.02218833176753, \"dist_loss_net\": 1.5820695792560349, \"status\": \"Multi District\", \"state\": \"Tennessee\\u00a0\", \"Y\": -5, \"X\": 7.0}, {\"year\": 2022, \"ST\": \"TX\", \"PVI\": \"R+5\", \"metric\": 0.55, \"dist_loss\": -2.590638897165018, \"porp_loss\": -0.06817470782013206, \"porp_text\": \"7% Excluded, Against Dems\", \"dist_text\": \"2.59 Dem Districts Lost\", \"lean\": \"Dems Excluded\", \"State\": \"Texas\\u00a0\", \"congress\": 118, \"Period\": \"118th Congress (2022)\", \"event\": \"2022 Redistricting\", \"dist_loss_agg\": -31.02218833176753, \"dist_loss_net\": 1.5820695792560349, \"status\": \"Multi District\", \"state\": \"Texas\\u00a0\", \"Y\": -7, \"X\": 4.0}, {\"year\": 2022, \"ST\": \"UT\", \"PVI\": \"R+13\", \"metric\": 0.63, \"dist_loss\": -1.294035087719298, \"porp_loss\": -0.3235087719298245, \"porp_text\": \"32% Excluded, Against Dems\", \"dist_text\": \"1.29 Dem Districts Lost\", \"lean\": \"Dems Excluded\", \"State\": \"Utah\\u00a0\", \"congress\": 118, \"Period\": \"118th Congress (2022)\", \"event\": \"2022 Redistricting\", \"dist_loss_agg\": -31.02218833176753, \"dist_loss_net\": 1.5820695792560349, \"status\": \"Multi District\", \"state\": \"Utah\\u00a0\", \"Y\": -5, \"X\": 4.0}, {\"year\": 2022, \"ST\": \"WV\", \"PVI\": \"R+23\", \"metric\": 0.73, \"dist_loss\": -0.4470175438596491, \"porp_loss\": -0.22350877192982446, \"porp_text\": \"22% Excluded, Against Dems\", \"dist_text\": \"0.45 Dem Districts Lost\", \"lean\": \"Dems Excluded\", \"State\": \"West Virginia\\u00a0\", \"congress\": 118, \"Period\": \"118th Congress (2022)\", \"event\": \"2022 Redistricting\", \"dist_loss_agg\": -31.02218833176753, \"dist_loss_net\": 1.5820695792560349, \"status\": \"Multi District\", \"state\": \"West Virginia\\u00a0\", \"Y\": -4, \"X\": 7.5}, {\"year\": 2022, \"ST\": \"WI\", \"PVI\": \"R+2\", \"metric\": 0.52, \"dist_loss\": -1.1400967328363665, \"porp_loss\": -0.1425120916045458, \"porp_text\": \"14% Excluded, Against Dems\", \"dist_text\": \"1.14 Dem Districts Lost\", \"lean\": \"Dems Excluded\", \"State\": \"Wisconsin\\u00a0\", \"congress\": 118, \"Period\": \"118th Congress (2022)\", \"event\": \"2022 Redistricting\", \"dist_loss_agg\": -31.02218833176753, \"dist_loss_net\": 1.5820695792560349, \"status\": \"Multi District\", \"state\": \"Wisconsin\\u00a0\", \"Y\": -2, \"X\": 5.5}, {\"year\": 2022, \"ST\": \"WY\", \"PVI\": \"R+26\", \"metric\": 0.76, \"dist_loss\": -0.24, \"porp_loss\": -0.24, \"porp_text\": \"24% Excluded, Against Dems\", \"dist_text\": \"0.24 Dem Districts Lost\", \"lean\": \"Dems Excluded\", \"State\": \"Wyoming\", \"congress\": 118, \"Period\": \"118th Congress (2022)\", \"event\": \"2022 Redistricting\", \"dist_loss_agg\": -31.02218833176753, \"dist_loss_net\": 1.5820695792560349, \"status\": \"Single District\", \"state\": \"Wyoming\", \"Y\": -3, \"X\": 3.0}, {\"year\": 2022, \"ST\": \"CA\", \"PVI\": \"D+14\", \"metric\": 0.36, \"dist_loss\": 10.358931222532117, \"porp_loss\": 0.19921021581792533, \"porp_text\": \"20% Excluded, Against GOP\", \"dist_text\": \"10.36 GOP Districts Lost\", \"lean\": \"GOP Excluded\", \"State\": \"California\", \"congress\": 118, \"Period\": \"118th Congress (2022)\", \"event\": \"2022 Redistricting\", \"dist_loss_agg\": 32.60425791102355, \"dist_loss_net\": 1.5820695792560349, \"status\": \"Multi District\", \"state\": \"California\", \"Y\": -5, \"X\": 2.0}, {\"year\": 2022, \"ST\": \"CO\", \"PVI\": \"D+3\", \"metric\": 0.47, \"dist_loss\": 0.18933355307429656, \"porp_loss\": 0.02366669413428707, \"porp_text\": \"2% Excluded, Against GOP\", \"dist_text\": \"0.19 GOP Districts Lost\", \"lean\": \"GOP Excluded\", \"State\": \"Colorado\", \"congress\": 118, \"Period\": \"118th Congress (2022)\", \"event\": \"2022 Redistricting\", \"dist_loss_agg\": 32.60425791102355, \"dist_loss_net\": 1.5820695792560349, \"status\": \"Multi District\", \"state\": \"Colorado\", \"Y\": -4, \"X\": 3.5}, {\"year\": 2022, \"ST\": \"CT\", \"PVI\": \"D+7\", \"metric\": 0.43, \"dist_loss\": 1.4190958814819012, \"porp_loss\": 0.28381917629638026, \"porp_text\": \"28% Excluded, Against GOP\", \"dist_text\": \"1.42 GOP Districts Lost\", \"lean\": \"GOP Excluded\", \"State\": \"Connecticut\", \"congress\": 118, \"Period\": \"118th Congress (2022)\", \"event\": \"2022 Redistricting\", \"dist_loss_agg\": 32.60425791102355, \"dist_loss_net\": 1.5820695792560349, \"status\": \"Multi District\", \"state\": \"Connecticut\", \"Y\": -3, \"X\": 11.0}, {\"year\": 2022, \"ST\": \"DE\", \"PVI\": \"D+6\", \"metric\": 0.44, \"dist_loss\": 0.3954140127388535, \"porp_loss\": 0.3954140127388535, \"porp_text\": \"40% Excluded, Against GOP\", \"dist_text\": \"0.4 GOP Districts Lost\", \"lean\": \"GOP Excluded\", \"State\": \"Delaware\", \"congress\": 118, \"Period\": \"118th Congress (2022)\", \"event\": \"2022 Redistricting\", \"dist_loss_agg\": 32.60425791102355, \"dist_loss_net\": 1.5820695792560349, \"status\": \"Single District\", \"state\": \"Delaware\", \"Y\": -4, \"X\": 9.5}, {\"year\": 2022, \"ST\": \"HI\", \"PVI\": \"D+15\", \"metric\": 0.35, \"dist_loss\": 0.6911012235817575, \"porp_loss\": 0.3455506117908788, \"porp_text\": \"35% Excluded, Against GOP\", \"dist_text\": \"0.69 GOP Districts Lost\", \"lean\": \"GOP Excluded\", \"State\": \"Hawaii\", \"congress\": 118, \"Period\": \"118th Congress (2022)\", \"event\": \"2022 Redistricting\", \"dist_loss_agg\": 32.60425791102355, \"dist_loss_net\": 1.5820695792560349, \"status\": \"Multi District\", \"state\": \"Hawaii\", \"Y\": -8, \"X\": 0.5}, {\"year\": 2022, \"ST\": \"IL\", \"PVI\": \"D+7\", \"metric\": 0.43, \"dist_loss\": 3.1298605335811667, \"porp_loss\": 0.18410944315183334, \"porp_text\": \"18% Excluded, Against GOP\", \"dist_text\": \"3.13 GOP Districts Lost\", \"lean\": \"GOP Excluded\", \"State\": \"Illinois\", \"congress\": 118, \"Period\": \"118th Congress (2022)\", \"event\": \"2022 Redistricting\", \"dist_loss_agg\": 32.60425791102355, \"dist_loss_net\": 1.5820695792560349, \"status\": \"Multi District\", \"state\": \"Illinois\", \"Y\": -3, \"X\": 6.0}, {\"year\": 2022, \"ST\": \"ME\", \"PVI\": \"D+1\", \"metric\": 0.49, \"dist_loss\": 0.1661583465975086, \"porp_loss\": 0.0830791732987543, \"porp_text\": \"8% Excluded, Against GOP\", \"dist_text\": \"0.17 GOP Districts Lost\", \"lean\": \"GOP Excluded\", \"State\": \"Maine\", \"congress\": 118, \"Period\": \"118th Congress (2022)\", \"event\": \"2022 Redistricting\", \"dist_loss_agg\": 32.60425791102355, \"dist_loss_net\": 1.5820695792560349, \"status\": \"Multi District\", \"state\": \"Maine\", \"Y\": 0, \"X\": 11.5}, {\"year\": 2022, \"ST\": \"MD\", \"PVI\": \"D+14\", \"metric\": 0.36, \"dist_loss\": 1.5020387224553033, \"porp_loss\": 0.18775484030691286, \"porp_text\": \"19% Excluded, Against GOP\", \"dist_text\": \"1.5 GOP Districts Lost\", \"lean\": \"GOP Excluded\", \"State\": \"Maryland\", \"congress\": 118, \"Period\": \"118th Congress (2022)\", \"event\": \"2022 Redistricting\", \"dist_loss_agg\": 32.60425791102355, \"dist_loss_net\": 1.5820695792560349, \"status\": \"Multi District\", \"state\": \"Maryland\", \"Y\": -4, \"X\": 8.5}, {\"year\": 2022, \"ST\": \"MA\", \"PVI\": \"D+14\", \"metric\": 0.36, \"dist_loss\": 3.1642682952750047, \"porp_loss\": 0.3515853661416672, \"porp_text\": \"35% Excluded, Against GOP\", \"dist_text\": \"3.16 GOP Districts Lost\", \"lean\": \"GOP Excluded\", \"State\": \"Massachusetts\", \"congress\": 118, \"Period\": \"118th Congress (2022)\", \"event\": \"2022 Redistricting\", \"dist_loss_agg\": 32.60425791102355, \"dist_loss_net\": 1.5820695792560349, \"status\": \"Multi District\", \"state\": \"Massachusetts\", \"Y\": -2, \"X\": 10.5}, {\"year\": 2022, \"ST\": \"NV\", \"PVI\": \"R+0\", \"metric\": 0.5, \"dist_loss\": 0.20073929712969396, \"porp_loss\": 0.05018482428242349, \"porp_text\": \"5% Excluded, Against GOP\", \"dist_text\": \"0.2 GOP Districts Lost\", \"lean\": \"GOP Excluded\", \"State\": \"Nevada\\u00a0\", \"congress\": 118, \"Period\": \"118th Congress (2022)\", \"event\": \"2022 Redistricting\", \"dist_loss_agg\": 32.60425791102355, \"dist_loss_net\": 1.5820695792560349, \"status\": \"Multi District\", \"state\": \"Nevada\\u00a0\", \"Y\": -4, \"X\": 2.5}, {\"year\": 2022, \"ST\": \"NH\", \"PVI\": \"R+0\", \"metric\": 0.5, \"dist_loss\": 0.0694535878867677, \"porp_loss\": 0.03472679394338385, \"porp_text\": \"3% Excluded, Against GOP\", \"dist_text\": \"0.07 GOP Districts Lost\", \"lean\": \"GOP Excluded\", \"State\": \"New Hampshire\\u00a0 (Anticipated)\", \"congress\": 118, \"Period\": \"118th Congress (2022)\", \"event\": \"2022 Redistricting\", \"dist_loss_agg\": 32.60425791102355, \"dist_loss_net\": 1.5820695792560349, \"status\": \"Multi District\", \"state\": \"New Hampshire\\u00a0\", \"Y\": -1, \"X\": 11.0}, {\"year\": 2022, \"ST\": \"NJ\", \"PVI\": \"D+6\", \"metric\": 0.44, \"dist_loss\": 2.348358809161516, \"porp_loss\": 0.19569656743012634, \"porp_text\": \"20% Excluded, Against GOP\", \"dist_text\": \"2.35 GOP Districts Lost\", \"lean\": \"GOP Excluded\", \"State\": \"New Jersey\\u00a0\", \"congress\": 118, \"Period\": \"118th Congress (2022)\", \"event\": \"2022 Redistricting\", \"dist_loss_agg\": 32.60425791102355, \"dist_loss_net\": 1.5820695792560349, \"status\": \"Multi District\", \"state\": \"New Jersey\\u00a0\", \"Y\": -3, \"X\": 10.0}, {\"year\": 2022, \"ST\": \"NM\", \"PVI\": \"D+3\", \"metric\": 0.47, \"dist_loss\": 0.6640322580645159, \"porp_loss\": 0.22134408602150527, \"porp_text\": \"22% Excluded, Against GOP\", \"dist_text\": \"0.66 GOP Districts Lost\", \"lean\": \"GOP Excluded\", \"State\": \"New Mexico\\u00a0\", \"congress\": 118, \"Period\": \"118th Congress (2022)\", \"event\": \"2022 Redistricting\", \"dist_loss_agg\": 32.60425791102355, \"dist_loss_net\": 1.5820695792560349, \"status\": \"Multi District\", \"state\": \"New Mexico\\u00a0\", \"Y\": -6, \"X\": 3.5}, {\"year\": 2022, \"ST\": \"NY\", \"PVI\": \"D+10\", \"metric\": 0.4, \"dist_loss\": 4.820314170500672, \"porp_loss\": 0.18539669886541046, \"porp_text\": \"19% Excluded, Against GOP\", \"dist_text\": \"4.82 GOP Districts Lost\", \"lean\": \"GOP Excluded\", \"State\": \"New York\\u00a0\", \"congress\": 118, \"Period\": \"118th Congress (2022)\", \"event\": \"2022 Redistricting\", \"dist_loss_agg\": 32.60425791102355, \"dist_loss_net\": 1.5820695792560349, \"status\": \"Multi District\", \"state\": \"New York\\u00a0\", \"Y\": -2, \"X\": 9.5}, {\"year\": 2022, \"ST\": \"OR\", \"PVI\": \"D+6\", \"metric\": 0.44, \"dist_loss\": 0.9638827742325784, \"porp_loss\": 0.16064712903876308, \"porp_text\": \"16% Excluded, Against GOP\", \"dist_text\": \"0.96 GOP Districts Lost\", \"lean\": \"GOP Excluded\", \"State\": \"Oregon\\u00a0\", \"congress\": 118, \"Period\": \"118th Congress (2022)\", \"event\": \"2022 Redistricting\", \"dist_loss_agg\": 32.60425791102355, \"dist_loss_net\": 1.5820695792560349, \"status\": \"Multi District\", \"state\": \"Oregon\\u00a0\", \"Y\": -4, \"X\": 1.5}, {\"year\": 2022, \"ST\": \"RI\", \"PVI\": \"D+8\", \"metric\": 0.42, \"dist_loss\": 0.6480506117908788, \"porp_loss\": 0.3240253058954394, \"porp_text\": \"32% Excluded, Against GOP\", \"dist_text\": \"0.65 GOP Districts Lost\", \"lean\": \"GOP Excluded\", \"State\": \"Rhode Island\\u00a0\", \"congress\": 118, \"Period\": \"118th Congress (2022)\", \"event\": \"2022 Redistricting\", \"dist_loss_agg\": 32.60425791102355, \"dist_loss_net\": 1.5820695792560349, \"status\": \"Multi District\", \"state\": \"Rhode Island\\u00a0\", \"Y\": -2, \"X\": 11.5}, {\"year\": 2022, \"ST\": \"VT\", \"PVI\": \"D+15\", \"metric\": 0.35, \"dist_loss\": 0.3455506117908788, \"porp_loss\": 0.3455506117908788, \"porp_text\": \"35% Excluded, Against GOP\", \"dist_text\": \"0.35 GOP Districts Lost\", \"lean\": \"GOP Excluded\", \"State\": \"Vermont\\u00a0\", \"congress\": 118, \"Period\": \"118th Congress (2022)\", \"event\": \"2022 Redistricting\", \"dist_loss_agg\": 32.60425791102355, \"dist_loss_net\": 1.5820695792560349, \"status\": \"Single District\", \"state\": \"Vermont\\u00a0\", \"Y\": -1, \"X\": 10.0}, {\"year\": 2022, \"ST\": \"VA\", \"PVI\": \"D+2\", \"metric\": 0.48, \"dist_loss\": 0.5175716892863047, \"porp_loss\": 0.047051971753300434, \"porp_text\": \"5% Excluded, Against GOP\", \"dist_text\": \"0.52 GOP Districts Lost\", \"lean\": \"GOP Excluded\", \"State\": \"Virginia\\u00a0\", \"congress\": 118, \"Period\": \"118th Congress (2022)\", \"event\": \"2022 Redistricting\", \"dist_loss_agg\": 32.60425791102355, \"dist_loss_net\": 1.5820695792560349, \"status\": \"Multi District\", \"state\": \"Virginia\\u00a0\", \"Y\": -5, \"X\": 8.0}, {\"year\": 2022, \"ST\": \"WA\", \"PVI\": \"D+8\", \"metric\": 0.42, \"dist_loss\": 1.0101023098618391, \"porp_loss\": 0.10101023098618392, \"porp_text\": \"10% Excluded, Against GOP\", \"dist_text\": \"1.01 GOP Districts Lost\", \"lean\": \"GOP Excluded\", \"State\": \"Washington\\u00a0\", \"congress\": 118, \"Period\": \"118th Congress (2022)\", \"event\": \"2022 Redistricting\", \"dist_loss_agg\": 32.60425791102355, \"dist_loss_net\": 1.5820695792560349, \"status\": \"Multi District\", \"state\": \"Washington\\u00a0\", \"Y\": -2, \"X\": 1.5}]}}, {\"mode\": \"vega-lite\"});\n",
       "</script>"
      ],
      "text/plain": [
       "alt.LayerChart(...)"
      ]
     },
     "execution_count": 8,
     "metadata": {},
     "output_type": "execute_result"
    }
   ],
   "source": [
    "get_viz(2022,\"Democratic\",\"Cartogram\")"
   ]
  },
  {
   "cell_type": "code",
   "execution_count": 9,
   "metadata": {},
   "outputs": [
    {
     "ename": "KeyError",
     "evalue": "5",
     "output_type": "error",
     "traceback": [
      "\u001b[0;31m---------------------------------------------------------------------------\u001b[0m",
      "\u001b[0;31mKeyError\u001b[0m                                  Traceback (most recent call last)",
      "\u001b[0;32m~/opt/anaconda3/lib/python3.8/site-packages/pandas/core/indexes/base.py\u001b[0m in \u001b[0;36mget_loc\u001b[0;34m(self, key, method, tolerance)\u001b[0m\n\u001b[1;32m   2894\u001b[0m             \u001b[0;32mtry\u001b[0m\u001b[0;34m:\u001b[0m\u001b[0;34m\u001b[0m\u001b[0;34m\u001b[0m\u001b[0m\n\u001b[0;32m-> 2895\u001b[0;31m                 \u001b[0;32mreturn\u001b[0m \u001b[0mself\u001b[0m\u001b[0;34m.\u001b[0m\u001b[0m_engine\u001b[0m\u001b[0;34m.\u001b[0m\u001b[0mget_loc\u001b[0m\u001b[0;34m(\u001b[0m\u001b[0mcasted_key\u001b[0m\u001b[0;34m)\u001b[0m\u001b[0;34m\u001b[0m\u001b[0;34m\u001b[0m\u001b[0m\n\u001b[0m\u001b[1;32m   2896\u001b[0m             \u001b[0;32mexcept\u001b[0m \u001b[0mKeyError\u001b[0m \u001b[0;32mas\u001b[0m \u001b[0merr\u001b[0m\u001b[0;34m:\u001b[0m\u001b[0;34m\u001b[0m\u001b[0;34m\u001b[0m\u001b[0m\n",
      "\u001b[0;32mpandas/_libs/index.pyx\u001b[0m in \u001b[0;36mpandas._libs.index.IndexEngine.get_loc\u001b[0;34m()\u001b[0m\n",
      "\u001b[0;32mpandas/_libs/index.pyx\u001b[0m in \u001b[0;36mpandas._libs.index.IndexEngine.get_loc\u001b[0;34m()\u001b[0m\n",
      "\u001b[0;32mpandas/_libs/hashtable_class_helper.pxi\u001b[0m in \u001b[0;36mpandas._libs.hashtable.PyObjectHashTable.get_item\u001b[0;34m()\u001b[0m\n",
      "\u001b[0;32mpandas/_libs/hashtable_class_helper.pxi\u001b[0m in \u001b[0;36mpandas._libs.hashtable.PyObjectHashTable.get_item\u001b[0;34m()\u001b[0m\n",
      "\u001b[0;31mKeyError\u001b[0m: 5",
      "\nThe above exception was the direct cause of the following exception:\n",
      "\u001b[0;31mKeyError\u001b[0m                                  Traceback (most recent call last)",
      "\u001b[0;32m<ipython-input-9-a100312a965a>\u001b[0m in \u001b[0;36m<module>\u001b[0;34m\u001b[0m\n\u001b[0;32m----> 1\u001b[0;31m \u001b[0mcv\u001b[0m\u001b[0;34m[\u001b[0m\u001b[0;36m5\u001b[0m\u001b[0;34m]\u001b[0m\u001b[0;34m\u001b[0m\u001b[0;34m\u001b[0m\u001b[0m\n\u001b[0m",
      "\u001b[0;32m~/opt/anaconda3/lib/python3.8/site-packages/pandas/core/frame.py\u001b[0m in \u001b[0;36m__getitem__\u001b[0;34m(self, key)\u001b[0m\n\u001b[1;32m   2900\u001b[0m             \u001b[0;32mif\u001b[0m \u001b[0mself\u001b[0m\u001b[0;34m.\u001b[0m\u001b[0mcolumns\u001b[0m\u001b[0;34m.\u001b[0m\u001b[0mnlevels\u001b[0m \u001b[0;34m>\u001b[0m \u001b[0;36m1\u001b[0m\u001b[0;34m:\u001b[0m\u001b[0;34m\u001b[0m\u001b[0;34m\u001b[0m\u001b[0m\n\u001b[1;32m   2901\u001b[0m                 \u001b[0;32mreturn\u001b[0m \u001b[0mself\u001b[0m\u001b[0;34m.\u001b[0m\u001b[0m_getitem_multilevel\u001b[0m\u001b[0;34m(\u001b[0m\u001b[0mkey\u001b[0m\u001b[0;34m)\u001b[0m\u001b[0;34m\u001b[0m\u001b[0;34m\u001b[0m\u001b[0m\n\u001b[0;32m-> 2902\u001b[0;31m             \u001b[0mindexer\u001b[0m \u001b[0;34m=\u001b[0m \u001b[0mself\u001b[0m\u001b[0;34m.\u001b[0m\u001b[0mcolumns\u001b[0m\u001b[0;34m.\u001b[0m\u001b[0mget_loc\u001b[0m\u001b[0;34m(\u001b[0m\u001b[0mkey\u001b[0m\u001b[0;34m)\u001b[0m\u001b[0;34m\u001b[0m\u001b[0;34m\u001b[0m\u001b[0m\n\u001b[0m\u001b[1;32m   2903\u001b[0m             \u001b[0;32mif\u001b[0m \u001b[0mis_integer\u001b[0m\u001b[0;34m(\u001b[0m\u001b[0mindexer\u001b[0m\u001b[0;34m)\u001b[0m\u001b[0;34m:\u001b[0m\u001b[0;34m\u001b[0m\u001b[0;34m\u001b[0m\u001b[0m\n\u001b[1;32m   2904\u001b[0m                 \u001b[0mindexer\u001b[0m \u001b[0;34m=\u001b[0m \u001b[0;34m[\u001b[0m\u001b[0mindexer\u001b[0m\u001b[0;34m]\u001b[0m\u001b[0;34m\u001b[0m\u001b[0;34m\u001b[0m\u001b[0m\n",
      "\u001b[0;32m~/opt/anaconda3/lib/python3.8/site-packages/pandas/core/indexes/base.py\u001b[0m in \u001b[0;36mget_loc\u001b[0;34m(self, key, method, tolerance)\u001b[0m\n\u001b[1;32m   2895\u001b[0m                 \u001b[0;32mreturn\u001b[0m \u001b[0mself\u001b[0m\u001b[0;34m.\u001b[0m\u001b[0m_engine\u001b[0m\u001b[0;34m.\u001b[0m\u001b[0mget_loc\u001b[0m\u001b[0;34m(\u001b[0m\u001b[0mcasted_key\u001b[0m\u001b[0;34m)\u001b[0m\u001b[0;34m\u001b[0m\u001b[0;34m\u001b[0m\u001b[0m\n\u001b[1;32m   2896\u001b[0m             \u001b[0;32mexcept\u001b[0m \u001b[0mKeyError\u001b[0m \u001b[0;32mas\u001b[0m \u001b[0merr\u001b[0m\u001b[0;34m:\u001b[0m\u001b[0;34m\u001b[0m\u001b[0;34m\u001b[0m\u001b[0m\n\u001b[0;32m-> 2897\u001b[0;31m                 \u001b[0;32mraise\u001b[0m \u001b[0mKeyError\u001b[0m\u001b[0;34m(\u001b[0m\u001b[0mkey\u001b[0m\u001b[0;34m)\u001b[0m \u001b[0;32mfrom\u001b[0m \u001b[0merr\u001b[0m\u001b[0;34m\u001b[0m\u001b[0;34m\u001b[0m\u001b[0m\n\u001b[0m\u001b[1;32m   2898\u001b[0m \u001b[0;34m\u001b[0m\u001b[0m\n\u001b[1;32m   2899\u001b[0m         \u001b[0;32mif\u001b[0m \u001b[0mtolerance\u001b[0m \u001b[0;32mis\u001b[0m \u001b[0;32mnot\u001b[0m \u001b[0;32mNone\u001b[0m\u001b[0;34m:\u001b[0m\u001b[0;34m\u001b[0m\u001b[0;34m\u001b[0m\u001b[0m\n",
      "\u001b[0;31mKeyError\u001b[0m: 5"
     ]
    }
   ],
   "source": [
    "cv[5]"
   ]
  }
 ],
 "metadata": {
  "kernelspec": {
   "display_name": "Python 3",
   "language": "python",
   "name": "python3"
  },
  "language_info": {
   "codemirror_mode": {
    "name": "ipython",
    "version": 3
   },
   "file_extension": ".py",
   "mimetype": "text/x-python",
   "name": "python",
   "nbconvert_exporter": "python",
   "pygments_lexer": "ipython3",
   "version": "3.8.5"
  }
 },
 "nbformat": 4,
 "nbformat_minor": 4
}
