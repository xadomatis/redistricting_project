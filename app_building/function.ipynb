{
 "cells": [
  {
   "cell_type": "code",
   "execution_count": 1,
   "metadata": {},
   "outputs": [],
   "source": [
    "import pandas as pd\n",
    "import numpy as np\n",
    "import altair as alt"
   ]
  },
  {
   "cell_type": "code",
   "execution_count": 2,
   "metadata": {},
   "outputs": [],
   "source": [
    "hexagon = \"M0,-2.3094010768L2,-1.1547005384 2,1.1547005384 0,2.3094010768 -2,1.1547005384 -2,-1.1547005384Z\""
   ]
  },
  {
   "cell_type": "code",
   "execution_count": 3,
   "metadata": {},
   "outputs": [],
   "source": [
    "converter = \"/Users/xavier/Desktop/DSPP/solo_projects/redistricting_project/app_building/app_data/converter.csv\"\n",
    "state_data = \"/Users/xavier/Desktop/DSPP/solo_projects/redistricting_project/app_building/app_data/state_data.csv\"\n",
    "state_coords = \"/Users/xavier/Desktop/DSPP/solo_projects/redistricting_project/app_building/app_data/cartogram_coords.csv\"\n",
    "hourglass_coords = \"/Users/xavier/Desktop/DSPP/solo_projects/redistricting_project/app_building/app_data/hourglass_coords.csv\"\n",
    "district_data = \"/Users/xavier/Desktop/DSPP/solo_projects/redistricting_project/app_building/app_data/district_data.csv\""
   ]
  },
  {
   "cell_type": "code",
   "execution_count": 4,
   "metadata": {},
   "outputs": [],
   "source": [
    "cv = pd.read_csv(converter)\n",
    "st = pd.read_csv(state_data)\n",
    "sc = pd.read_csv(state_coords)\n",
    "hc = pd.read_csv(hourglass_coords)\n",
    "dd = pd.read_csv(district_data)"
   ]
  },
  {
   "cell_type": "code",
   "execution_count": 5,
   "metadata": {},
   "outputs": [],
   "source": [
    "#create a function to change the probabilities based on a partisan wave\n",
    "\n",
    "def call_wave(wave):\n",
    "    '''Call a model by function name (to be used within a larger function)\n",
    "    \n",
    "    Args:\n",
    "        A string that refers to the model name. Options are Linear SVC, SVC, and Logistic Regression \n",
    "    \n",
    "    Returns:\n",
    "        A model as a function for later use\n",
    "    '''\n",
    "    #create an if/else to identify the possible models\n",
    "    if wave == \"Republican\":\n",
    "        col = cv[\"logit_red\"]\n",
    "    elif wave == \"Democratic\":\n",
    "        col = cv[\"logit_blue\"]\n",
    "    #return a string if it fails- it will block the function from applying\n",
    "    else:\n",
    "        col = cv[\"logit_all\"]\n",
    "    index = cv[[\"metric\"]]\n",
    "    index[\"prob\"] = col\n",
    "    return index"
   ]
  },
  {
   "cell_type": "code",
   "execution_count": 6,
   "metadata": {},
   "outputs": [],
   "source": [
    "st = st.merge(sc, how=\"left\")"
   ]
  },
  {
   "cell_type": "markdown",
   "metadata": {},
   "source": [
    "## Create the Function"
   ]
  },
  {
   "cell_type": "code",
   "execution_count": 8,
   "metadata": {},
   "outputs": [],
   "source": [
    "def get_viz(year,wave,chart):\n",
    "    #build out the chart\n",
    "    df = st[st[\"year\"] == year]\n",
    "    df[\"ST\"] = df[\"ST\"]\n",
    "    #state cartogram\n",
    "    #build the chart\n",
    "    st_cart = alt.Chart(df).mark_point().encode(\n",
    "        alt.X('X',axis=None),\n",
    "        alt.Y('Y',axis=None),\n",
    "        alt.Text('ST'),\n",
    "        alt.Color('porp_loss', scale=alt.Scale(scheme='redblue'), legend=alt.Legend(title=\"Porportion not Represented\")),\n",
    "        tooltip = [alt.Tooltip('porp_text',title='Porportion Lost'),\n",
    "                   alt.Tooltip('dist_text',title='District Deficit')\n",
    "                  ]\n",
    "    )\n",
    "    #inser labels\n",
    "    st_cart_labs = alt.Chart(df).mark_text(align='center').encode(\n",
    "        alt.X('X'),\n",
    "        alt.Y('Y'),\n",
    "        alt.Text('ST'),\n",
    "    ).properties(title='Severity of Partisan Misrepresentation')\n",
    "    #display\n",
    "    cart = alt.layer(st_cart, st_cart_labs).configure_axis(grid=False).configure_view(strokeWidth=0).configure_point(size=250,shape=hexagon,filled=True)\n",
    "    #create a bubble chart\n",
    "    selection = alt.selection_single();\n",
    "    bubble = alt.Chart(df).mark_point(filled=True).encode(\n",
    "        alt.X('metric', scale=alt.Scale(zero=False), title='Porportion Republican'),\n",
    "        alt.Y('porp_loss', scale=alt.Scale(zero=False), title='Porportion of Population not Represented'),\n",
    "        alt.Size('dist_loss', legend=alt.Legend(title=\"Amount of Seats Effected\")),\n",
    "        alt.Order('dist_loss', sort='descending'),\n",
    "        alt.Color('porp_loss', scale=alt.Scale(scheme='redblue'), legend=alt.Legend(title=\"Porportion not Represented\")),\n",
    "        tooltip = [alt.Tooltip('ST',title='State'),\n",
    "                   alt.Tooltip('porp_text',title='Porportion Lost'),\n",
    "                   alt.Tooltip('dist_text',title='District Deficit')\n",
    "                  ]\n",
    "    ).add_selection(selection).properties(title='Severity of Partisan Misrepresentation')\n",
    "    #set up for wave sensitive results\n",
    "    conv = call_wave(wave)\n",
    "    dist = dd[dd[\"year\"] == year]\n",
    "    dist = dist.merge(conv, how=\"left\")\n",
    "    #create the amounts chart for the Majority Bar\n",
    "    amounts = pd.DataFrame(dist.prob.value_counts()).reset_index()\n",
    "    amounts.columns = [\"prob_GOP\",\"num_dist\"]\n",
    "    amounts[\"quantity\"] = amounts[\"prob_GOP\"] * amounts[\"num_dist\"]\n",
    "    expec_GOP = amounts[\"quantity\"].sum()\n",
    "    expec_dem = 435 - expec_GOP\n",
    "    d = {'Expected Seats' : [expec_dem, expec_GOP], 'Party' : [\"Dem\",\"GOP\"]}\n",
    "    expec = pd.DataFrame(data = d, index=None)\n",
    "    #output an associated phrase\n",
    "    party_control = str(np.where(expec_GOP > expec_dem, \"Republicans\", \"Democrats\"))\n",
    "    num = np.where(expec_GOP > expec_dem, expec_GOP, expec_dem)\n",
    "    num_seats = str(num.round())\n",
    "    phrase = party_control + \" are expected to control the house with a majority of \" + num_seats.rstrip(\".0\")  + \" seats\"\n",
    "    #output majority control chart\n",
    "    cd_scale = [0,50,100,150,175,200,218,235,260,285,335,385,435]\n",
    "    maj = alt.Chart(expec).mark_bar().encode(\n",
    "        alt.X('sum(Expected Seats)',axis=alt.Axis(values=cd_scale),title=\"Expected Partisan Control\"),\n",
    "        alt.Color('Party', scale=alt.Scale(range=[\"blue\",\"red\"]))\n",
    "    ).properties(title=phrase)\n",
    "    #format data for median seat chart\n",
    "    dist = dist.sort_values(\"metric\",ascending=False).reset_index()\n",
    "    dist[\"X\"] = hc[\"X\"]\n",
    "    dist[\"Y\"] = hc[\"Y\"]\n",
    "    hg = alt.Chart(dist).mark_point().encode(\n",
    "        alt.X('X',axis=None),\n",
    "        alt.Y('Y',axis=None),\n",
    "        #alt.Text('ST'),\n",
    "        alt.Color('prob', scale=alt.Scale(range=[\"darkblue\",\"blue\",\"grey\",\"red\",\"darkred\"]), legend=alt.Legend(title=\"Probability of GOP Representation\")),\n",
    "        tooltip = [alt.Tooltip('ST#',title='District'),\n",
    "                   alt.Tooltip('PVI',title='PVI'),\n",
    "                   alt.Tooltip('prob',title='Prob GOP'),\n",
    "                  ]\n",
    "    ).configure_point(size=15,shape=hexagon,filled=True).configure_view(strokeWidth=0)\n",
    "    if chart == \"Cartogram\":\n",
    "        return cart\n",
    "    elif chart == \"Bubble\":\n",
    "        return bubble\n",
    "    elif chart == \"Median\":\n",
    "        return hg\n",
    "    else:\n",
    "        return maj"
   ]
  },
  {
   "cell_type": "code",
   "execution_count": 9,
   "metadata": {},
   "outputs": [
    {
     "name": "stderr",
     "output_type": "stream",
     "text": [
      "<ipython-input-8-4d04154a63e7>:4: SettingWithCopyWarning: \n",
      "A value is trying to be set on a copy of a slice from a DataFrame.\n",
      "Try using .loc[row_indexer,col_indexer] = value instead\n",
      "\n",
      "See the caveats in the documentation: https://pandas.pydata.org/pandas-docs/stable/user_guide/indexing.html#returning-a-view-versus-a-copy\n",
      "  df[\"ST\"] = df[\"ST\"]\n",
      "<ipython-input-5-56a58d351697>:21: SettingWithCopyWarning: \n",
      "A value is trying to be set on a copy of a slice from a DataFrame.\n",
      "Try using .loc[row_indexer,col_indexer] = value instead\n",
      "\n",
      "See the caveats in the documentation: https://pandas.pydata.org/pandas-docs/stable/user_guide/indexing.html#returning-a-view-versus-a-copy\n",
      "  index[\"prob\"] = col\n"
     ]
    },
    {
     "data": {
      "text/html": [
       "\n",
       "<div id=\"altair-viz-150a954917bf4fd5a6546fa22ce4db9f\"></div>\n",
       "<script type=\"text/javascript\">\n",
       "  var VEGA_DEBUG = (typeof VEGA_DEBUG == \"undefined\") ? {} : VEGA_DEBUG;\n",
       "  (function(spec, embedOpt){\n",
       "    let outputDiv = document.currentScript.previousElementSibling;\n",
       "    if (outputDiv.id !== \"altair-viz-150a954917bf4fd5a6546fa22ce4db9f\") {\n",
       "      outputDiv = document.getElementById(\"altair-viz-150a954917bf4fd5a6546fa22ce4db9f\");\n",
       "    }\n",
       "    const paths = {\n",
       "      \"vega\": \"https://cdn.jsdelivr.net/npm//vega@5?noext\",\n",
       "      \"vega-lib\": \"https://cdn.jsdelivr.net/npm//vega-lib?noext\",\n",
       "      \"vega-lite\": \"https://cdn.jsdelivr.net/npm//vega-lite@4.17.0?noext\",\n",
       "      \"vega-embed\": \"https://cdn.jsdelivr.net/npm//vega-embed@6?noext\",\n",
       "    };\n",
       "\n",
       "    function maybeLoadScript(lib, version) {\n",
       "      var key = `${lib.replace(\"-\", \"\")}_version`;\n",
       "      return (VEGA_DEBUG[key] == version) ?\n",
       "        Promise.resolve(paths[lib]) :\n",
       "        new Promise(function(resolve, reject) {\n",
       "          var s = document.createElement('script');\n",
       "          document.getElementsByTagName(\"head\")[0].appendChild(s);\n",
       "          s.async = true;\n",
       "          s.onload = () => {\n",
       "            VEGA_DEBUG[key] = version;\n",
       "            return resolve(paths[lib]);\n",
       "          };\n",
       "          s.onerror = () => reject(`Error loading script: ${paths[lib]}`);\n",
       "          s.src = paths[lib];\n",
       "        });\n",
       "    }\n",
       "\n",
       "    function showError(err) {\n",
       "      outputDiv.innerHTML = `<div class=\"error\" style=\"color:red;\">${err}</div>`;\n",
       "      throw err;\n",
       "    }\n",
       "\n",
       "    function displayChart(vegaEmbed) {\n",
       "      vegaEmbed(outputDiv, spec, embedOpt)\n",
       "        .catch(err => showError(`Javascript Error: ${err.message}<br>This usually means there's a typo in your chart specification. See the javascript console for the full traceback.`));\n",
       "    }\n",
       "\n",
       "    if(typeof define === \"function\" && define.amd) {\n",
       "      requirejs.config({paths});\n",
       "      require([\"vega-embed\"], displayChart, err => showError(`Error loading script: ${err.message}`));\n",
       "    } else {\n",
       "      maybeLoadScript(\"vega\", \"5\")\n",
       "        .then(() => maybeLoadScript(\"vega-lite\", \"4.17.0\"))\n",
       "        .then(() => maybeLoadScript(\"vega-embed\", \"6\"))\n",
       "        .catch(showError)\n",
       "        .then(() => displayChart(vegaEmbed));\n",
       "    }\n",
       "  })({\"config\": {\"view\": {\"continuousWidth\": 400, \"continuousHeight\": 300}}, \"data\": {\"name\": \"data-f6f5c4c39faecd2395c1db066fd32991\"}, \"mark\": \"bar\", \"encoding\": {\"color\": {\"field\": \"Party\", \"scale\": {\"range\": [\"blue\", \"red\"]}, \"type\": \"nominal\"}, \"x\": {\"aggregate\": \"sum\", \"axis\": {\"values\": [0, 50, 100, 150, 175, 200, 218, 235, 260, 285, 335, 385, 435]}, \"field\": \"Expected Seats\", \"title\": \"Expected Partisan Control\", \"type\": \"quantitative\"}}, \"title\": \"Republicans are expected to control the house with a majority of 218 seats\", \"$schema\": \"https://vega.github.io/schema/vega-lite/v4.17.0.json\", \"datasets\": {\"data-f6f5c4c39faecd2395c1db066fd32991\": [{\"Expected Seats\": 217.1293, \"Party\": \"Dem\"}, {\"Expected Seats\": 217.8707, \"Party\": \"GOP\"}]}}, {\"mode\": \"vega-lite\"});\n",
       "</script>"
      ],
      "text/plain": [
       "alt.Chart(...)"
      ]
     },
     "execution_count": 9,
     "metadata": {},
     "output_type": "execute_result"
    }
   ],
   "source": [
    "get_viz(2022,\"wave\",\"maj\")"
   ]
  },
  {
   "cell_type": "code",
   "execution_count": null,
   "metadata": {},
   "outputs": [],
   "source": [
    "cart"
   ]
  }
 ],
 "metadata": {
  "kernelspec": {
   "display_name": "Python 3",
   "language": "python",
   "name": "python3"
  },
  "language_info": {
   "codemirror_mode": {
    "name": "ipython",
    "version": 3
   },
   "file_extension": ".py",
   "mimetype": "text/x-python",
   "name": "python",
   "nbconvert_exporter": "python",
   "pygments_lexer": "ipython3",
   "version": "3.8.5"
  }
 },
 "nbformat": 4,
 "nbformat_minor": 4
}
