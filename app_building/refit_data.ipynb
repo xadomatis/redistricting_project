{
 "cells": [
  {
   "cell_type": "code",
   "execution_count": null,
   "metadata": {},
   "outputs": [],
   "source": []
  },
  {
   "cell_type": "code",
   "execution_count": 1,
   "metadata": {},
   "outputs": [],
   "source": [
    "import pandas as pd\n",
    "import numpy as np\n",
    "from iteration_utilities import deepflatten"
   ]
  },
  {
   "cell_type": "markdown",
   "metadata": {},
   "source": [
    "# Hourglass Coordinates"
   ]
  },
  {
   "cell_type": "code",
   "execution_count": 2,
   "metadata": {},
   "outputs": [],
   "source": [
    "#create a better range function\n",
    "def btw(j,k):\n",
    "    return list(range(j,k))"
   ]
  },
  {
   "cell_type": "code",
   "execution_count": 3,
   "metadata": {},
   "outputs": [],
   "source": [
    "#load in X coords\n",
    "X = np.repeat(1,23), np.repeat(2,23), np.repeat(3,23),np.repeat(4,23),np.repeat(5,21),np.repeat(6,19),np.repeat(7,17),np.repeat(8,15),np.repeat(9,13),np.repeat(10,11),np.repeat(11,9),np.repeat(12,7),np.repeat(13,5),np.repeat(14,3),np.repeat(15,3),np.repeat(16,1),np.repeat(17,1),np.repeat(21,1),np.repeat(25,1),np.repeat(26,1),np.repeat(27,3),np.repeat(28,3),np.repeat(29,5),np.repeat(30,7),np.repeat(31,9),np.repeat(32,11),np.repeat(33,13),np.repeat(34,15),np.repeat(35,17),np.repeat(36,19),np.repeat(37,21),np.repeat(38,23),np.repeat(39,23),np.repeat(40,23),np.repeat(41,23)\n",
    "#load in Y coords\n",
    "Y = [btw(4,27),btw(4,27),btw(4,27),btw(4,27),btw(5,26),btw(6,25),btw(7,24),btw(8,23),btw(9,22),btw(10,21),btw(11,20),btw(12,19),btw(13,18),btw(14,17),btw(14,17),15,15,15,15,15,btw(14,17),btw(14,17),btw(13,18),btw(12,19),btw(11,20),btw(10,21),btw(9,22),btw(8,23),btw(7,24),btw(6,25),btw(5,26),btw(4,27),btw(4,27),btw(4,27),btw(4,27)]"
   ]
  },
  {
   "cell_type": "code",
   "execution_count": 4,
   "metadata": {},
   "outputs": [],
   "source": [
    "#flatten lists\n",
    "X = [item for sublist in X for item in sublist]\n",
    "Y = list(deepflatten(Y))"
   ]
  },
  {
   "cell_type": "code",
   "execution_count": 5,
   "metadata": {},
   "outputs": [
    {
     "name": "stdout",
     "output_type": "stream",
     "text": [
      "435 435\n"
     ]
    }
   ],
   "source": [
    "#ensure enough for all congressional districts\n",
    "print(len(X),len(Y))"
   ]
  },
  {
   "cell_type": "code",
   "execution_count": 6,
   "metadata": {},
   "outputs": [],
   "source": [
    "#convert to dataframe\n",
    "d = {'X': X, 'Y': Y}\n",
    "hg = pd.DataFrame(data=d)"
   ]
  },
  {
   "cell_type": "code",
   "execution_count": 7,
   "metadata": {},
   "outputs": [],
   "source": [
    "#offset every other row so the hexes will align\n",
    "hg[\"X\"] = np.where(((hg[\"Y\"] % 2) != 0) & (hg[\"X\"] > 22), hg['X'], (hg[\"X\"] - .5))\n",
    "hg[\"X\"] = np.where(((hg[\"Y\"] % 2) != 0) & (hg[\"X\"] < 20), hg['X'], (hg[\"X\"] + .5))"
   ]
  },
  {
   "cell_type": "code",
   "execution_count": 8,
   "metadata": {},
   "outputs": [],
   "source": [
    "#center on 0\n",
    "hg[\"X\"] = hg[\"X\"] - 21\n",
    "hg[\"Y\"] = hg[\"Y\"] - 15"
   ]
  },
  {
   "cell_type": "code",
   "execution_count": 9,
   "metadata": {},
   "outputs": [
    {
     "data": {
      "text/plain": [
       "<matplotlib.collections.PathCollection at 0x7fdcdd0f9130>"
      ]
     },
     "execution_count": 9,
     "metadata": {},
     "output_type": "execute_result"
    },
    {
     "data": {
      "image/png": "[encoded data removed]",
      "text/plain": [
       "<Figure size 432x288 with 1 Axes>"
      ]
     },
     "metadata": {
      "needs_background": "light"
     },
     "output_type": "display_data"
    }
   ],
   "source": [
    "#check with plot\n",
    "import matplotlib.pyplot as plt\n",
    "plt.scatter(hg.X,hg.Y)"
   ]
  },
  {
   "cell_type": "code",
   "execution_count": 10,
   "metadata": {},
   "outputs": [],
   "source": [
    "#export coordinates\n",
    "hg.to_csv(\"/Users/xavier/Desktop/DSPP/solo_projects/redistricting_project/app_building/app_data/hourglass_coords.csv\", index = False)"
   ]
  },
  {
   "cell_type": "markdown",
   "metadata": {},
   "source": [
    "# State Cartogram"
   ]
  },
  {
   "cell_type": "code",
   "execution_count": 11,
   "metadata": {},
   "outputs": [],
   "source": [
    "#path tableau prep workbook for state hextmap\n",
    "redraw_workbook = \"/Users/xavier/Desktop/DSPP/solo_projects/redistricting_project/processed/2022_redraw_workbook.csv\""
   ]
  },
  {
   "cell_type": "code",
   "execution_count": 12,
   "metadata": {},
   "outputs": [],
   "source": [
    "#read in file\n",
    "sc = pd.read_csv(redraw_workbook)"
   ]
  },
  {
   "cell_type": "code",
   "execution_count": 13,
   "metadata": {},
   "outputs": [],
   "source": [
    "#extract state coordinates\n",
    "#remove old maps\n",
    "sc = sc[sc[\"State Status\"] != \"Overturned Map\"]\n",
    "#only use necessary rows\n",
    "sc = sc[[\"ST\",\"State\",\"row\",\"column\"]]\n",
    "#rename columns\n",
    "sc.columns = [\"ST\",\"state\",\"Y\",\"X\"]"
   ]
  },
  {
   "cell_type": "code",
   "execution_count": 14,
   "metadata": {},
   "outputs": [
    {
     "data": {
      "text/plain": [
       "<matplotlib.collections.PathCollection at 0x7fdcdd332ee0>"
      ]
     },
     "execution_count": 14,
     "metadata": {},
     "output_type": "execute_result"
    },
    {
     "data": {
      "image/png": "[encoded data removed]",
      "text/plain": [
       "<Figure size 432x288 with 1 Axes>"
      ]
     },
     "metadata": {
      "needs_background": "light"
     },
     "output_type": "display_data"
    }
   ],
   "source": [
    "#check with plot\n",
    "import matplotlib.pyplot as plt\n",
    "plt.scatter(sc.X,sc.Y)"
   ]
  },
  {
   "cell_type": "code",
   "execution_count": 15,
   "metadata": {},
   "outputs": [],
   "source": [
    "#export coordinates\n",
    "sc.to_csv(\"/Users/xavier/Desktop/DSPP/solo_projects/redistricting_project/app_building/app_data/cartogram_coords.csv\", index = False)"
   ]
  },
  {
   "cell_type": "markdown",
   "metadata": {},
   "source": [
    "# State Data"
   ]
  },
  {
   "cell_type": "code",
   "execution_count": 16,
   "metadata": {},
   "outputs": [],
   "source": [
    "#path tableau prep workbook for block slider\n",
    "aggregated_fairness = \"/Users/xavier/Desktop/DSPP/solo_projects/redistricting_project/processed/aggregated_fairness.csv\""
   ]
  },
  {
   "cell_type": "code",
   "execution_count": 17,
   "metadata": {},
   "outputs": [],
   "source": [
    "#read in file\n",
    "cd = pd.read_csv(aggregated_fairness)"
   ]
  },
  {
   "cell_type": "code",
   "execution_count": 18,
   "metadata": {},
   "outputs": [
    {
     "data": {
      "text/plain": [
       "(500, 15)"
      ]
     },
     "execution_count": 18,
     "metadata": {},
     "output_type": "execute_result"
    }
   ],
   "source": [
    "#confirm it represents 50 states over 10 years\n",
    "cd.shape"
   ]
  },
  {
   "cell_type": "code",
   "execution_count": 19,
   "metadata": {},
   "outputs": [],
   "source": [
    "#export data\n",
    "cd.to_csv(\"/Users/xavier/Desktop/DSPP/solo_projects/redistricting_project/app_building/app_data/state_data.csv\", index = False)"
   ]
  }
 ],
 "metadata": {
  "kernelspec": {
   "display_name": "Python 3",
   "language": "python",
   "name": "python3"
  },
  "language_info": {
   "codemirror_mode": {
    "name": "ipython",
    "version": 3
   },
   "file_extension": ".py",
   "mimetype": "text/x-python",
   "name": "python",
   "nbconvert_exporter": "python",
   "pygments_lexer": "ipython3",
   "version": "3.8.5"
  }
 },
 "nbformat": 4,
 "nbformat_minor": 4
}
