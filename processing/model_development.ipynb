{
 "cells": [
  {
   "cell_type": "code",
   "execution_count": 1,
   "metadata": {},
   "outputs": [],
   "source": [
    "import pandas as pd\n",
    "import numpy as np\n",
    "import plotnine as p9\n",
    "from plotnine import ggplot, aes, facet_grid, labs, geom_point, geom_smooth, coord_flip, scale_color_manual\n",
    "from sklearn.linear_model import LinearRegression as lm\n",
    "import statsmodels.tools.tools as sm\n",
    "from statsmodels.discrete.discrete_model import Probit\n",
    "from statsmodels.discrete.discrete_model import Logit\n",
    "import matplotlib.pyplot as plt\n",
    "import scipy\n",
    "from scipy.optimize import curve_fit\n",
    "from scipy.optimize import differential_evolution\n",
    "import warnings\n",
    "import requests\n",
    "import os\n",
    "import glob\n",
    "warnings.filterwarnings('ignore')\n",
    "pd.set_option(\"display.max_rows\", None, \"display.max_columns\", None)"
   ]
  },
  {
   "cell_type": "code",
   "execution_count": 2,
   "metadata": {},
   "outputs": [],
   "source": [
    "#load the district files into a single dataframe\n",
    "dist_path = \"/Users/xavier/Desktop/DSPP/solo_projects/redistricting_project/clean_data/full_districts\"\n",
    "all_files = sorted(glob.glob(dist_path + \"/*.csv\"))\n",
    "\n",
    "li = []\n",
    "\n",
    "for filename in all_files:\n",
    "    df = pd.read_csv(filename, index_col=None, header=0)\n",
    "    li.append(df)\n",
    "\n",
    "districts = pd.concat(li, axis=0, ignore_index=False)"
   ]
  },
  {
   "cell_type": "code",
   "execution_count": 3,
   "metadata": {},
   "outputs": [],
   "source": [
    "districts = districts[districts[\"year\"] != 2022]"
   ]
  },
  {
   "cell_type": "code",
   "execution_count": 4,
   "metadata": {},
   "outputs": [
    {
     "data": {
      "text/plain": [
       "9.0"
      ]
     },
     "execution_count": 4,
     "metadata": {},
     "output_type": "execute_result"
    }
   ],
   "source": [
    "#confirm we have data from 9 Congressional Cycles\n",
    "districts.shape[0] / 435"
   ]
  },
  {
   "cell_type": "code",
   "execution_count": 5,
   "metadata": {},
   "outputs": [],
   "source": [
    "red = [2010,2014]\n",
    "blu = [2006,2008,2018]\n",
    "districts[\"wave\"] = \"Neutral\"\n",
    "districts[\"wave\"] = np.where(districts[\"year\"].isin(red), 'Red', districts[\"wave\"])\n",
    "districts[\"wave\"] = np.where(districts[\"year\"].isin(blu), 'Blue', districts[\"wave\"])"
   ]
  },
  {
   "cell_type": "markdown",
   "metadata": {},
   "source": [
    "## First, Recreate in the Binned Model from Previous Work"
   ]
  },
  {
   "cell_type": "code",
   "execution_count": 6,
   "metadata": {},
   "outputs": [],
   "source": [
    "#split the dataframe into the smoothed bins\n",
    "districts[\"bin\"] = pd.cut(districts['metric'], \n",
    "    [0, .24, .42, .44, .45, .46, .47, .48, .49, .5,\n",
    "        .51, .52, .53, .54, .57, .7, 1],\n",
    "    labels=[\"D+26+\",\"D+25 to D+8\",\"D+7 to D+6\",\"D+5\",\"D+4\",\"D+3\",\"D+2\",\"D+1\",\n",
    "        \"EVEN\",\"R+1\",\"R+2\",\"R+3\",\"R+4\",\"R+5 to R+7\",\"R+8 to R+20\",\"R+21+\"])"
   ]
  },
  {
   "cell_type": "code",
   "execution_count": 7,
   "metadata": {},
   "outputs": [],
   "source": [
    "def agg_probs_bin(df):\n",
    "    '''Aggregate probailites of GOP represenation by bin\n",
    "    Args:\n",
    "        a datdistricts with historical election results\n",
    "    Returns:\n",
    "        a dataframe aggregating the probabilities of GOP representation\n",
    "    '''\n",
    "    sort = df.groupby(\"bin\").mean()\n",
    "    sort = sort.sort_values(by=\"metric\")\n",
    "    return pd.DataFrame(sort.is_GOP).reset_index().rename(columns={\"is_GOP\":\"prob_GOP\"})"
   ]
  },
  {
   "cell_type": "code",
   "execution_count": 8,
   "metadata": {},
   "outputs": [],
   "source": [
    "#aggregate probabilites of historical data\n",
    "prob_gop_bin = agg_probs_bin(districts)"
   ]
  },
  {
   "cell_type": "code",
   "execution_count": 9,
   "metadata": {},
   "outputs": [
    {
     "data": {
      "text/html": [
       "<div>\n",
       "<style scoped>\n",
       "    .dataframe tbody tr th:only-of-type {\n",
       "        vertical-align: middle;\n",
       "    }\n",
       "\n",
       "    .dataframe tbody tr th {\n",
       "        vertical-align: top;\n",
       "    }\n",
       "\n",
       "    .dataframe thead th {\n",
       "        text-align: right;\n",
       "    }\n",
       "</style>\n",
       "<table border=\"1\" class=\"dataframe\">\n",
       "  <thead>\n",
       "    <tr style=\"text-align: right;\">\n",
       "      <th></th>\n",
       "      <th>bin</th>\n",
       "      <th>prob_GOP</th>\n",
       "    </tr>\n",
       "  </thead>\n",
       "  <tbody>\n",
       "    <tr>\n",
       "      <th>0</th>\n",
       "      <td>D+26+</td>\n",
       "      <td>0.000000</td>\n",
       "    </tr>\n",
       "    <tr>\n",
       "      <th>1</th>\n",
       "      <td>D+25 to D+8</td>\n",
       "      <td>0.004449</td>\n",
       "    </tr>\n",
       "    <tr>\n",
       "      <th>2</th>\n",
       "      <td>D+7 to D+6</td>\n",
       "      <td>0.044586</td>\n",
       "    </tr>\n",
       "    <tr>\n",
       "      <th>3</th>\n",
       "      <td>D+5</td>\n",
       "      <td>0.117647</td>\n",
       "    </tr>\n",
       "    <tr>\n",
       "      <th>4</th>\n",
       "      <td>D+4</td>\n",
       "      <td>0.187500</td>\n",
       "    </tr>\n",
       "    <tr>\n",
       "      <th>5</th>\n",
       "      <td>D+3</td>\n",
       "      <td>0.253521</td>\n",
       "    </tr>\n",
       "    <tr>\n",
       "      <th>6</th>\n",
       "      <td>D+2</td>\n",
       "      <td>0.338710</td>\n",
       "    </tr>\n",
       "    <tr>\n",
       "      <th>7</th>\n",
       "      <td>D+1</td>\n",
       "      <td>0.370968</td>\n",
       "    </tr>\n",
       "    <tr>\n",
       "      <th>8</th>\n",
       "      <td>EVEN</td>\n",
       "      <td>0.402439</td>\n",
       "    </tr>\n",
       "    <tr>\n",
       "      <th>9</th>\n",
       "      <td>R+1</td>\n",
       "      <td>0.591837</td>\n",
       "    </tr>\n",
       "    <tr>\n",
       "      <th>10</th>\n",
       "      <td>R+2</td>\n",
       "      <td>0.653846</td>\n",
       "    </tr>\n",
       "    <tr>\n",
       "      <th>11</th>\n",
       "      <td>R+3</td>\n",
       "      <td>0.688172</td>\n",
       "    </tr>\n",
       "    <tr>\n",
       "      <th>12</th>\n",
       "      <td>R+4</td>\n",
       "      <td>0.788991</td>\n",
       "    </tr>\n",
       "    <tr>\n",
       "      <th>13</th>\n",
       "      <td>R+5 to R+7</td>\n",
       "      <td>0.809392</td>\n",
       "    </tr>\n",
       "    <tr>\n",
       "      <th>14</th>\n",
       "      <td>R+8 to R+20</td>\n",
       "      <td>0.953509</td>\n",
       "    </tr>\n",
       "    <tr>\n",
       "      <th>15</th>\n",
       "      <td>R+21+</td>\n",
       "      <td>1.000000</td>\n",
       "    </tr>\n",
       "  </tbody>\n",
       "</table>\n",
       "</div>"
      ],
      "text/plain": [
       "            bin  prob_GOP\n",
       "0         D+26+  0.000000\n",
       "1   D+25 to D+8  0.004449\n",
       "2    D+7 to D+6  0.044586\n",
       "3           D+5  0.117647\n",
       "4           D+4  0.187500\n",
       "5           D+3  0.253521\n",
       "6           D+2  0.338710\n",
       "7           D+1  0.370968\n",
       "8          EVEN  0.402439\n",
       "9           R+1  0.591837\n",
       "10          R+2  0.653846\n",
       "11          R+3  0.688172\n",
       "12          R+4  0.788991\n",
       "13   R+5 to R+7  0.809392\n",
       "14  R+8 to R+20  0.953509\n",
       "15        R+21+  1.000000"
      ]
     },
     "execution_count": 9,
     "metadata": {},
     "output_type": "execute_result"
    }
   ],
   "source": [
    "prob_gop_bin"
   ]
  },
  {
   "cell_type": "code",
   "execution_count": 10,
   "metadata": {},
   "outputs": [],
   "source": [
    "#load in the conversion datafile for binned data\n",
    "converter = pd.read_csv(\"/Users/xavier/Desktop/DSPP/solo_projects/redistricting_project/processed/metric_converter.csv\")"
   ]
  },
  {
   "cell_type": "code",
   "execution_count": 11,
   "metadata": {},
   "outputs": [],
   "source": [
    "#clarify that the estimates are from binned\n",
    "converter.columns = [\"metric\",\"pvi_range\",\"prob_GOP_bin\"]"
   ]
  },
  {
   "cell_type": "markdown",
   "metadata": {},
   "source": [
    "## Next, include raw metrics just for comparison"
   ]
  },
  {
   "cell_type": "code",
   "execution_count": 12,
   "metadata": {},
   "outputs": [],
   "source": [
    "def agg_probs(df):\n",
    "    '''Aggregate probailites of GOP represenation by metric\n",
    "    Args:\n",
    "        a datdistricts with historical election results\n",
    "    Returns:\n",
    "        a dataframe aggregating the probabilities of GOP representation\n",
    "    '''\n",
    "    sort = df.groupby(\"metric\").mean()\n",
    "    sort = sort.sort_values(by=\"metric\")\n",
    "    return pd.DataFrame(sort.is_GOP).reset_index().rename(columns={\"is_GOP\":\"prob_GOP_raw\"})"
   ]
  },
  {
   "cell_type": "code",
   "execution_count": 13,
   "metadata": {},
   "outputs": [],
   "source": [
    "#aggregate probabilites of historical data\n",
    "prob_gops_metric = agg_probs(districts)\n",
    "#attach associated probabilities\n",
    "converter = pd.merge(converter,prob_gops_metric)"
   ]
  },
  {
   "cell_type": "code",
   "execution_count": 15,
   "metadata": {},
   "outputs": [],
   "source": [
    "#reorg_columns\n",
    "converter = converter[[\"metric\",\"pvi_range\",\"prob_GOP_raw\",\"prob_GOP_bin\"]]"
   ]
  },
  {
   "cell_type": "code",
   "execution_count": null,
   "metadata": {},
   "outputs": [],
   "source": []
  }
 ],
 "metadata": {
  "kernelspec": {
   "display_name": "Python 3",
   "language": "python",
   "name": "python3"
  },
  "language_info": {
   "codemirror_mode": {
    "name": "ipython",
    "version": 3
   },
   "file_extension": ".py",
   "mimetype": "text/x-python",
   "name": "python",
   "nbconvert_exporter": "python",
   "pygments_lexer": "ipython3",
   "version": "3.8.5"
  }
 },
 "nbformat": 4,
 "nbformat_minor": 4
}
