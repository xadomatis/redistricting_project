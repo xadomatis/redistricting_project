{
 "cells": [
  {
   "cell_type": "markdown",
   "metadata": {},
   "source": [
    "# Aggregate all of the Previous DataSets"
   ]
  },
  {
   "cell_type": "code",
   "execution_count": 67,
   "metadata": {},
   "outputs": [],
   "source": [
    "import pandas as pd\n",
    "import numpy as np\n",
    "import plotnine as p9\n",
    "from plotnine import ggplot, aes, facet_grid, labs, geom_point, geom_smooth, coord_flip, scale_color_manual\n",
    "from sklearn.linear_model import LinearRegression as lm\n",
    "import statsmodels.tools.tools as sm\n",
    "from statsmodels.discrete.discrete_model import Probit\n",
    "from statsmodels.discrete.discrete_model import Logit\n",
    "import matplotlib.pyplot as plt\n",
    "import warnings\n",
    "warnings.filterwarnings('ignore')\n",
    "pd.set_option(\"display.max_rows\", None, \"display.max_columns\", None)"
   ]
  },
  {
   "cell_type": "markdown",
   "metadata": {},
   "source": [
    "Pull together all of the datasets cleaned"
   ]
  },
  {
   "cell_type": "code",
   "execution_count": 4,
   "metadata": {},
   "outputs": [],
   "source": [
    "#awaiting Cook release of 2002 datapoints\n",
    "#df108 = pd.read_csv(\"/Users/xavier/Desktop/DSPP/solo_projects/redistricting_project/clean_data/full_districts/data_108.csv\")\n",
    "df109 = pd.read_csv(\"/Users/xavier/Desktop/DSPP/solo_projects/redistricting_project/clean_data/full_districts/data_109.csv\")\n",
    "df110 = pd.read_csv(\"/Users/xavier/Desktop/DSPP/solo_projects/redistricting_project/clean_data/full_districts/data_110.csv\")\n",
    "df111 = pd.read_csv(\"/Users/xavier/Desktop/DSPP/solo_projects/redistricting_project/clean_data/full_districts/data_111.csv\")\n",
    "df112 = pd.read_csv(\"/Users/xavier/Desktop/DSPP/solo_projects/redistricting_project/clean_data/full_districts/data_112.csv\")\n",
    "df113 = pd.read_csv(\"/Users/xavier/Desktop/DSPP/solo_projects/redistricting_project/clean_data/full_districts/data_113.csv\")\n",
    "df114 = pd.read_csv(\"/Users/xavier/Desktop/DSPP/solo_projects/redistricting_project/clean_data/full_districts/data_114.csv\")\n",
    "df115 = pd.read_csv(\"/Users/xavier/Desktop/DSPP/solo_projects/redistricting_project/clean_data/full_districts/data_115.csv\")\n",
    "df116 = pd.read_csv(\"/Users/xavier/Desktop/DSPP/solo_projects/redistricting_project/clean_data/full_districts/data_116.csv\")\n",
    "df117 = pd.read_csv(\"/Users/xavier/Desktop/DSPP/solo_projects/redistricting_project/clean_data/full_districts/data_117.csv\")"
   ]
  },
  {
   "cell_type": "markdown",
   "metadata": {},
   "source": [
    "Concatonate and Touch Up"
   ]
  },
  {
   "cell_type": "code",
   "execution_count": 5,
   "metadata": {},
   "outputs": [],
   "source": [
    "df = pd.concat([df109,df110,df111,df112,df113,df114,df115,df116,df117])\n",
    "df[\"PVI\"] = df[\"PVI\"].str.replace(\"D+0\",\"R+0\")"
   ]
  },
  {
   "cell_type": "markdown",
   "metadata": {},
   "source": [
    "Put into CSV for Later Use"
   ]
  },
  {
   "cell_type": "code",
   "execution_count": 6,
   "metadata": {},
   "outputs": [],
   "source": [
    "df.to_csv(\"/Users/xavier/Desktop/DSPP/solo_projects/redistricting_project/processed/aggregated_districts.csv\", index = False)"
   ]
  },
  {
   "cell_type": "markdown",
   "metadata": {},
   "source": [
    "## Begin Analysis of PVI"
   ]
  },
  {
   "cell_type": "markdown",
   "metadata": {},
   "source": [
    "### Analysis 1: Averaging"
   ]
  },
  {
   "cell_type": "code",
   "execution_count": 56,
   "metadata": {},
   "outputs": [],
   "source": [
    "#group by metric and average GOP seats\n",
    "bm = df.groupby('metric').mean()\n",
    "#this will not be produced into a dataset without aggregating all years, as \n",
    "bm = bm.sort_values('metric')\n",
    "bm = bm.reset_index()"
   ]
  },
  {
   "cell_type": "markdown",
   "metadata": {},
   "source": [
    "### Analysis 2: Probit"
   ]
  },
  {
   "cell_type": "code",
   "execution_count": 57,
   "metadata": {},
   "outputs": [
    {
     "name": "stdout",
     "output_type": "stream",
     "text": [
      "Optimization terminated successfully.\n",
      "         Current function value: 0.250068\n",
      "         Iterations 8\n"
     ]
    },
    {
     "data": {
      "text/html": [
       "<table class=\"simpletable\">\n",
       "<caption>Probit Regression Results</caption>\n",
       "<tr>\n",
       "  <th>Dep. Variable:</th>        <td>is_GOP</td>      <th>  No. Observations:  </th>  <td>  3915</td> \n",
       "</tr>\n",
       "<tr>\n",
       "  <th>Model:</th>                <td>Probit</td>      <th>  Df Residuals:      </th>  <td>  3913</td> \n",
       "</tr>\n",
       "<tr>\n",
       "  <th>Method:</th>                 <td>MLE</td>       <th>  Df Model:          </th>  <td>     1</td> \n",
       "</tr>\n",
       "<tr>\n",
       "  <th>Date:</th>            <td>Tue, 01 Mar 2022</td> <th>  Pseudo R-squ.:     </th>  <td>0.6392</td> \n",
       "</tr>\n",
       "<tr>\n",
       "  <th>Time:</th>                <td>10:57:01</td>     <th>  Log-Likelihood:    </th> <td> -979.02</td>\n",
       "</tr>\n",
       "<tr>\n",
       "  <th>converged:</th>             <td>True</td>       <th>  LL-Null:           </th> <td> -2713.2</td>\n",
       "</tr>\n",
       "<tr>\n",
       "  <th>Covariance Type:</th>     <td>nonrobust</td>    <th>  LLR p-value:       </th>  <td> 0.000</td> \n",
       "</tr>\n",
       "</table>\n",
       "<table class=\"simpletable\">\n",
       "<tr>\n",
       "     <td></td>       <th>coef</th>     <th>std err</th>      <th>z</th>      <th>P>|z|</th>  <th>[0.025</th>    <th>0.975]</th>  \n",
       "</tr>\n",
       "<tr>\n",
       "  <th>const</th>  <td>   -8.3669</td> <td>    0.257</td> <td>  -32.551</td> <td> 0.000</td> <td>   -8.871</td> <td>   -7.863</td>\n",
       "</tr>\n",
       "<tr>\n",
       "  <th>metric</th> <td>   16.3746</td> <td>    0.487</td> <td>   33.642</td> <td> 0.000</td> <td>   15.421</td> <td>   17.329</td>\n",
       "</tr>\n",
       "</table><br/><br/>Possibly complete quasi-separation: A fraction 0.15 of observations can be<br/>perfectly predicted. This might indicate that there is complete<br/>quasi-separation. In this case some parameters will not be identified."
      ],
      "text/plain": [
       "<class 'statsmodels.iolib.summary.Summary'>\n",
       "\"\"\"\n",
       "                          Probit Regression Results                           \n",
       "==============================================================================\n",
       "Dep. Variable:                 is_GOP   No. Observations:                 3915\n",
       "Model:                         Probit   Df Residuals:                     3913\n",
       "Method:                           MLE   Df Model:                            1\n",
       "Date:                Tue, 01 Mar 2022   Pseudo R-squ.:                  0.6392\n",
       "Time:                        10:57:01   Log-Likelihood:                -979.02\n",
       "converged:                       True   LL-Null:                       -2713.2\n",
       "Covariance Type:            nonrobust   LLR p-value:                     0.000\n",
       "==============================================================================\n",
       "                 coef    std err          z      P>|z|      [0.025      0.975]\n",
       "------------------------------------------------------------------------------\n",
       "const         -8.3669      0.257    -32.551      0.000      -8.871      -7.863\n",
       "metric        16.3746      0.487     33.642      0.000      15.421      17.329\n",
       "==============================================================================\n",
       "\n",
       "Possibly complete quasi-separation: A fraction 0.15 of observations can be\n",
       "perfectly predicted. This might indicate that there is complete\n",
       "quasi-separation. In this case some parameters will not be identified.\n",
       "\"\"\""
      ]
     },
     "execution_count": 57,
     "metadata": {},
     "output_type": "execute_result"
    }
   ],
   "source": [
    "#set input of GOP to a probit friendly format\n",
    "df.is_GOP = df.is_GOP == 1\n",
    "#define variables\n",
    "Y = df.is_GOP\n",
    "X = df.metric\n",
    "model = Probit(Y, sm.add_constant(X).astype(float))\n",
    "prob_mod = model.fit()\n",
    "pred_Y = prob_mod.predict(sm.add_constant(X))\n",
    "prob_mod.summary()"
   ]
  },
  {
   "cell_type": "code",
   "execution_count": 58,
   "metadata": {},
   "outputs": [
    {
     "data": {
      "text/plain": [
       "<matplotlib.collections.PathCollection at 0x7fa8f843e970>"
      ]
     },
     "execution_count": 58,
     "metadata": {},
     "output_type": "execute_result"
    },
    {
     "data": {
      "image/png": "[encoded data removed]",
      "text/plain": [
       "<Figure size 432x288 with 1 Axes>"
      ]
     },
     "metadata": {
      "needs_background": "light"
     },
     "output_type": "display_data"
    }
   ],
   "source": [
    "plt.scatter(X,pred_Y)"
   ]
  },
  {
   "cell_type": "code",
   "execution_count": 59,
   "metadata": {},
   "outputs": [],
   "source": [
    "results = pd.concat([X,pred_Y], axis = 1)\n",
    "#group by metric and average GOP seats\n",
    "bm_probit = results.groupby('metric').mean()\n",
    "#this will not be produced into a dataset without aggregating all years, as \n",
    "bm_probit = bm_probit.sort_values('metric')\n",
    "bm_probit = bm_probit.reset_index()\n",
    "bm_probit[0] = bm_probit[0].round(2)"
   ]
  },
  {
   "cell_type": "markdown",
   "metadata": {},
   "source": [
    "### Logit"
   ]
  },
  {
   "cell_type": "code",
   "execution_count": null,
   "metadata": {},
   "outputs": [],
   "source": []
  },
  {
   "cell_type": "markdown",
   "metadata": {},
   "source": [
    "### Compare"
   ]
  },
  {
   "cell_type": "code",
   "execution_count": 66,
   "metadata": {},
   "outputs": [
    {
     "data": {
      "text/plain": [
       "<matplotlib.collections.PathCollection at 0x7fa8f84f7520>"
      ]
     },
     "execution_count": 66,
     "metadata": {},
     "output_type": "execute_result"
    },
    {
     "data": {
      "image/png": "[encoded data removed]",
      "text/plain": [
       "<Figure size 432x288 with 1 Axes>"
      ]
     },
     "metadata": {
      "needs_background": "light"
     },
     "output_type": "display_data"
    }
   ],
   "source": [
    "compare = bm.merge(bm_probit,on=\"metric\")\n",
    "compare.diff = compare[\"is_GOP\"] - compare[0]\n",
    "plt.scatter(compare.metric,compare.diff)"
   ]
  },
  {
   "cell_type": "code",
   "execution_count": 11,
   "metadata": {},
   "outputs": [],
   "source": [
    "binned = df\n",
    "binned[\"bin\"] = pd.cut(binned['metric'], \n",
    "    bins = [0, .24, .42, .44, .45, .46, .47, .48, .49, .5,\n",
    "    .51, .52, .53, .54, .57, .7, 1], labels =\n",
    "    [\"D+26+\",\"D+25 to D+8\",\"D+7 to D+6\",\"D+5\",\"D+4\",\"D+3\",\"D+2\",\"D+1\",\n",
    "    \"EVEN\",\"R+1\",\"R+2\",\"R+3\",\"R+4\",\"R+5 to R+7\",\"R+8 to R+20\",\"R+21+\"])\n",
    "binned = binned.sort_values(by=\"metric\")"
   ]
  }
 ],
 "metadata": {
  "kernelspec": {
   "display_name": "Python 3",
   "language": "python",
   "name": "python3"
  },
  "language_info": {
   "codemirror_mode": {
    "name": "ipython",
    "version": 3
   },
   "file_extension": ".py",
   "mimetype": "text/x-python",
   "name": "python",
   "nbconvert_exporter": "python",
   "pygments_lexer": "ipython3",
   "version": "3.8.5"
  }
 },
 "nbformat": 4,
 "nbformat_minor": 4
}
