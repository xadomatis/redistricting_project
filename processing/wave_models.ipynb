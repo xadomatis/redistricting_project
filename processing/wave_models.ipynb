{
 "cells": [
  {
   "cell_type": "code",
   "execution_count": 2,
   "metadata": {},
   "outputs": [],
   "source": [
    "import requests\n",
    "import pandas as pd\n",
    "import os\n",
    "import glob\n",
    "import numpy as np\n",
    "pd.set_option(\"display.max_rows\", None, \"display.max_columns\", None)\n",
    "pd.options.mode.chained_assignment = None  # default='warn'"
   ]
  },
  {
   "cell_type": "code",
   "execution_count": 4,
   "metadata": {},
   "outputs": [],
   "source": [
    "#load the district files into a single dataframe\n",
    "dist_path = \"/Users/xavier/Desktop/DSPP/solo_projects/redistricting_project/clean_data/full_districts\"\n",
    "all_files = sorted(glob.glob(dist_path + \"/*.csv\"))\n",
    "\n",
    "li = []\n",
    "\n",
    "for filename in all_files:\n",
    "    df = pd.read_csv(filename, index_col=None, header=0)\n",
    "    li.append(df)\n",
    "\n",
    "districts = pd.concat(li, axis=0, ignore_index=False)\n",
    "districts = districts[districts[\"year\"] != 2022]"
   ]
  },
  {
   "cell_type": "markdown",
   "metadata": {},
   "source": [
    "Below I have calculated Wave Years, which I have defined as a year in which a party recieved more than 51% of the national popular vote"
   ]
  },
  {
   "cell_type": "code",
   "execution_count": 6,
   "metadata": {},
   "outputs": [],
   "source": [
    "red = [2010,2014]\n",
    "blu = [2006,2008,2018]"
   ]
  },
  {
   "cell_type": "code",
   "execution_count": null,
   "metadata": {},
   "outputs": [],
   "source": [
    "districts[\"wave\"] = \"Neutral\"\n",
    "districts[\"wave\"] = np.where(districts[\"year\"].isin(red), 'Red', districts[\"wave\"])\n",
    "districts[\"wave\"] = np.where(districts[\"year\"].isin(blu), 'Blue', districts[\"wave\"])"
   ]
  }
 ],
 "metadata": {
  "kernelspec": {
   "display_name": "Python 3",
   "language": "python",
   "name": "python3"
  },
  "language_info": {
   "codemirror_mode": {
    "name": "ipython",
    "version": 3
   },
   "file_extension": ".py",
   "mimetype": "text/x-python",
   "name": "python",
   "nbconvert_exporter": "python",
   "pygments_lexer": "ipython3",
   "version": "3.8.5"
  }
 },
 "nbformat": 4,
 "nbformat_minor": 4
}
