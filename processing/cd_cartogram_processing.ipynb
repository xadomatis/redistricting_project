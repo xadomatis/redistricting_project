{
 "cells": [
  {
   "cell_type": "code",
   "execution_count": 1,
   "metadata": {},
   "outputs": [],
   "source": [
    "import pandas as pd\n",
    "import numpy as np\n",
    "import re\n",
    "\n",
    "def drop_chars(dist): \n",
    "    return re.sub(\"[^\\d\\.]\", \"\", dist)\n",
    "\n",
    "#pd.set_option(\"display.max_rows\", None, \"display.max_columns\", None)"
   ]
  },
  {
   "cell_type": "code",
   "execution_count": 2,
   "metadata": {},
   "outputs": [],
   "source": [
    "us_state_to_abbrev = {\n",
    "    \"Alabama\": \"AL\",\n",
    "    \"Alaska\": \"AK\",\n",
    "    \"Arizona\": \"AZ\",\n",
    "    \"Arkansas\": \"AR\",\n",
    "    \"California\": \"CA\",\n",
    "    \"Colorado\": \"CO\",\n",
    "    \"Connecticut\": \"CT\",\n",
    "    \"Delaware\": \"DE\",\n",
    "    \"Florida\": \"FL\",\n",
    "    \"Georgia\": \"GA\",\n",
    "    \"Hawaii\": \"HI\",\n",
    "    \"Idaho\": \"ID\",\n",
    "    \"Illinois\": \"IL\",\n",
    "    \"Indiana\": \"IN\",\n",
    "    \"Iowa\": \"IA\",\n",
    "    \"Kansas\": \"KS\",\n",
    "    \"Kentucky\": \"KY\",\n",
    "    \"Louisiana\": \"LA\",\n",
    "    \"Maine\": \"ME\",\n",
    "    \"Maryland\": \"MD\",\n",
    "    \"Massachusetts\": \"MA\",\n",
    "    \"Michigan\": \"MI\",\n",
    "    \"Minnesota\": \"MN\",\n",
    "    \"Mississippi\": \"MS\",\n",
    "    \"Missouri\": \"MO\",\n",
    "    \"Montana\": \"MT\",\n",
    "    \"Nebraska\": \"NE\",\n",
    "    \"Nevada\": \"NV\",\n",
    "    \"New Hampshire\": \"NH\",\n",
    "    \"New Jersey\": \"NJ\",\n",
    "    \"New Mexico\": \"NM\",\n",
    "    \"New York\": \"NY\",\n",
    "    \"North Carolina\": \"NC\",\n",
    "    \"North Dakota\": \"ND\",\n",
    "    \"Ohio\": \"OH\",\n",
    "    \"Oklahoma\": \"OK\",\n",
    "    \"Oregon\": \"OR\",\n",
    "    \"Pennsylvania\": \"PA\",\n",
    "    \"Rhode Island\": \"RI\",\n",
    "    \"South Carolina\": \"SC\",\n",
    "    \"South Dakota\": \"SD\",\n",
    "    \"Tennessee\": \"TN\",\n",
    "    \"Texas\": \"TX\",\n",
    "    \"Utah\": \"UT\",\n",
    "    \"Vermont\": \"VT\",\n",
    "    \"Virginia\": \"VA\",\n",
    "    \"Washington\": \"WA\",\n",
    "    \"West Virginia\": \"WV\",\n",
    "    \"Wisconsin\": \"WI\",\n",
    "    \"Wyoming\": \"WY\",\n",
    "    \"District of Columbia\": \"DC\",\n",
    "    \"American Samoa\": \"AS\",\n",
    "    \"Guam\": \"GU\",\n",
    "    \"Northern Mariana Islands\": \"MP\",\n",
    "    \"Puerto Rico\": \"PR\",\n",
    "    \"United States Minor Outlying Islands\": \"UM\",\n",
    "    \"U.S. Virgin Islands\": \"VI\",\n",
    "}"
   ]
  },
  {
   "cell_type": "code",
   "execution_count": 3,
   "metadata": {},
   "outputs": [],
   "source": [
    "cart = pd.read_excel(\"/Users/xavier/Desktop/DSPP/solo_projects/redistricting_project/raw_data/cd_cart_square.xlsx\")"
   ]
  },
  {
   "cell_type": "code",
   "execution_count": 4,
   "metadata": {},
   "outputs": [
    {
     "data": {
      "text/plain": [
       "(435, 6)"
      ]
     },
     "execution_count": 4,
     "metadata": {},
     "output_type": "execute_result"
    }
   ],
   "source": [
    "cart.shape"
   ]
  },
  {
   "cell_type": "code",
   "execution_count": 5,
   "metadata": {},
   "outputs": [
    {
     "data": {
      "text/plain": [
       "(435, 7)"
      ]
     },
     "execution_count": 5,
     "metadata": {},
     "output_type": "execute_result"
    }
   ],
   "source": [
    "#create unique district codes\n",
    "cart[\"dist\"] = cart[\"dist\"].astype(str)\n",
    "cart[\"dist\"] = np.where(cart[\"dist\"].str[0] == \"0\", \"AL\", cart[\"dist\"])\n",
    "cart[\"ST#\"] = cart[\"ST\"] + cart[\"dist\"].astype(str)\n",
    "cart.shape"
   ]
  },
  {
   "cell_type": "code",
   "execution_count": 6,
   "metadata": {},
   "outputs": [],
   "source": [
    "#load in other relevant data\n",
    "data_118 = pd.read_csv(\"/Users/xavier/Desktop/DSPP/solo_projects/redistricting_project/clean_data/full_districts/data_118.csv\")\n",
    "converter = pd.read_csv(\"/Users/xavier/Desktop/DSPP/solo_projects/redistricting_project/processed/metric_converter.csv\")"
   ]
  },
  {
   "cell_type": "code",
   "execution_count": 7,
   "metadata": {},
   "outputs": [
    {
     "data": {
      "text/plain": [
       "435"
      ]
     },
     "execution_count": 7,
     "metadata": {},
     "output_type": "execute_result"
    }
   ],
   "source": [
    "len(data_118[\"ST#\"].unique())"
   ]
  },
  {
   "cell_type": "code",
   "execution_count": 8,
   "metadata": {},
   "outputs": [],
   "source": [
    "#merge\n",
    "cart = cart.merge(data_118.drop(columns=\"ST\"), on='ST#')\n",
    "cart = cart.merge(converter, on=\"metric\")"
   ]
  },
  {
   "cell_type": "code",
   "execution_count": 9,
   "metadata": {},
   "outputs": [
    {
     "name": "stdout",
     "output_type": "stream",
     "text": [
      "(435, 14)\n"
     ]
    },
    {
     "data": {
      "text/html": [
       "<div>\n",
       "<style scoped>\n",
       "    .dataframe tbody tr th:only-of-type {\n",
       "        vertical-align: middle;\n",
       "    }\n",
       "\n",
       "    .dataframe tbody tr th {\n",
       "        vertical-align: top;\n",
       "    }\n",
       "\n",
       "    .dataframe thead th {\n",
       "        text-align: right;\n",
       "    }\n",
       "</style>\n",
       "<table border=\"1\" class=\"dataframe\">\n",
       "  <thead>\n",
       "    <tr style=\"text-align: right;\">\n",
       "      <th></th>\n",
       "      <th>FIPS</th>\n",
       "      <th>X</th>\n",
       "      <th>Y</th>\n",
       "      <th>State</th>\n",
       "      <th>ST</th>\n",
       "      <th>dist</th>\n",
       "      <th>ST#</th>\n",
       "      <th>year</th>\n",
       "      <th>congress</th>\n",
       "      <th>PVI</th>\n",
       "      <th>metric</th>\n",
       "      <th>lean</th>\n",
       "      <th>pvi_range</th>\n",
       "      <th>prob_GOP</th>\n",
       "    </tr>\n",
       "  </thead>\n",
       "  <tbody>\n",
       "    <tr>\n",
       "      <th>0</th>\n",
       "      <td>1</td>\n",
       "      <td>24</td>\n",
       "      <td>24</td>\n",
       "      <td>Alabama</td>\n",
       "      <td>AL</td>\n",
       "      <td>4</td>\n",
       "      <td>AL4</td>\n",
       "      <td>2022</td>\n",
       "      <td>118</td>\n",
       "      <td>R+33</td>\n",
       "      <td>0.83</td>\n",
       "      <td>NaN</td>\n",
       "      <td>R+21+</td>\n",
       "      <td>1.000000</td>\n",
       "    </tr>\n",
       "    <tr>\n",
       "      <th>1</th>\n",
       "      <td>1</td>\n",
       "      <td>25</td>\n",
       "      <td>24</td>\n",
       "      <td>Alabama</td>\n",
       "      <td>AL</td>\n",
       "      <td>5</td>\n",
       "      <td>AL5</td>\n",
       "      <td>2022</td>\n",
       "      <td>118</td>\n",
       "      <td>R+17</td>\n",
       "      <td>0.67</td>\n",
       "      <td>NaN</td>\n",
       "      <td>R+8 to R+20</td>\n",
       "      <td>0.953509</td>\n",
       "    </tr>\n",
       "    <tr>\n",
       "      <th>2</th>\n",
       "      <td>1</td>\n",
       "      <td>25</td>\n",
       "      <td>26</td>\n",
       "      <td>Alabama</td>\n",
       "      <td>AL</td>\n",
       "      <td>2</td>\n",
       "      <td>AL2</td>\n",
       "      <td>2022</td>\n",
       "      <td>118</td>\n",
       "      <td>R+17</td>\n",
       "      <td>0.67</td>\n",
       "      <td>NaN</td>\n",
       "      <td>R+8 to R+20</td>\n",
       "      <td>0.953509</td>\n",
       "    </tr>\n",
       "    <tr>\n",
       "      <th>3</th>\n",
       "      <td>21</td>\n",
       "      <td>27</td>\n",
       "      <td>17</td>\n",
       "      <td>Kentucky</td>\n",
       "      <td>KY</td>\n",
       "      <td>4</td>\n",
       "      <td>KY4</td>\n",
       "      <td>2022</td>\n",
       "      <td>118</td>\n",
       "      <td>R+17</td>\n",
       "      <td>0.67</td>\n",
       "      <td>NaN</td>\n",
       "      <td>R+8 to R+20</td>\n",
       "      <td>0.953509</td>\n",
       "    </tr>\n",
       "    <tr>\n",
       "      <th>4</th>\n",
       "      <td>22</td>\n",
       "      <td>19</td>\n",
       "      <td>26</td>\n",
       "      <td>Louisiana</td>\n",
       "      <td>LA</td>\n",
       "      <td>5</td>\n",
       "      <td>LA5</td>\n",
       "      <td>2022</td>\n",
       "      <td>118</td>\n",
       "      <td>R+17</td>\n",
       "      <td>0.67</td>\n",
       "      <td>NaN</td>\n",
       "      <td>R+8 to R+20</td>\n",
       "      <td>0.953509</td>\n",
       "    </tr>\n",
       "  </tbody>\n",
       "</table>\n",
       "</div>"
      ],
      "text/plain": [
       "   FIPS   X   Y      State  ST dist  ST#  year  congress   PVI  metric lean  \\\n",
       "0     1  24  24    Alabama  AL    4  AL4  2022       118  R+33    0.83  NaN   \n",
       "1     1  25  24    Alabama  AL    5  AL5  2022       118  R+17    0.67  NaN   \n",
       "2     1  25  26    Alabama  AL    2  AL2  2022       118  R+17    0.67  NaN   \n",
       "3    21  27  17   Kentucky  KY    4  KY4  2022       118  R+17    0.67  NaN   \n",
       "4    22  19  26  Louisiana  LA    5  LA5  2022       118  R+17    0.67  NaN   \n",
       "\n",
       "     pvi_range  prob_GOP  \n",
       "0        R+21+  1.000000  \n",
       "1  R+8 to R+20  0.953509  \n",
       "2  R+8 to R+20  0.953509  \n",
       "3  R+8 to R+20  0.953509  \n",
       "4  R+8 to R+20  0.953509  "
      ]
     },
     "execution_count": 9,
     "metadata": {},
     "output_type": "execute_result"
    }
   ],
   "source": [
    "print(cart.shape)\n",
    "cart.head()"
   ]
  },
  {
   "cell_type": "code",
   "execution_count": 10,
   "metadata": {},
   "outputs": [],
   "source": [
    "prev_states = []\n",
    "cart['State Status'] = np.where(cart[\"ST\"].isin(prev_states), 'Incomplete Map', 'Complete Map')"
   ]
  },
  {
   "cell_type": "code",
   "execution_count": 11,
   "metadata": {},
   "outputs": [],
   "source": [
    "#import and format url\n",
    "url = \"https://ballotpedia.org/United_States_House_of_Representatives_elections,_2022\"\n",
    "page = pd.read_html(url)\n",
    "# Isolate the table of open seats\n",
    "os = page[4]\n",
    "# Remove lengthy column text\n",
    "os.columns = [\"seat\", \"incumbent\", \"reason\"]\n",
    "# Reformat to ST#\n",
    "os = os.seat.str.rsplit(' ', 1, expand=True)\n",
    "os.columns=[\"ST\",\"dist\"]\n",
    "os[\"ST\"] = os[\"ST\"].str.replace(\"'s\",\"\").str.replace(\"'\",\"\")\n",
    "os[\"dist\"] = os[\"dist\"].apply(drop_chars)\n",
    "os = os.replace({\"ST\": us_state_to_abbrev})\n",
    "open_list = list(os[\"ST\"] + os[\"dist\"])"
   ]
  },
  {
   "cell_type": "code",
   "execution_count": 12,
   "metadata": {},
   "outputs": [],
   "source": [
    "cart['Incumbency'] = np.where(cart[\"ST#\"].isin(open_list), 'Open Seat', 'Incumbent Running')"
   ]
  },
  {
   "cell_type": "code",
   "execution_count": 13,
   "metadata": {},
   "outputs": [],
   "source": [
    "X = np.repeat(1,23), np.repeat(2,23), np.repeat(3,23),np.repeat(4,23),np.repeat(5,21),np.repeat(6,19),np.repeat(7,17),np.repeat(8,15),np.repeat(9,13),np.repeat(10,11),np.repeat(11,9),np.repeat(12,7),np.repeat(13,5),np.repeat(14,3),np.repeat(15,3),np.repeat(16,1),np.repeat(17,1),np.repeat(21,1),np.repeat(25,1),np.repeat(26,1),np.repeat(27,3),np.repeat(28,3),np.repeat(29,5),np.repeat(30,7),np.repeat(31,9),np.repeat(32,11),np.repeat(33,13),np.repeat(34,15),np.repeat(35,17),np.repeat(36,19),np.repeat(37,21),np.repeat(38,23),np.repeat(39,23),np.repeat(40,23),np.repeat(41,23)"
   ]
  },
  {
   "cell_type": "code",
   "execution_count": 14,
   "metadata": {},
   "outputs": [],
   "source": [
    "#create a better range function\n",
    "def btw(j,k):\n",
    "    return list(range(j,k))"
   ]
  },
  {
   "cell_type": "code",
   "execution_count": 15,
   "metadata": {},
   "outputs": [],
   "source": [
    "Y = [btw(4,27),btw(4,27),btw(4,27),btw(4,27),btw(5,26),btw(6,25),btw(7,24),btw(8,23),btw(9,22),btw(10,21),btw(11,20),btw(12,19),btw(13,18),btw(14,17),btw(14,17),15,15,15,15,15,btw(14,17),btw(14,17),btw(13,18),btw(12,19),btw(11,20),btw(10,21),btw(9,22),btw(8,23),btw(7,24),btw(6,25),btw(5,26),btw(4,27),btw(4,27),btw(4,27),btw(4,27)]"
   ]
  },
  {
   "cell_type": "code",
   "execution_count": 16,
   "metadata": {},
   "outputs": [],
   "source": [
    "X = [item for sublist in X for item in sublist]\n",
    "from iteration_utilities import deepflatten\n",
    "Y = list(deepflatten(Y))"
   ]
  },
  {
   "cell_type": "code",
   "execution_count": 17,
   "metadata": {},
   "outputs": [
    {
     "name": "stdout",
     "output_type": "stream",
     "text": [
      "435 435\n"
     ]
    }
   ],
   "source": [
    "print(len(X),len(Y))"
   ]
  },
  {
   "cell_type": "code",
   "execution_count": 18,
   "metadata": {},
   "outputs": [
    {
     "data": {
      "text/plain": [
       "<matplotlib.collections.PathCollection at 0x7fe229297be0>"
      ]
     },
     "execution_count": 18,
     "metadata": {},
     "output_type": "execute_result"
    },
    {
     "data": {
      "image/png": "[encoded data removed]",
      "text/plain": [
       "<Figure size 432x288 with 1 Axes>"
      ]
     },
     "metadata": {
      "needs_background": "light"
     },
     "output_type": "display_data"
    }
   ],
   "source": [
    "div = cart.sort_values([\"metric\",\"ST\"])\n",
    "div = div.drop(columns=[\"X\",\"Y\"])\n",
    "div[\"X\"] = X\n",
    "div[\"Y\"] = Y\n",
    "#check shape\n",
    "import matplotlib.pyplot as plt\n",
    "plt.scatter(div.X,div.Y)"
   ]
  },
  {
   "cell_type": "code",
   "execution_count": 19,
   "metadata": {},
   "outputs": [],
   "source": [
    "cart[\"View\"] = \"Cartogram\"\n",
    "div[\"View\"] = \"Median District\""
   ]
  },
  {
   "cell_type": "code",
   "execution_count": 20,
   "metadata": {},
   "outputs": [],
   "source": [
    "square = pd.concat([cart,div])"
   ]
  },
  {
   "cell_type": "code",
   "execution_count": 21,
   "metadata": {},
   "outputs": [],
   "source": [
    "square.to_excel(\"/Users/xavier/Desktop/DSPP/solo_projects/redistricting_project/processed/cd_cart_square_118.xlsx\", index = False)"
   ]
  },
  {
   "cell_type": "code",
   "execution_count": 22,
   "metadata": {},
   "outputs": [],
   "source": [
    "#offset every other row so the hexes will align\n",
    "div[\"X\"] = np.where(((div[\"Y\"] % 2) != 0) & (div[\"X\"] > 22), div['X'], (div[\"X\"] - .5))\n",
    "div[\"X\"] = np.where(((div[\"Y\"] % 2) != 0) & (div[\"X\"] < 20), div['X'], (div[\"X\"] + .5))"
   ]
  },
  {
   "cell_type": "code",
   "execution_count": 23,
   "metadata": {},
   "outputs": [
    {
     "data": {
      "text/plain": [
       "<matplotlib.collections.PathCollection at 0x7fe22964ee80>"
      ]
     },
     "execution_count": 23,
     "metadata": {},
     "output_type": "execute_result"
    },
    {
     "data": {
      "image/png": "[encoded data removed]",
      "text/plain": [
       "<Figure size 432x288 with 1 Axes>"
      ]
     },
     "metadata": {
      "needs_background": "light"
     },
     "output_type": "display_data"
    }
   ],
   "source": [
    "#check shape\n",
    "import matplotlib.pyplot as plt\n",
    "plt.scatter(div.X,div.Y)"
   ]
  },
  {
   "cell_type": "code",
   "execution_count": 24,
   "metadata": {},
   "outputs": [],
   "source": [
    "#offset every other row so the hexes will align\n",
    "cart[\"X\"] = np.where((cart[\"Y\"] % 2) == 0, cart['X'], (cart[\"X\"] + .5))"
   ]
  },
  {
   "cell_type": "code",
   "execution_count": 25,
   "metadata": {},
   "outputs": [],
   "source": [
    "hexes = pd.concat([cart,div])"
   ]
  },
  {
   "cell_type": "code",
   "execution_count": 26,
   "metadata": {},
   "outputs": [],
   "source": [
    "hexes.to_excel(\"/Users/xavier/Desktop/DSPP/solo_projects/redistricting_project/processed/cd_cart_hex_118.xlsx\", index = False)"
   ]
  }
 ],
 "metadata": {
  "celltoolbar": "Raw Cell Format",
  "kernelspec": {
   "display_name": "Python 3",
   "language": "python",
   "name": "python3"
  },
  "language_info": {
   "codemirror_mode": {
    "name": "ipython",
    "version": 3
   },
   "file_extension": ".py",
   "mimetype": "text/x-python",
   "name": "python",
   "nbconvert_exporter": "python",
   "pygments_lexer": "ipython3",
   "version": "3.8.5"
  }
 },
 "nbformat": 4,
 "nbformat_minor": 4
}
