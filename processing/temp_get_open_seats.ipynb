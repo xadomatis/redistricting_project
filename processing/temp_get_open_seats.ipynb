{
 "cells": [
  {
   "cell_type": "code",
   "execution_count": 65,
   "metadata": {},
   "outputs": [],
   "source": [
    "import requests\n",
    "import pandas as pd\n",
    "import re\n",
    "\n",
    "def drop_chars(dist): \n",
    "    return re.sub(\"[^\\d\\.]\", \"\", dist)\n",
    "drop_chars(os[\"dist\"][0])\n",
    "\n",
    "pd.set_option(\"display.max_rows\", None, \"display.max_columns\", None)\n",
    "\n",
    "#call in a dictionary of state abbreviations\n"
   ]
  },
  {
   "cell_type": "code",
   "execution_count": 73,
   "metadata": {},
   "outputs": [],
   "source": [
    "#import and format url\n",
    "url = \"https://ballotpedia.org/United_States_House_of_Representatives_elections,_2022\"\n",
    "page = pd.read_html(url)\n",
    "# Isolate the table of open seats\n",
    "os = page[4]\n",
    "# Remove lengthy column text\n",
    "os.columns = [\"seat\", \"incumbent\", \"reason\"]\n",
    "# Reformat to ST#\n",
    "os = os.seat.str.rsplit(' ', 1, expand=True)\n",
    "os.columns=[\"ST\",\"dist\"]\n",
    "os[\"ST\"] = os[\"ST\"].str.replace(\"'s\",\"\").str.replace(\"'\",\"\")\n",
    "os[\"dist\"] = os[\"dist\"].apply(drop_chars)\n",
    "os = os.replace({\"ST\": us_state_to_abbrev})\n",
    "open_list = list(os[\"ST\"] + os[\"dist\"])"
   ]
  },
  {
   "cell_type": "code",
   "execution_count": 74,
   "metadata": {},
   "outputs": [
    {
     "data": {
      "text/plain": [
       "['AL5',\n",
       " 'AZ6',\n",
       " 'CA3',\n",
       " 'CA13',\n",
       " 'CA15',\n",
       " 'CA37',\n",
       " 'CA42',\n",
       " 'CO7',\n",
       " 'CO8',\n",
       " 'FL4',\n",
       " 'FL7',\n",
       " 'FL10',\n",
       " 'FL13',\n",
       " 'FL15',\n",
       " 'FL23',\n",
       " 'GA6',\n",
       " 'GA10',\n",
       " 'HI2',\n",
       " 'IL1',\n",
       " 'IL3',\n",
       " 'IL13',\n",
       " 'IL17',\n",
       " 'IN9',\n",
       " 'KY3',\n",
       " 'MD4',\n",
       " 'MI10',\n",
       " 'MI13',\n",
       " 'MO4',\n",
       " 'MO7',\n",
       " 'MT1',\n",
       " 'NJ8',\n",
       " 'NY10',\n",
       " 'NY18',\n",
       " 'NY22',\n",
       " 'NC1',\n",
       " 'NC4',\n",
       " 'NC13',\n",
       " 'NC14',\n",
       " 'OH13',\n",
       " 'OK2',\n",
       " 'OR4',\n",
       " 'OR6',\n",
       " 'PA12',\n",
       " 'PA17',\n",
       " 'TN5',\n",
       " 'TX1',\n",
       " 'TX8',\n",
       " 'TX15',\n",
       " 'TX30',\n",
       " 'TX35',\n",
       " 'TX38',\n",
       " 'VT',\n",
       " 'WI3']"
      ]
     },
     "execution_count": 74,
     "metadata": {},
     "output_type": "execute_result"
    }
   ],
   "source": [
    "open_list"
   ]
  },
  {
   "cell_type": "code",
   "execution_count": 54,
   "metadata": {},
   "outputs": [
    {
     "data": {
      "text/plain": [
       "'5'"
      ]
     },
     "execution_count": 54,
     "metadata": {},
     "output_type": "execute_result"
    }
   ],
   "source": []
  },
  {
   "cell_type": "code",
   "execution_count": 35,
   "metadata": {},
   "outputs": [],
   "source": []
  }
 ],
 "metadata": {
  "kernelspec": {
   "display_name": "Python 3",
   "language": "python",
   "name": "python3"
  },
  "language_info": {
   "codemirror_mode": {
    "name": "ipython",
    "version": 3
   },
   "file_extension": ".py",
   "mimetype": "text/x-python",
   "name": "python",
   "nbconvert_exporter": "python",
   "pygments_lexer": "ipython3",
   "version": "3.8.5"
  }
 },
 "nbformat": 4,
 "nbformat_minor": 4
}
