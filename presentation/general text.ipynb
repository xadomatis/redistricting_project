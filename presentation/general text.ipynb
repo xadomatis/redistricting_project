{
 "cells": [
  {
   "cell_type": "markdown",
   "metadata": {},
   "source": []
  },
  {
   "cell_type": "markdown",
   "metadata": {},
   "source": [
    "Premise for the Project:\n",
    "- Gerrymandering is the act of manipulating a legislative map for the purpose of over representing some votes and underrepresenting others\n",
    "- Many have tried to define gerrymandering using geographic measures to call out poorly shaped districts for distorting votes, but those critics miss key elements of using districts to protect voting groups\n",
    "- While Illinois' #th district looks bad, known as Chicago's ear muffs, it was actually drawn to protect latino votes by creating a majority hispanic district\n",
    "\n",
    "Goals:\n",
    "- This project seeks to look at gerrymandering as a deviation from a states partisan body- a non gerrymandered state that is 50-50 Republican and Democrat should have either only hyper-competitive districts or an even split of solidily partisan districts\n",
    "- For example, a state like Florida, which has 28 districts and is 3.5% more Republican than Democrat, should be able to achieve a 15-13 split in Congress if it was not gerrymandered, no matter how the districts are drawn\n",
    "- This is incredibly difficult to demonstrate looking at a map in general, because population density is not presented geographically\n",
    "- Through effective visualizations we can demonstrate the effects of gerrymandering across states\n",
    "- Since we have the data we can also show what the Congressional map will look like in the coming cycles, and use machine learning to assess possible outcomes during waves"
   ]
  },
  {
   "cell_type": "markdown",
   "metadata": {},
   "source": [
    "Sources for 2022:\n",
    "- Used 538's redistricting hub initially, but the PVI measure was incorrect and not reverse engineerible\n",
    "- 538 listed some districts as R+63 (impossible), and while halfing the PVI worked somewhat those results were incorrect without trend (two points in either direction)\n",
    "- PVI is equivalent to how much partisan a district voted than the national average, across two presidential races; a district rated R+47, for example, would have voted 100% for Trump in 2020 and 2016\n",
    "Historical Sources:\n",
    "- Cook does not keep old records in any aggregated way, and the individual files for past Congresses aren't even available beyond a paywall\n",
    "- Thankfully between wayback and wikipedia, I was able to gather metrics through 2006 and recreate 2004\n",
    "Data Implications:\n",
    "- Some states, like West Virginia and Kentucky, don't have good data in the primary data source (Dave's). Thankfully they don't have any remotely swingy districts where a revision of 538 wouldn't be valid\n",
    "- Florida is not as great; the map's friday passage has precluded good data from being used\n",
    "Other Implications:\n",
    "- New York's new map is going before the supreme court this week, and may be repealed\n",
    "- Florida's new map jumps Tampa bay and eliminates VRA districts, making a legal\n",
    "- North Carolina's new map is only valid for the 2022 cycle, and the legislature will have to replace it in 2024"
   ]
  },
  {
   "cell_type": "markdown",
   "metadata": {},
   "source": []
  },
  {
   "cell_type": "markdown",
   "metadata": {},
   "source": []
  },
  {
   "cell_type": "markdown",
   "metadata": {},
   "source": []
  },
  {
   "cell_type": "code",
   "execution_count": null,
   "metadata": {},
   "outputs": [],
   "source": []
  },
  {
   "cell_type": "code",
   "execution_count": null,
   "metadata": {},
   "outputs": [],
   "source": []
  }
 ],
 "metadata": {
  "kernelspec": {
   "display_name": "Python 3",
   "language": "python",
   "name": "python3"
  },
  "language_info": {
   "codemirror_mode": {
    "name": "ipython",
    "version": 3
   },
   "file_extension": ".py",
   "mimetype": "text/x-python",
   "name": "python",
   "nbconvert_exporter": "python",
   "pygments_lexer": "ipython3",
   "version": "3.8.5"
  }
 },
 "nbformat": 4,
 "nbformat_minor": 4
}
